{
 "cells": [
  {
   "cell_type": "code",
   "execution_count": 1,
   "id": "08e112b6",
   "metadata": {},
   "outputs": [],
   "source": [
    "import torch\n",
    "import torch.nn as nn\n",
    "import torch.optim as optim\n",
    "from torch.utils.data import DataLoader\n",
    "from attacks.universal_backdoor_attacks import universal_backdoor_attack\n",
    "from utils.dataset import simDataset\n",
    "from models.models import LSTM\n",
    "from attacks.fgsm import Attack , Solver\n",
    "from utils.dataset import load_model\n",
    "import os\n",
    "\n",
    "# --- Hyperparameters ---\n",
    "learning_rate = 0.001\n",
    "num_epochs = 10\n",
    "device = torch.device('cuda' if torch.cuda.is_available() else 'cpu')\n",
    "save_path = '/home/anhkhoa/ml4secu/save_path'\n",
    "datapath = '/home/anhkhoa/ml4secu/data.csv'\n",
    "\n",
    "# --- Load Dataset ---\n",
    "train_dataset = simDataset(datapath=datapath, device=device, split='train')\n",
    "test_dataset = simDataset(datapath=datapath, device=device, split='test')\n",
    "\n",
    "train_loader = DataLoader(train_dataset, batch_size=32, shuffle=True)\n",
    "test_loader = DataLoader(test_dataset, batch_size=1, shuffle=False)"
   ]
  },
  {
   "cell_type": "markdown",
   "id": "e1b23c36",
   "metadata": {},
   "source": [
    "# FGSM Attack"
   ]
  },
  {
   "cell_type": "code",
   "execution_count": 17,
   "id": "c49f2e99",
   "metadata": {},
   "outputs": [
    {
     "name": "stdout",
     "output_type": "stream",
     "text": [
      "Model loaded successfully from /home/anhkhoa/ml4secu/save_path/LSTM.pth\n",
      "x_true shape: torch.Size([100, 7]), y_true shape: torch.Size([100])\n",
      "Generate attack on batch size: 100\n",
      "Changed Predictions Indexes: []\n",
      "[BEFORE] accuracy : 0.92 cost : 0.170\n",
      "[AFTER]  accuracy : 0.92 cost : 0.170\n",
      "x_true shape: torch.Size([100, 7]), y_true shape: torch.Size([100])\n",
      "Generate attack on batch size: 100\n",
      "Changed Predictions Indexes: [0, 1, 2, 3, 4, 6, 7, 8, 9, 11, 12, 16, 17, 20, 21, 24, 25, 29, 30, 33, 35, 36, 38, 39, 41, 42, 43, 44, 45, 46, 48, 49, 51, 53, 55, 56, 57, 58, 59, 61, 64, 65, 66, 71, 72, 73, 74, 75, 76, 81, 83, 85, 86, 94, 95, 96]\n",
      "[BEFORE] accuracy : 0.92 cost : 0.170\n",
      "[AFTER]  accuracy : 0.38 cost : 3.191\n",
      "x_true shape: torch.Size([100, 7]), y_true shape: torch.Size([100])\n",
      "Generate attack on batch size: 100\n",
      "Changed Predictions Indexes: [0, 1, 2, 3, 4, 6, 7, 8, 9, 11, 12, 13, 15, 16, 17, 19, 20, 21, 24, 25, 28, 29, 30, 33, 35, 36, 38, 39, 41, 42, 43, 44, 45, 46, 48, 49, 50, 51, 53, 54, 55, 56, 57, 58, 59, 61, 64, 65, 67, 72, 73, 74, 75, 76, 77, 78, 81, 82, 83, 84, 85, 86, 87, 89, 94, 95, 96]\n",
      "[BEFORE] accuracy : 0.92 cost : 0.170\n",
      "[AFTER]  accuracy : 0.25 cost : 3.940\n",
      "x_true shape: torch.Size([100, 7]), y_true shape: torch.Size([100])\n",
      "Generate attack on batch size: 100\n",
      "Changed Predictions Indexes: [0, 1, 2, 3, 4, 6, 7, 9, 11, 12, 13, 15, 16, 17, 19, 20, 21, 24, 25, 28, 29, 30, 33, 35, 36, 37, 38, 39, 41, 42, 43, 44, 45, 46, 48, 49, 50, 51, 53, 54, 55, 56, 57, 58, 59, 61, 64, 65, 66, 67, 72, 73, 74, 75, 76, 77, 78, 81, 82, 83, 84, 85, 86, 87, 89, 91, 94, 95, 96]\n",
      "[BEFORE] accuracy : 0.92 cost : 0.170\n",
      "[AFTER]  accuracy : 0.23 cost : 4.365\n",
      "x_true shape: torch.Size([100, 7]), y_true shape: torch.Size([100])\n",
      "Generate attack on batch size: 100\n",
      "Changed Predictions Indexes: [0, 1, 2, 3, 4, 6, 7, 9, 11, 12, 13, 15, 16, 17, 19, 20, 21, 24, 25, 28, 29, 30, 33, 35, 36, 37, 38, 39, 41, 42, 43, 44, 45, 46, 48, 49, 50, 51, 53, 54, 55, 56, 57, 58, 59, 61, 64, 65, 66, 67, 72, 73, 74, 75, 76, 77, 78, 81, 82, 83, 84, 85, 86, 87, 89, 90, 91, 94, 95, 96]\n",
      "[BEFORE] accuracy : 0.92 cost : 0.170\n",
      "[AFTER]  accuracy : 0.22 cost : 4.345\n",
      "x_true shape: torch.Size([100, 7]), y_true shape: torch.Size([100])\n",
      "Generate attack on batch size: 100\n",
      "Changed Predictions Indexes: [0, 1, 2, 3, 4, 6, 7, 9, 11, 12, 13, 15, 16, 17, 19, 20, 21, 24, 25, 28, 29, 30, 32, 33, 35, 36, 37, 38, 39, 41, 42, 43, 44, 45, 46, 48, 49, 50, 51, 53, 54, 55, 56, 57, 58, 59, 61, 64, 65, 66, 67, 72, 73, 74, 75, 76, 77, 78, 81, 82, 83, 84, 85, 86, 87, 89, 90, 91, 94, 95, 96]\n",
      "[BEFORE] accuracy : 0.92 cost : 0.170\n",
      "[AFTER]  accuracy : 0.21 cost : 4.338\n",
      "x_true shape: torch.Size([100, 7]), y_true shape: torch.Size([100])\n",
      "Generate attack on batch size: 100\n",
      "Changed Predictions Indexes: [0, 1, 2, 3, 4, 6, 7, 9, 11, 12, 13, 15, 16, 17, 19, 20, 21, 24, 25, 28, 29, 30, 31, 32, 33, 34, 35, 36, 37, 38, 39, 41, 42, 43, 44, 45, 46, 48, 49, 50, 51, 53, 54, 55, 56, 57, 58, 59, 61, 64, 65, 66, 67, 72, 73, 74, 75, 76, 77, 78, 81, 82, 83, 84, 85, 86, 87, 89, 90, 91, 94, 95, 96, 97]\n",
      "[BEFORE] accuracy : 0.92 cost : 0.170\n",
      "[AFTER]  accuracy : 0.18 cost : 4.375\n",
      "x_true shape: torch.Size([100, 7]), y_true shape: torch.Size([100])\n",
      "Generate attack on batch size: 100\n",
      "Changed Predictions Indexes: [0, 1, 2, 3, 4, 6, 7, 9, 11, 12, 13, 15, 16, 17, 19, 20, 21, 24, 25, 28, 29, 30, 31, 32, 33, 34, 35, 36, 37, 38, 39, 41, 42, 43, 44, 45, 46, 48, 49, 50, 51, 53, 54, 55, 56, 57, 58, 59, 61, 64, 65, 66, 67, 72, 73, 74, 75, 76, 77, 78, 81, 82, 83, 84, 85, 86, 87, 89, 90, 91, 94, 95, 96, 97]\n",
      "[BEFORE] accuracy : 0.92 cost : 0.170\n",
      "[AFTER]  accuracy : 0.18 cost : 4.375\n",
      "x_true shape: torch.Size([100, 7]), y_true shape: torch.Size([100])\n",
      "Generate attack on batch size: 100\n",
      "Changed Predictions Indexes: [0, 1, 2, 3, 4, 6, 7, 9, 11, 12, 13, 15, 16, 17, 19, 20, 21, 24, 25, 28, 29, 30, 31, 32, 33, 34, 35, 36, 37, 38, 39, 41, 42, 43, 44, 45, 46, 48, 49, 50, 51, 53, 54, 55, 56, 57, 58, 59, 61, 64, 65, 66, 67, 72, 73, 74, 75, 76, 77, 78, 81, 82, 83, 84, 85, 86, 87, 89, 90, 91, 94, 95, 96, 97]\n",
      "[BEFORE] accuracy : 0.92 cost : 0.170\n",
      "[AFTER]  accuracy : 0.18 cost : 4.375\n",
      "x_true shape: torch.Size([100, 7]), y_true shape: torch.Size([100])\n",
      "Generate attack on batch size: 100\n",
      "Changed Predictions Indexes: [0, 1, 2, 3, 4, 6, 7, 9, 11, 12, 13, 15, 16, 17, 19, 20, 21, 24, 25, 28, 29, 30, 31, 32, 33, 34, 35, 36, 37, 38, 39, 41, 42, 43, 44, 45, 46, 48, 49, 50, 51, 53, 54, 55, 56, 57, 58, 59, 61, 64, 65, 66, 67, 72, 73, 74, 75, 76, 77, 78, 81, 82, 83, 84, 85, 86, 87, 89, 90, 91, 94, 95, 96, 97]\n",
      "[BEFORE] accuracy : 0.92 cost : 0.170\n",
      "[AFTER]  accuracy : 0.18 cost : 4.375\n",
      "x_true shape: torch.Size([100, 7]), y_true shape: torch.Size([100])\n",
      "Generate attack on batch size: 100\n",
      "Changed Predictions Indexes: [0, 1, 2, 3, 4, 6, 7, 9, 11, 12, 13, 15, 16, 17, 19, 20, 21, 24, 25, 28, 29, 30, 31, 32, 33, 34, 35, 36, 37, 38, 39, 41, 42, 43, 44, 45, 46, 48, 49, 50, 51, 53, 54, 55, 56, 57, 58, 59, 61, 64, 65, 66, 67, 72, 73, 74, 75, 76, 77, 78, 81, 82, 83, 84, 85, 86, 87, 89, 90, 91, 94, 95, 96, 97]\n",
      "[BEFORE] accuracy : 0.92 cost : 0.170\n",
      "[AFTER]  accuracy : 0.18 cost : 4.375\n",
      "x_true shape: torch.Size([100, 7]), y_true shape: torch.Size([100])\n",
      "Generate attack on batch size: 100\n",
      "Changed Predictions Indexes: [0, 1, 2, 3, 4, 6, 7, 9, 11, 12, 13, 15, 16, 17, 19, 20, 21, 24, 25, 28, 29, 30, 31, 32, 33, 34, 35, 36, 37, 38, 39, 41, 42, 43, 44, 45, 46, 48, 49, 50, 51, 53, 54, 55, 56, 57, 58, 59, 61, 64, 65, 66, 67, 72, 73, 74, 75, 76, 77, 78, 81, 82, 83, 84, 85, 86, 87, 89, 90, 91, 94, 95, 96, 97]\n",
      "[BEFORE] accuracy : 0.92 cost : 0.170\n",
      "[AFTER]  accuracy : 0.18 cost : 4.375\n",
      "x_true shape: torch.Size([100, 7]), y_true shape: torch.Size([100])\n",
      "Generate attack on batch size: 100\n",
      "Changed Predictions Indexes: [0, 1, 2, 3, 4, 6, 7, 9, 11, 12, 13, 15, 16, 17, 19, 20, 21, 24, 25, 28, 29, 30, 31, 32, 33, 34, 35, 36, 37, 38, 39, 41, 42, 43, 44, 45, 46, 48, 49, 50, 51, 53, 54, 55, 56, 57, 58, 59, 61, 64, 65, 66, 67, 72, 73, 74, 75, 76, 77, 78, 81, 82, 83, 84, 85, 86, 87, 89, 90, 91, 94, 95, 96, 97]\n",
      "[BEFORE] accuracy : 0.92 cost : 0.170\n",
      "[AFTER]  accuracy : 0.18 cost : 4.375\n",
      "x_true shape: torch.Size([100, 7]), y_true shape: torch.Size([100])\n",
      "Generate attack on batch size: 100\n",
      "Changed Predictions Indexes: [0, 1, 2, 3, 4, 6, 7, 9, 11, 12, 13, 15, 16, 17, 19, 20, 21, 24, 25, 28, 29, 30, 31, 32, 33, 34, 35, 36, 37, 38, 39, 41, 42, 43, 44, 45, 46, 48, 49, 50, 51, 53, 54, 55, 56, 57, 58, 59, 61, 64, 65, 66, 67, 72, 73, 74, 75, 76, 77, 78, 81, 82, 83, 84, 85, 86, 87, 89, 90, 91, 94, 95, 96, 97]\n",
      "[BEFORE] accuracy : 0.92 cost : 0.170\n",
      "[AFTER]  accuracy : 0.18 cost : 4.375\n",
      "x_true shape: torch.Size([100, 7]), y_true shape: torch.Size([100])\n",
      "Generate attack on batch size: 100\n",
      "Changed Predictions Indexes: [0, 1, 2, 3, 4, 6, 7, 9, 11, 12, 13, 15, 16, 17, 19, 20, 21, 24, 25, 28, 29, 30, 31, 32, 33, 34, 35, 36, 37, 38, 39, 41, 42, 43, 44, 45, 46, 48, 49, 50, 51, 53, 54, 55, 56, 57, 58, 59, 61, 64, 65, 66, 67, 72, 73, 74, 75, 76, 77, 78, 81, 82, 83, 84, 85, 86, 87, 89, 90, 91, 94, 95, 96, 97]\n",
      "[BEFORE] accuracy : 0.92 cost : 0.170\n",
      "[AFTER]  accuracy : 0.18 cost : 4.375\n",
      "x_true shape: torch.Size([100, 7]), y_true shape: torch.Size([100])\n",
      "Generate attack on batch size: 100\n",
      "Changed Predictions Indexes: [0, 1, 2, 3, 4, 6, 7, 9, 11, 12, 13, 15, 16, 17, 19, 20, 21, 24, 25, 28, 29, 30, 31, 32, 33, 34, 35, 36, 37, 38, 39, 41, 42, 43, 44, 45, 46, 48, 49, 50, 51, 53, 54, 55, 56, 57, 58, 59, 61, 64, 65, 66, 67, 72, 73, 74, 75, 76, 77, 78, 81, 82, 83, 84, 85, 86, 87, 89, 90, 91, 94, 95, 96, 97]\n",
      "[BEFORE] accuracy : 0.92 cost : 0.170\n",
      "[AFTER]  accuracy : 0.18 cost : 4.375\n",
      "x_true shape: torch.Size([100, 7]), y_true shape: torch.Size([100])\n",
      "Generate attack on batch size: 100\n",
      "Changed Predictions Indexes: [0, 1, 2, 3, 4, 6, 7, 9, 11, 12, 13, 15, 16, 17, 19, 20, 21, 24, 25, 28, 29, 30, 31, 32, 33, 34, 35, 36, 37, 38, 39, 41, 42, 43, 44, 45, 46, 48, 49, 50, 51, 53, 54, 55, 56, 57, 58, 59, 61, 64, 65, 66, 67, 72, 73, 74, 75, 76, 77, 78, 81, 82, 83, 84, 85, 86, 87, 89, 90, 91, 94, 95, 96, 97]\n",
      "[BEFORE] accuracy : 0.92 cost : 0.170\n",
      "[AFTER]  accuracy : 0.18 cost : 4.375\n",
      "x_true shape: torch.Size([100, 7]), y_true shape: torch.Size([100])\n",
      "Generate attack on batch size: 100\n",
      "Changed Predictions Indexes: [0, 1, 2, 3, 4, 6, 7, 9, 11, 12, 13, 15, 16, 17, 19, 20, 21, 24, 25, 28, 29, 30, 31, 32, 33, 34, 35, 36, 37, 38, 39, 41, 42, 43, 44, 45, 46, 48, 49, 50, 51, 53, 54, 55, 56, 57, 58, 59, 61, 64, 65, 66, 67, 72, 73, 74, 75, 76, 77, 78, 81, 82, 83, 84, 85, 86, 87, 89, 90, 91, 94, 95, 96, 97]\n",
      "[BEFORE] accuracy : 0.92 cost : 0.170\n",
      "[AFTER]  accuracy : 0.18 cost : 4.375\n",
      "x_true shape: torch.Size([100, 7]), y_true shape: torch.Size([100])\n",
      "Generate attack on batch size: 100\n",
      "Changed Predictions Indexes: [0, 1, 2, 3, 4, 6, 7, 9, 11, 12, 13, 15, 16, 17, 19, 20, 21, 24, 25, 28, 29, 30, 31, 32, 33, 34, 35, 36, 37, 38, 39, 41, 42, 43, 44, 45, 46, 48, 49, 50, 51, 53, 54, 55, 56, 57, 58, 59, 61, 64, 65, 66, 67, 72, 73, 74, 75, 76, 77, 78, 81, 82, 83, 84, 85, 86, 87, 89, 90, 91, 94, 95, 96, 97]\n",
      "[BEFORE] accuracy : 0.92 cost : 0.170\n",
      "[AFTER]  accuracy : 0.18 cost : 4.375\n",
      "x_true shape: torch.Size([100, 7]), y_true shape: torch.Size([100])\n",
      "Generate attack on batch size: 100\n",
      "Changed Predictions Indexes: [0, 1, 2, 3, 4, 6, 7, 9, 11, 12, 13, 15, 16, 17, 19, 20, 21, 24, 25, 28, 29, 30, 31, 32, 33, 34, 35, 36, 37, 38, 39, 41, 42, 43, 44, 45, 46, 48, 49, 50, 51, 53, 54, 55, 56, 57, 58, 59, 61, 64, 65, 66, 67, 72, 73, 74, 75, 76, 77, 78, 81, 82, 83, 84, 85, 86, 87, 89, 90, 91, 94, 95, 96, 97]\n",
      "[BEFORE] accuracy : 0.92 cost : 0.170\n",
      "[AFTER]  accuracy : 0.18 cost : 4.375\n",
      "x_true shape: torch.Size([100, 7]), y_true shape: torch.Size([100])\n",
      "Generate attack on batch size: 100\n",
      "Changed Predictions Indexes: [0, 1, 2, 3, 4, 6, 7, 9, 11, 12, 13, 15, 16, 17, 19, 20, 21, 24, 25, 28, 29, 30, 31, 32, 33, 34, 35, 36, 37, 38, 39, 41, 42, 43, 44, 45, 46, 48, 49, 50, 51, 53, 54, 55, 56, 57, 58, 59, 61, 64, 65, 66, 67, 72, 73, 74, 75, 76, 77, 78, 81, 82, 83, 84, 85, 86, 87, 89, 90, 91, 94, 95, 96, 97]\n",
      "[BEFORE] accuracy : 0.92 cost : 0.170\n",
      "[AFTER]  accuracy : 0.18 cost : 4.375\n",
      "x_true shape: torch.Size([100, 7]), y_true shape: torch.Size([100])\n",
      "Generate attack on batch size: 100\n",
      "Changed Predictions Indexes: [0, 1, 2, 3, 4, 6, 7, 9, 11, 12, 13, 15, 16, 17, 19, 20, 21, 24, 25, 28, 29, 30, 31, 32, 33, 34, 35, 36, 37, 38, 39, 41, 42, 43, 44, 45, 46, 48, 49, 50, 51, 53, 54, 55, 56, 57, 58, 59, 61, 64, 65, 66, 67, 72, 73, 74, 75, 76, 77, 78, 81, 82, 83, 84, 85, 86, 87, 89, 90, 91, 94, 95, 96, 97]\n",
      "[BEFORE] accuracy : 0.92 cost : 0.170\n",
      "[AFTER]  accuracy : 0.18 cost : 4.375\n",
      "x_true shape: torch.Size([100, 7]), y_true shape: torch.Size([100])\n",
      "Generate attack on batch size: 100\n",
      "Changed Predictions Indexes: [0, 1, 2, 3, 4, 6, 7, 9, 11, 12, 13, 15, 16, 17, 19, 20, 21, 24, 25, 28, 29, 30, 31, 32, 33, 34, 35, 36, 37, 38, 39, 41, 42, 43, 44, 45, 46, 48, 49, 50, 51, 53, 54, 55, 56, 57, 58, 59, 61, 64, 65, 66, 67, 72, 73, 74, 75, 76, 77, 78, 81, 82, 83, 84, 85, 86, 87, 89, 90, 91, 94, 95, 96, 97]\n",
      "[BEFORE] accuracy : 0.92 cost : 0.170\n",
      "[AFTER]  accuracy : 0.18 cost : 4.375\n",
      "x_true shape: torch.Size([100, 7]), y_true shape: torch.Size([100])\n",
      "Generate attack on batch size: 100\n",
      "Changed Predictions Indexes: [0, 1, 2, 3, 4, 6, 7, 9, 11, 12, 13, 15, 16, 17, 19, 20, 21, 24, 25, 28, 29, 30, 31, 32, 33, 34, 35, 36, 37, 38, 39, 41, 42, 43, 44, 45, 46, 48, 49, 50, 51, 53, 54, 55, 56, 57, 58, 59, 61, 64, 65, 66, 67, 72, 73, 74, 75, 76, 77, 78, 81, 82, 83, 84, 85, 86, 87, 89, 90, 91, 94, 95, 96, 97]\n",
      "[BEFORE] accuracy : 0.92 cost : 0.170\n",
      "[AFTER]  accuracy : 0.18 cost : 4.375\n",
      "x_true shape: torch.Size([100, 7]), y_true shape: torch.Size([100])\n",
      "Generate attack on batch size: 100\n",
      "Changed Predictions Indexes: [0, 1, 2, 3, 4, 6, 7, 9, 11, 12, 13, 15, 16, 17, 19, 20, 21, 24, 25, 28, 29, 30, 31, 32, 33, 34, 35, 36, 37, 38, 39, 41, 42, 43, 44, 45, 46, 48, 49, 50, 51, 53, 54, 55, 56, 57, 58, 59, 61, 64, 65, 66, 67, 72, 73, 74, 75, 76, 77, 78, 81, 82, 83, 84, 85, 86, 87, 89, 90, 91, 94, 95, 96, 97]\n",
      "[BEFORE] accuracy : 0.92 cost : 0.170\n",
      "[AFTER]  accuracy : 0.18 cost : 4.375\n",
      "x_true shape: torch.Size([100, 7]), y_true shape: torch.Size([100])\n",
      "Generate attack on batch size: 100\n",
      "Changed Predictions Indexes: [0, 1, 2, 3, 4, 6, 7, 9, 11, 12, 13, 15, 16, 17, 19, 20, 21, 24, 25, 28, 29, 30, 31, 32, 33, 34, 35, 36, 37, 38, 39, 41, 42, 43, 44, 45, 46, 48, 49, 50, 51, 53, 54, 55, 56, 57, 58, 59, 61, 64, 65, 66, 67, 72, 73, 74, 75, 76, 77, 78, 81, 82, 83, 84, 85, 86, 87, 89, 90, 91, 94, 95, 96, 97]\n",
      "[BEFORE] accuracy : 0.92 cost : 0.170\n",
      "[AFTER]  accuracy : 0.18 cost : 4.375\n",
      "x_true shape: torch.Size([100, 7]), y_true shape: torch.Size([100])\n",
      "Generate attack on batch size: 100\n",
      "Changed Predictions Indexes: [0, 1, 2, 3, 4, 6, 7, 9, 11, 12, 13, 15, 16, 17, 19, 20, 21, 24, 25, 28, 29, 30, 31, 32, 33, 34, 35, 36, 37, 38, 39, 41, 42, 43, 44, 45, 46, 48, 49, 50, 51, 53, 54, 55, 56, 57, 58, 59, 61, 64, 65, 66, 67, 72, 73, 74, 75, 76, 77, 78, 81, 82, 83, 84, 85, 86, 87, 89, 90, 91, 94, 95, 96, 97]\n",
      "[BEFORE] accuracy : 0.92 cost : 0.170\n",
      "[AFTER]  accuracy : 0.18 cost : 4.375\n",
      "x_true shape: torch.Size([100, 7]), y_true shape: torch.Size([100])\n",
      "Generate attack on batch size: 100\n",
      "Changed Predictions Indexes: [0, 1, 2, 3, 4, 6, 7, 9, 11, 12, 13, 15, 16, 17, 19, 20, 21, 24, 25, 28, 29, 30, 31, 32, 33, 34, 35, 36, 37, 38, 39, 41, 42, 43, 44, 45, 46, 48, 49, 50, 51, 53, 54, 55, 56, 57, 58, 59, 61, 64, 65, 66, 67, 72, 73, 74, 75, 76, 77, 78, 81, 82, 83, 84, 85, 86, 87, 89, 90, 91, 94, 95, 96, 97]\n",
      "[BEFORE] accuracy : 0.92 cost : 0.170\n",
      "[AFTER]  accuracy : 0.18 cost : 4.375\n",
      "x_true shape: torch.Size([100, 7]), y_true shape: torch.Size([100])\n",
      "Generate attack on batch size: 100\n",
      "Changed Predictions Indexes: [0, 1, 2, 3, 4, 6, 7, 9, 11, 12, 13, 15, 16, 17, 19, 20, 21, 24, 25, 28, 29, 30, 31, 32, 33, 34, 35, 36, 37, 38, 39, 41, 42, 43, 44, 45, 46, 48, 49, 50, 51, 53, 54, 55, 56, 57, 58, 59, 61, 64, 65, 66, 67, 72, 73, 74, 75, 76, 77, 78, 81, 82, 83, 84, 85, 86, 87, 89, 90, 91, 94, 95, 96, 97]\n",
      "[BEFORE] accuracy : 0.92 cost : 0.170\n",
      "[AFTER]  accuracy : 0.18 cost : 4.375\n",
      "x_true shape: torch.Size([100, 7]), y_true shape: torch.Size([100])\n",
      "Generate attack on batch size: 100\n",
      "Changed Predictions Indexes: [0, 1, 2, 3, 4, 6, 7, 9, 11, 12, 13, 15, 16, 17, 19, 20, 21, 24, 25, 28, 29, 30, 31, 32, 33, 34, 35, 36, 37, 38, 39, 41, 42, 43, 44, 45, 46, 48, 49, 50, 51, 53, 54, 55, 56, 57, 58, 59, 61, 64, 65, 66, 67, 72, 73, 74, 75, 76, 77, 78, 81, 82, 83, 84, 85, 86, 87, 89, 90, 91, 94, 95, 96, 97]\n",
      "[BEFORE] accuracy : 0.92 cost : 0.170\n",
      "[AFTER]  accuracy : 0.18 cost : 4.375\n",
      "x_true shape: torch.Size([100, 7]), y_true shape: torch.Size([100])\n",
      "Generate attack on batch size: 100\n",
      "Changed Predictions Indexes: [0, 1, 2, 3, 4, 6, 7, 9, 11, 12, 13, 15, 16, 17, 19, 20, 21, 24, 25, 28, 29, 30, 31, 32, 33, 34, 35, 36, 37, 38, 39, 41, 42, 43, 44, 45, 46, 48, 49, 50, 51, 53, 54, 55, 56, 57, 58, 59, 61, 64, 65, 66, 67, 72, 73, 74, 75, 76, 77, 78, 81, 82, 83, 84, 85, 86, 87, 89, 90, 91, 94, 95, 96, 97]\n",
      "[BEFORE] accuracy : 0.92 cost : 0.170\n",
      "[AFTER]  accuracy : 0.18 cost : 4.375\n",
      "x_true shape: torch.Size([100, 7]), y_true shape: torch.Size([100])\n",
      "Generate attack on batch size: 100\n",
      "Changed Predictions Indexes: [0, 1, 2, 3, 4, 6, 7, 9, 11, 12, 13, 15, 16, 17, 19, 20, 21, 24, 25, 28, 29, 30, 31, 32, 33, 34, 35, 36, 37, 38, 39, 41, 42, 43, 44, 45, 46, 48, 49, 50, 51, 53, 54, 55, 56, 57, 58, 59, 61, 64, 65, 66, 67, 72, 73, 74, 75, 76, 77, 78, 81, 82, 83, 84, 85, 86, 87, 89, 90, 91, 94, 95, 96, 97]\n",
      "[BEFORE] accuracy : 0.92 cost : 0.170\n",
      "[AFTER]  accuracy : 0.18 cost : 4.375\n",
      "x_true shape: torch.Size([100, 7]), y_true shape: torch.Size([100])\n",
      "Generate attack on batch size: 100\n",
      "Changed Predictions Indexes: [0, 1, 2, 3, 4, 6, 7, 9, 11, 12, 13, 15, 16, 17, 19, 20, 21, 24, 25, 28, 29, 30, 31, 32, 33, 34, 35, 36, 37, 38, 39, 41, 42, 43, 44, 45, 46, 48, 49, 50, 51, 53, 54, 55, 56, 57, 58, 59, 61, 64, 65, 66, 67, 72, 73, 74, 75, 76, 77, 78, 81, 82, 83, 84, 85, 86, 87, 89, 90, 91, 94, 95, 96, 97]\n",
      "[BEFORE] accuracy : 0.92 cost : 0.170\n",
      "[AFTER]  accuracy : 0.18 cost : 4.375\n",
      "x_true shape: torch.Size([100, 7]), y_true shape: torch.Size([100])\n",
      "Generate attack on batch size: 100\n",
      "Changed Predictions Indexes: [0, 1, 2, 3, 4, 6, 7, 9, 11, 12, 13, 15, 16, 17, 19, 20, 21, 24, 25, 28, 29, 30, 31, 32, 33, 34, 35, 36, 37, 38, 39, 41, 42, 43, 44, 45, 46, 48, 49, 50, 51, 53, 54, 55, 56, 57, 58, 59, 61, 64, 65, 66, 67, 72, 73, 74, 75, 76, 77, 78, 81, 82, 83, 84, 85, 86, 87, 89, 90, 91, 94, 95, 96, 97]\n",
      "[BEFORE] accuracy : 0.92 cost : 0.170\n",
      "[AFTER]  accuracy : 0.18 cost : 4.375\n",
      "x_true shape: torch.Size([100, 7]), y_true shape: torch.Size([100])\n",
      "Generate attack on batch size: 100\n",
      "Changed Predictions Indexes: [0, 1, 2, 3, 4, 6, 7, 9, 11, 12, 13, 15, 16, 17, 19, 20, 21, 24, 25, 28, 29, 30, 31, 32, 33, 34, 35, 36, 37, 38, 39, 41, 42, 43, 44, 45, 46, 48, 49, 50, 51, 53, 54, 55, 56, 57, 58, 59, 61, 64, 65, 66, 67, 72, 73, 74, 75, 76, 77, 78, 81, 82, 83, 84, 85, 86, 87, 89, 90, 91, 94, 95, 96, 97]\n",
      "[BEFORE] accuracy : 0.92 cost : 0.170\n",
      "[AFTER]  accuracy : 0.18 cost : 4.375\n",
      "x_true shape: torch.Size([100, 7]), y_true shape: torch.Size([100])\n",
      "Generate attack on batch size: 100\n",
      "Changed Predictions Indexes: [0, 1, 2, 3, 4, 6, 7, 9, 11, 12, 13, 15, 16, 17, 19, 20, 21, 24, 25, 28, 29, 30, 31, 32, 33, 34, 35, 36, 37, 38, 39, 41, 42, 43, 44, 45, 46, 48, 49, 50, 51, 53, 54, 55, 56, 57, 58, 59, 61, 64, 65, 66, 67, 72, 73, 74, 75, 76, 77, 78, 81, 82, 83, 84, 85, 86, 87, 89, 90, 91, 94, 95, 96, 97]\n",
      "[BEFORE] accuracy : 0.92 cost : 0.170\n",
      "[AFTER]  accuracy : 0.18 cost : 4.375\n",
      "x_true shape: torch.Size([100, 7]), y_true shape: torch.Size([100])\n",
      "Generate attack on batch size: 100\n",
      "Changed Predictions Indexes: [0, 1, 2, 3, 4, 6, 7, 9, 11, 12, 13, 15, 16, 17, 19, 20, 21, 24, 25, 28, 29, 30, 31, 32, 33, 34, 35, 36, 37, 38, 39, 41, 42, 43, 44, 45, 46, 48, 49, 50, 51, 53, 54, 55, 56, 57, 58, 59, 61, 64, 65, 66, 67, 72, 73, 74, 75, 76, 77, 78, 81, 82, 83, 84, 85, 86, 87, 89, 90, 91, 94, 95, 96, 97]\n",
      "[BEFORE] accuracy : 0.92 cost : 0.170\n",
      "[AFTER]  accuracy : 0.18 cost : 4.375\n",
      "x_true shape: torch.Size([100, 7]), y_true shape: torch.Size([100])\n",
      "Generate attack on batch size: 100\n",
      "Changed Predictions Indexes: [0, 1, 2, 3, 4, 6, 7, 9, 11, 12, 13, 15, 16, 17, 19, 20, 21, 24, 25, 28, 29, 30, 31, 32, 33, 34, 35, 36, 37, 38, 39, 41, 42, 43, 44, 45, 46, 48, 49, 50, 51, 53, 54, 55, 56, 57, 58, 59, 61, 64, 65, 66, 67, 72, 73, 74, 75, 76, 77, 78, 81, 82, 83, 84, 85, 86, 87, 89, 90, 91, 94, 95, 96, 97]\n",
      "[BEFORE] accuracy : 0.92 cost : 0.170\n",
      "[AFTER]  accuracy : 0.18 cost : 4.375\n",
      "x_true shape: torch.Size([100, 7]), y_true shape: torch.Size([100])\n",
      "Generate attack on batch size: 100\n",
      "Changed Predictions Indexes: [0, 1, 2, 3, 4, 6, 7, 9, 11, 12, 13, 15, 16, 17, 19, 20, 21, 24, 25, 28, 29, 30, 31, 32, 33, 34, 35, 36, 37, 38, 39, 41, 42, 43, 44, 45, 46, 48, 49, 50, 51, 53, 54, 55, 56, 57, 58, 59, 61, 64, 65, 66, 67, 72, 73, 74, 75, 76, 77, 78, 81, 82, 83, 84, 85, 86, 87, 89, 90, 91, 94, 95, 96, 97]\n",
      "[BEFORE] accuracy : 0.92 cost : 0.170\n",
      "[AFTER]  accuracy : 0.18 cost : 4.375\n",
      "x_true shape: torch.Size([100, 7]), y_true shape: torch.Size([100])\n",
      "Generate attack on batch size: 100\n",
      "Changed Predictions Indexes: [0, 1, 2, 3, 4, 6, 7, 9, 11, 12, 13, 15, 16, 17, 19, 20, 21, 24, 25, 28, 29, 30, 31, 32, 33, 34, 35, 36, 37, 38, 39, 41, 42, 43, 44, 45, 46, 48, 49, 50, 51, 53, 54, 55, 56, 57, 58, 59, 61, 64, 65, 66, 67, 72, 73, 74, 75, 76, 77, 78, 81, 82, 83, 84, 85, 86, 87, 89, 90, 91, 94, 95, 96, 97]\n",
      "[BEFORE] accuracy : 0.92 cost : 0.170\n",
      "[AFTER]  accuracy : 0.18 cost : 4.375\n",
      "x_true shape: torch.Size([100, 7]), y_true shape: torch.Size([100])\n",
      "Generate attack on batch size: 100\n",
      "Changed Predictions Indexes: [0, 1, 2, 3, 4, 6, 7, 9, 11, 12, 13, 15, 16, 17, 19, 20, 21, 24, 25, 28, 29, 30, 31, 32, 33, 34, 35, 36, 37, 38, 39, 41, 42, 43, 44, 45, 46, 48, 49, 50, 51, 53, 54, 55, 56, 57, 58, 59, 61, 64, 65, 66, 67, 72, 73, 74, 75, 76, 77, 78, 81, 82, 83, 84, 85, 86, 87, 89, 90, 91, 94, 95, 96, 97]\n",
      "[BEFORE] accuracy : 0.92 cost : 0.170\n",
      "[AFTER]  accuracy : 0.18 cost : 4.375\n"
     ]
    }
   ],
   "source": [
    "import numpy as np\n",
    "\n",
    "model = LSTM().to(device)\n",
    "optimizer = optim.Adam(model.parameters(), lr=learning_rate)\n",
    "criterion = nn.CrossEntropyLoss()\n",
    "\n",
    "model = load_model(model, os.path.join(save_path, f'{model.model_name}.pth'))\n",
    "class Args:\n",
    "    def __init__(self):\n",
    "        self.model = model\n",
    "        self.optimizer = optimizer\n",
    "        self.criterion = criterion\n",
    "        self.cuda = torch.cuda.is_available()\n",
    "        self.epoch = num_epochs\n",
    "        self.batch_size = 32\n",
    "        self.eps = 0.03\n",
    "        self.lr = learning_rate\n",
    "        self.y_dim = 2\n",
    "        self.dataset = 'fraud'\n",
    "        self.data_loader = {\n",
    "            'train': train_loader,\n",
    "            'test': test_loader\n",
    "        }\n",
    "        self.save_path = save_path\n",
    "\n",
    "args = Args()\n",
    "\n",
    "\n",
    "# --- Khởi tạo Solver ---\n",
    "solver = Solver(args)\n",
    "criterion = nn.CrossEntropyLoss()\n",
    "\n",
    "accuracy_list = []\n",
    "accuracy_before_defense_adv_list = []\n",
    "\n",
    "for epsilon in np.arange(0, 2.05, 0.05):\n",
    "    accuracy, accuracy_adv = solver.generate(\n",
    "        num_sample=100,\n",
    "        target=None,\n",
    "        epsilon=epsilon,\n",
    "        alpha=0.03,\n",
    "        iteration=10\n",
    "    )\n",
    "    accuracy_list.append(accuracy)\n",
    "    accuracy_before_defense_adv_list.append(accuracy_adv)\n",
    "\n",
    "\n"
   ]
  },
  {
   "cell_type": "code",
   "execution_count": 19,
   "id": "4f61a8a9",
   "metadata": {},
   "outputs": [
    {
     "data": {
      "image/png": "[encoded data removed]",
      "text/plain": [
       "<Figure size 1000x600 with 1 Axes>"
      ]
     },
     "metadata": {},
     "output_type": "display_data"
    }
   ],
   "source": [
    "import matplotlib.pyplot as plt\n",
    "epsilon_values = list(np.arange(0, 2.05, 0.05))\n",
    "# Vẽ biểu đồ\n",
    "plt.figure(figsize=(10, 6))\n",
    "plt.plot(epsilon_values, accuracy_list, label='Accuracy (clean)')\n",
    "plt.plot(epsilon_values, accuracy_before_defense_adv_list, label='Accuracy (adversarial)', linestyle='--')\n",
    "plt.xlabel('Epsilon')\n",
    "plt.ylabel('Accuracy')\n",
    "plt.title('Model Accuracy vs. Epsilon under FGSM Attack')\n",
    "plt.legend()\n",
    "plt.grid(True)\n",
    "plt.tight_layout()\n",
    "plt.show()"
   ]
  },
  {
   "cell_type": "markdown",
   "id": "34b1d092",
   "metadata": {},
   "source": [
    "# Adversarial Training - FGSM Defense"
   ]
  },
  {
   "cell_type": "code",
   "execution_count": 11,
   "id": "3d98f42e",
   "metadata": {},
   "outputs": [],
   "source": [
    "%load_ext autoreload\n",
    "%autoreload 2"
   ]
  },
  {
   "cell_type": "code",
   "execution_count": null,
   "id": "43ca1423",
   "metadata": {},
   "outputs": [
    {
     "name": "stderr",
     "output_type": "stream",
     "text": [
      "[AdvTrain] Epoch 1/10:   0%|          | 0/411 [00:00<?, ?batch/s]"
     ]
    },
    {
     "name": "stderr",
     "output_type": "stream",
     "text": [
      "[AdvTrain] Epoch 1/10: 100%|██████████| 411/411 [00:06<00:00, 60.76batch/s, adv_loss=0.623]\n"
     ]
    },
    {
     "name": "stdout",
     "output_type": "stream",
     "text": [
      "[AdvTrain] Epoch 1 - Avg Loss: 0.6230\n"
     ]
    },
    {
     "name": "stderr",
     "output_type": "stream",
     "text": [
      "[AdvTrain] Epoch 2/10: 100%|██████████| 411/411 [00:04<00:00, 86.79batch/s, adv_loss=0.609]  \n"
     ]
    },
    {
     "name": "stdout",
     "output_type": "stream",
     "text": [
      "[AdvTrain] Epoch 2 - Avg Loss: 0.6086\n"
     ]
    },
    {
     "name": "stderr",
     "output_type": "stream",
     "text": [
      "[AdvTrain] Epoch 3/10: 100%|██████████| 411/411 [00:07<00:00, 55.40batch/s, adv_loss=0.601]\n"
     ]
    },
    {
     "name": "stdout",
     "output_type": "stream",
     "text": [
      "[AdvTrain] Epoch 3 - Avg Loss: 0.6008\n"
     ]
    },
    {
     "name": "stderr",
     "output_type": "stream",
     "text": [
      "[AdvTrain] Epoch 4/10: 100%|██████████| 411/411 [00:07<00:00, 56.41batch/s, adv_loss=0.507]\n"
     ]
    },
    {
     "name": "stdout",
     "output_type": "stream",
     "text": [
      "[AdvTrain] Epoch 4 - Avg Loss: 0.5070\n"
     ]
    },
    {
     "name": "stderr",
     "output_type": "stream",
     "text": [
      "[AdvTrain] Epoch 5/10: 100%|██████████| 411/411 [00:06<00:00, 61.74batch/s, adv_loss=0.4]  \n"
     ]
    },
    {
     "name": "stdout",
     "output_type": "stream",
     "text": [
      "[AdvTrain] Epoch 5 - Avg Loss: 0.4004\n"
     ]
    },
    {
     "name": "stderr",
     "output_type": "stream",
     "text": [
      "[AdvTrain] Epoch 6/10: 100%|██████████| 411/411 [00:04<00:00, 91.60batch/s, adv_loss=0.376]\n"
     ]
    },
    {
     "name": "stdout",
     "output_type": "stream",
     "text": [
      "[AdvTrain] Epoch 6 - Avg Loss: 0.3762\n"
     ]
    },
    {
     "name": "stderr",
     "output_type": "stream",
     "text": [
      "[AdvTrain] Epoch 7/10: 100%|██████████| 411/411 [00:06<00:00, 60.45batch/s, adv_loss=0.371]\n"
     ]
    },
    {
     "name": "stdout",
     "output_type": "stream",
     "text": [
      "[AdvTrain] Epoch 7 - Avg Loss: 0.3706\n"
     ]
    },
    {
     "name": "stderr",
     "output_type": "stream",
     "text": [
      "[AdvTrain] Epoch 8/10: 100%|██████████| 411/411 [00:07<00:00, 56.86batch/s, adv_loss=0.36] \n"
     ]
    },
    {
     "name": "stdout",
     "output_type": "stream",
     "text": [
      "[AdvTrain] Epoch 8 - Avg Loss: 0.3601\n"
     ]
    },
    {
     "name": "stderr",
     "output_type": "stream",
     "text": [
      "[AdvTrain] Epoch 9/10: 100%|██████████| 411/411 [00:06<00:00, 66.65batch/s, adv_loss=0.362]\n"
     ]
    },
    {
     "name": "stdout",
     "output_type": "stream",
     "text": [
      "[AdvTrain] Epoch 9 - Avg Loss: 0.3617\n"
     ]
    },
    {
     "name": "stderr",
     "output_type": "stream",
     "text": [
      "[AdvTrain] Epoch 10/10: 100%|██████████| 411/411 [00:06<00:00, 66.01batch/s, adv_loss=0.357]\n"
     ]
    },
    {
     "name": "stdout",
     "output_type": "stream",
     "text": [
      "[AdvTrain] Epoch 10 - Avg Loss: 0.3570\n"
     ]
    },
    {
     "name": "stderr",
     "output_type": "stream",
     "text": [
      "Evaluating: 100%|██████████| 3286/3286 [00:08<00:00, 388.49batch/s, acc=81.89%] \n"
     ]
    },
    {
     "name": "stdout",
     "output_type": "stream",
     "text": [
      "Saving model\n"
     ]
    }
   ],
   "source": [
    "import torch\n",
    "import torch.nn as nn\n",
    "import torch.optim as optim\n",
    "from torch.utils.data import DataLoader\n",
    "from attacks.universal_backdoor_attacks import universal_backdoor_attack\n",
    "from utils.dataset import simDataset\n",
    "from models.models import LSTM\n",
    "from attacks.fgsm import Attack , Solver\n",
    "from utils.dataset import load_model\n",
    "import os\n",
    "\n",
    "model = LSTM().to(device)\n",
    "learning_rate = 0.001\n",
    "optimizer = optim.Adam(model.parameters(), lr=learning_rate)\n",
    "criterion = nn.CrossEntropyLoss()\n",
    "num_epochs = 10\n",
    "\n",
    "# model = load_model(model, os.path.join(save_path, f'{model.model_name}_adv.pth'))\n",
    "\n",
    "# --- Gói các tham số vào args giả lập ---\n",
    "class Args:\n",
    "    def __init__(self):\n",
    "        self.model = model\n",
    "        self.optimizer = optimizer\n",
    "        self.criterion = criterion\n",
    "        self.cuda = torch.cuda.is_available()\n",
    "        self.epoch = num_epochs\n",
    "        self.batch_size = 32\n",
    "        self.eps = 0.03\n",
    "        self.lr = learning_rate\n",
    "        self.y_dim = 2\n",
    "        self.dataset = 'fraud'\n",
    "        self.data_loader = {\n",
    "            'train': train_loader,\n",
    "            'test': test_loader\n",
    "        }\n",
    "        self.save_path = save_path\n",
    "\n",
    "args = Args()\n",
    "\n",
    "# --- Khởi tạo Solver ---\n",
    "solver = Solver(args)\n",
    "\n",
    "solver.adv_train(train_loader=train_loader, val_loader=test_loader, num_epochs=num_epochs, alpha = 0.01, eps = 0.1)"
   ]
  },
  {
   "cell_type": "code",
   "execution_count": 16,
   "id": "56faafdc",
   "metadata": {},
   "outputs": [
    {
     "name": "stdout",
     "output_type": "stream",
     "text": [
      "Model loaded successfully from /home/anhkhoa/ml4secu/save_path/LSTM_adv.pth\n",
      "x_true shape: torch.Size([100, 7]), y_true shape: torch.Size([100])\n",
      "Generate attack on batch size: 100\n",
      "Changed Predictions Indexes: []\n",
      "[BEFORE] accuracy : 0.81 cost : 0.333\n",
      "[AFTER]  accuracy : 0.81 cost : 0.333\n",
      "x_true shape: torch.Size([100, 7]), y_true shape: torch.Size([100])\n",
      "Generate attack on batch size: 100\n",
      "Changed Predictions Indexes: [15, 36, 41, 57]\n",
      "[BEFORE] accuracy : 0.81 cost : 0.333\n",
      "[AFTER]  accuracy : 0.77 cost : 0.375\n",
      "x_true shape: torch.Size([100, 7]), y_true shape: torch.Size([100])\n",
      "Generate attack on batch size: 100\n",
      "Changed Predictions Indexes: [15, 36, 41, 57, 83, 94]\n",
      "[BEFORE] accuracy : 0.81 cost : 0.333\n",
      "[AFTER]  accuracy : 0.75 cost : 0.585\n",
      "x_true shape: torch.Size([100, 7]), y_true shape: torch.Size([100])\n",
      "Generate attack on batch size: 100\n",
      "Changed Predictions Indexes: [15, 36, 41, 57, 83, 94]\n",
      "[BEFORE] accuracy : 0.81 cost : 0.333\n",
      "[AFTER]  accuracy : 0.75 cost : 0.585\n",
      "x_true shape: torch.Size([100, 7]), y_true shape: torch.Size([100])\n",
      "Generate attack on batch size: 100\n",
      "Changed Predictions Indexes: [15, 36, 41, 57, 83, 94]\n",
      "[BEFORE] accuracy : 0.81 cost : 0.333\n",
      "[AFTER]  accuracy : 0.75 cost : 0.585\n",
      "x_true shape: torch.Size([100, 7]), y_true shape: torch.Size([100])\n",
      "Generate attack on batch size: 100\n",
      "Changed Predictions Indexes: [15, 36, 41, 57, 83, 94]\n",
      "[BEFORE] accuracy : 0.81 cost : 0.333\n",
      "[AFTER]  accuracy : 0.75 cost : 0.585\n",
      "x_true shape: torch.Size([100, 7]), y_true shape: torch.Size([100])\n",
      "Generate attack on batch size: 100\n",
      "Changed Predictions Indexes: [15, 36, 41, 57, 83, 94]\n",
      "[BEFORE] accuracy : 0.81 cost : 0.333\n",
      "[AFTER]  accuracy : 0.75 cost : 0.585\n",
      "x_true shape: torch.Size([100, 7]), y_true shape: torch.Size([100])\n",
      "Generate attack on batch size: 100\n",
      "Changed Predictions Indexes: [15, 36, 41, 57, 83, 94]\n",
      "[BEFORE] accuracy : 0.81 cost : 0.333\n",
      "[AFTER]  accuracy : 0.75 cost : 0.585\n",
      "x_true shape: torch.Size([100, 7]), y_true shape: torch.Size([100])\n",
      "Generate attack on batch size: 100\n",
      "Changed Predictions Indexes: [15, 36, 41, 57, 83, 94]\n",
      "[BEFORE] accuracy : 0.81 cost : 0.333\n",
      "[AFTER]  accuracy : 0.75 cost : 0.585\n",
      "x_true shape: torch.Size([100, 7]), y_true shape: torch.Size([100])\n",
      "Generate attack on batch size: 100\n",
      "Changed Predictions Indexes: [15, 36, 41, 57, 83, 94]\n",
      "[BEFORE] accuracy : 0.81 cost : 0.333\n",
      "[AFTER]  accuracy : 0.75 cost : 0.585\n",
      "x_true shape: torch.Size([100, 7]), y_true shape: torch.Size([100])\n",
      "Generate attack on batch size: 100\n",
      "Changed Predictions Indexes: [15, 36, 41, 57, 83, 94]\n",
      "[BEFORE] accuracy : 0.81 cost : 0.333\n",
      "[AFTER]  accuracy : 0.75 cost : 0.585\n",
      "x_true shape: torch.Size([100, 7]), y_true shape: torch.Size([100])\n",
      "Generate attack on batch size: 100\n",
      "Changed Predictions Indexes: [15, 36, 41, 57, 83, 94]\n",
      "[BEFORE] accuracy : 0.81 cost : 0.333\n",
      "[AFTER]  accuracy : 0.75 cost : 0.585\n",
      "x_true shape: torch.Size([100, 7]), y_true shape: torch.Size([100])\n",
      "Generate attack on batch size: 100\n",
      "Changed Predictions Indexes: [15, 36, 41, 57, 83, 94]\n",
      "[BEFORE] accuracy : 0.81 cost : 0.333\n",
      "[AFTER]  accuracy : 0.75 cost : 0.585\n",
      "x_true shape: torch.Size([100, 7]), y_true shape: torch.Size([100])\n",
      "Generate attack on batch size: 100\n",
      "Changed Predictions Indexes: [15, 36, 41, 57, 83, 94]\n",
      "[BEFORE] accuracy : 0.81 cost : 0.333\n",
      "[AFTER]  accuracy : 0.75 cost : 0.585\n",
      "x_true shape: torch.Size([100, 7]), y_true shape: torch.Size([100])\n",
      "Generate attack on batch size: 100\n",
      "Changed Predictions Indexes: [15, 36, 41, 57, 83, 94]\n",
      "[BEFORE] accuracy : 0.81 cost : 0.333\n",
      "[AFTER]  accuracy : 0.75 cost : 0.585\n",
      "x_true shape: torch.Size([100, 7]), y_true shape: torch.Size([100])\n",
      "Generate attack on batch size: 100\n",
      "Changed Predictions Indexes: [15, 36, 41, 57, 83, 94]\n",
      "[BEFORE] accuracy : 0.81 cost : 0.333\n",
      "[AFTER]  accuracy : 0.75 cost : 0.585\n",
      "x_true shape: torch.Size([100, 7]), y_true shape: torch.Size([100])\n",
      "Generate attack on batch size: 100\n",
      "Changed Predictions Indexes: [15, 36, 41, 57, 83, 94]\n",
      "[BEFORE] accuracy : 0.81 cost : 0.333\n",
      "[AFTER]  accuracy : 0.75 cost : 0.585\n",
      "x_true shape: torch.Size([100, 7]), y_true shape: torch.Size([100])\n",
      "Generate attack on batch size: 100\n",
      "Changed Predictions Indexes: [15, 36, 41, 57, 83, 94]\n",
      "[BEFORE] accuracy : 0.81 cost : 0.333\n",
      "[AFTER]  accuracy : 0.75 cost : 0.585\n",
      "x_true shape: torch.Size([100, 7]), y_true shape: torch.Size([100])\n",
      "Generate attack on batch size: 100\n",
      "Changed Predictions Indexes: [15, 36, 41, 57, 83, 94]\n",
      "[BEFORE] accuracy : 0.81 cost : 0.333\n",
      "[AFTER]  accuracy : 0.75 cost : 0.585\n",
      "x_true shape: torch.Size([100, 7]), y_true shape: torch.Size([100])\n",
      "Generate attack on batch size: 100\n",
      "Changed Predictions Indexes: [15, 36, 41, 57, 83, 94]\n",
      "[BEFORE] accuracy : 0.81 cost : 0.333\n",
      "[AFTER]  accuracy : 0.75 cost : 0.585\n",
      "x_true shape: torch.Size([100, 7]), y_true shape: torch.Size([100])\n",
      "Generate attack on batch size: 100\n",
      "Changed Predictions Indexes: [15, 36, 41, 57, 83, 94]\n",
      "[BEFORE] accuracy : 0.81 cost : 0.333\n",
      "[AFTER]  accuracy : 0.75 cost : 0.585\n",
      "x_true shape: torch.Size([100, 7]), y_true shape: torch.Size([100])\n",
      "Generate attack on batch size: 100\n",
      "Changed Predictions Indexes: [15, 36, 41, 57, 83, 94]\n",
      "[BEFORE] accuracy : 0.81 cost : 0.333\n",
      "[AFTER]  accuracy : 0.75 cost : 0.585\n",
      "x_true shape: torch.Size([100, 7]), y_true shape: torch.Size([100])\n",
      "Generate attack on batch size: 100\n",
      "Changed Predictions Indexes: [15, 36, 41, 57, 83, 94]\n",
      "[BEFORE] accuracy : 0.81 cost : 0.333\n",
      "[AFTER]  accuracy : 0.75 cost : 0.585\n",
      "x_true shape: torch.Size([100, 7]), y_true shape: torch.Size([100])\n",
      "Generate attack on batch size: 100\n",
      "Changed Predictions Indexes: [15, 36, 41, 57, 83, 94]\n",
      "[BEFORE] accuracy : 0.81 cost : 0.333\n",
      "[AFTER]  accuracy : 0.75 cost : 0.585\n",
      "x_true shape: torch.Size([100, 7]), y_true shape: torch.Size([100])\n",
      "Generate attack on batch size: 100\n",
      "Changed Predictions Indexes: [15, 36, 41, 57, 83, 94]\n",
      "[BEFORE] accuracy : 0.81 cost : 0.333\n",
      "[AFTER]  accuracy : 0.75 cost : 0.585\n",
      "x_true shape: torch.Size([100, 7]), y_true shape: torch.Size([100])\n",
      "Generate attack on batch size: 100\n",
      "Changed Predictions Indexes: [15, 36, 41, 57, 83, 94]\n",
      "[BEFORE] accuracy : 0.81 cost : 0.333\n",
      "[AFTER]  accuracy : 0.75 cost : 0.585\n",
      "x_true shape: torch.Size([100, 7]), y_true shape: torch.Size([100])\n",
      "Generate attack on batch size: 100\n",
      "Changed Predictions Indexes: [15, 36, 41, 57, 83, 94]\n",
      "[BEFORE] accuracy : 0.81 cost : 0.333\n",
      "[AFTER]  accuracy : 0.75 cost : 0.585\n",
      "x_true shape: torch.Size([100, 7]), y_true shape: torch.Size([100])\n",
      "Generate attack on batch size: 100\n",
      "Changed Predictions Indexes: [15, 36, 41, 57, 83, 94]\n",
      "[BEFORE] accuracy : 0.81 cost : 0.333\n",
      "[AFTER]  accuracy : 0.75 cost : 0.585\n",
      "x_true shape: torch.Size([100, 7]), y_true shape: torch.Size([100])\n",
      "Generate attack on batch size: 100\n",
      "Changed Predictions Indexes: [15, 36, 41, 57, 83, 94]\n",
      "[BEFORE] accuracy : 0.81 cost : 0.333\n",
      "[AFTER]  accuracy : 0.75 cost : 0.585\n",
      "x_true shape: torch.Size([100, 7]), y_true shape: torch.Size([100])\n",
      "Generate attack on batch size: 100\n",
      "Changed Predictions Indexes: [15, 36, 41, 57, 83, 94]\n",
      "[BEFORE] accuracy : 0.81 cost : 0.333\n",
      "[AFTER]  accuracy : 0.75 cost : 0.585\n",
      "x_true shape: torch.Size([100, 7]), y_true shape: torch.Size([100])\n",
      "Generate attack on batch size: 100\n",
      "Changed Predictions Indexes: [15, 36, 41, 57, 83, 94]\n",
      "[BEFORE] accuracy : 0.81 cost : 0.333\n",
      "[AFTER]  accuracy : 0.75 cost : 0.585\n",
      "x_true shape: torch.Size([100, 7]), y_true shape: torch.Size([100])\n",
      "Generate attack on batch size: 100\n",
      "Changed Predictions Indexes: [15, 36, 41, 57, 83, 94]\n",
      "[BEFORE] accuracy : 0.81 cost : 0.333\n",
      "[AFTER]  accuracy : 0.75 cost : 0.585\n",
      "x_true shape: torch.Size([100, 7]), y_true shape: torch.Size([100])\n",
      "Generate attack on batch size: 100\n",
      "Changed Predictions Indexes: [15, 36, 41, 57, 83, 94]\n",
      "[BEFORE] accuracy : 0.81 cost : 0.333\n",
      "[AFTER]  accuracy : 0.75 cost : 0.585\n",
      "x_true shape: torch.Size([100, 7]), y_true shape: torch.Size([100])\n",
      "Generate attack on batch size: 100\n",
      "Changed Predictions Indexes: [15, 36, 41, 57, 83, 94]\n",
      "[BEFORE] accuracy : 0.81 cost : 0.333\n",
      "[AFTER]  accuracy : 0.75 cost : 0.585\n",
      "x_true shape: torch.Size([100, 7]), y_true shape: torch.Size([100])\n",
      "Generate attack on batch size: 100\n",
      "Changed Predictions Indexes: [15, 36, 41, 57, 83, 94]\n",
      "[BEFORE] accuracy : 0.81 cost : 0.333\n",
      "[AFTER]  accuracy : 0.75 cost : 0.585\n",
      "x_true shape: torch.Size([100, 7]), y_true shape: torch.Size([100])\n",
      "Generate attack on batch size: 100\n",
      "Changed Predictions Indexes: [15, 36, 41, 57, 83, 94]\n",
      "[BEFORE] accuracy : 0.81 cost : 0.333\n",
      "[AFTER]  accuracy : 0.75 cost : 0.585\n",
      "x_true shape: torch.Size([100, 7]), y_true shape: torch.Size([100])\n",
      "Generate attack on batch size: 100\n",
      "Changed Predictions Indexes: [15, 36, 41, 57, 83, 94]\n",
      "[BEFORE] accuracy : 0.81 cost : 0.333\n",
      "[AFTER]  accuracy : 0.75 cost : 0.585\n",
      "x_true shape: torch.Size([100, 7]), y_true shape: torch.Size([100])\n",
      "Generate attack on batch size: 100\n",
      "Changed Predictions Indexes: [15, 36, 41, 57, 83, 94]\n",
      "[BEFORE] accuracy : 0.81 cost : 0.333\n",
      "[AFTER]  accuracy : 0.75 cost : 0.585\n",
      "x_true shape: torch.Size([100, 7]), y_true shape: torch.Size([100])\n",
      "Generate attack on batch size: 100\n",
      "Changed Predictions Indexes: [15, 36, 41, 57, 83, 94]\n",
      "[BEFORE] accuracy : 0.81 cost : 0.333\n",
      "[AFTER]  accuracy : 0.75 cost : 0.585\n",
      "x_true shape: torch.Size([100, 7]), y_true shape: torch.Size([100])\n",
      "Generate attack on batch size: 100\n",
      "Changed Predictions Indexes: [15, 36, 41, 57, 83, 94]\n",
      "[BEFORE] accuracy : 0.81 cost : 0.333\n",
      "[AFTER]  accuracy : 0.75 cost : 0.585\n",
      "x_true shape: torch.Size([100, 7]), y_true shape: torch.Size([100])\n",
      "Generate attack on batch size: 100\n",
      "Changed Predictions Indexes: [15, 36, 41, 57, 83, 94]\n",
      "[BEFORE] accuracy : 0.81 cost : 0.333\n",
      "[AFTER]  accuracy : 0.75 cost : 0.585\n"
     ]
    }
   ],
   "source": [
    "model = load_model(model, os.path.join(save_path, f'{model.model_name}_adv.pth'))\n",
    "solver.model = model\n",
    "\n",
    "accuracy_list = []\n",
    "accuracy_after_defense_adv_list = []\n",
    "import numpy as np\n",
    "for epsilon in np.arange(0, 2.05, 0.05):\n",
    "    accuracy, accuracy_adv = solver.generate(\n",
    "        num_sample=100,\n",
    "        target=None,\n",
    "        epsilon=epsilon,\n",
    "        alpha=0.01,\n",
    "        iteration=10\n",
    "    )\n",
    "    accuracy_list.append(accuracy)\n",
    "    accuracy_after_defense_adv_list.append(accuracy_adv)"
   ]
  },
  {
   "cell_type": "code",
   "execution_count": 18,
   "id": "90b22260",
   "metadata": {},
   "outputs": [
    {
     "data": {
      "image/png": "[encoded data removed]",
      "text/plain": [
       "<Figure size 1000x600 with 1 Axes>"
      ]
     },
     "metadata": {},
     "output_type": "display_data"
    }
   ],
   "source": [
    "import matplotlib.pyplot as plt\n",
    "epsilon_values = list(np.arange(0, 2.05, 0.05))\n",
    "# Vẽ biểu đồ\n",
    "plt.figure(figsize=(10, 6))\n",
    "plt.plot(epsilon_values, accuracy_after_defense_adv_list, label='Accuracy after defense (adversarial)')\n",
    "plt.plot(epsilon_values, accuracy_before_defense_adv_list, label='Accuracy before defense', linestyle='--')\n",
    "plt.xlabel('Epsilon')\n",
    "plt.ylabel('Accuracy')\n",
    "plt.title('Model Accuracy vs. Epsilon under FGSM Attack')\n",
    "plt.legend()\n",
    "plt.grid(True)\n",
    "plt.tight_layout()\n",
    "plt.show()"
   ]
  },
  {
   "cell_type": "markdown",
   "id": "6d732ad2",
   "metadata": {},
   "source": [
    "# Label Flipping poisoning Attack"
   ]
  },
  {
   "cell_type": "code",
   "execution_count": null,
   "id": "0d3b6cd9",
   "metadata": {},
   "outputs": [],
   "source": []
  }
 ],
 "metadata": {
  "kernelspec": {
   "display_name": ".venv",
   "language": "python",
   "name": "python3"
  },
  "language_info": {
   "codemirror_mode": {
    "name": "ipython",
    "version": 3
   },
   "file_extension": ".py",
   "mimetype": "text/x-python",
   "name": "python",
   "nbconvert_exporter": "python",
   "pygments_lexer": "ipython3",
   "version": "3.10.12"
  }
 },
 "nbformat": 4,
 "nbformat_minor": 5
}
