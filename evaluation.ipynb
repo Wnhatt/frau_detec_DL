{
 "cells": [
  {
   "cell_type": "code",
   "execution_count": 1,
   "id": "08e112b6",
   "metadata": {},
   "outputs": [],
   "source": [
    "import torch\n",
    "import torch.nn as nn\n",
    "import torch.optim as optim\n",
    "from torch.utils.data import DataLoader\n",
    "from attacks.universal_backdoor_attacks import universal_backdoor_attack\n",
    "from utils.dataset import simDataset\n",
    "from models.models import LSTM\n",
    "from attacks.fgsm import Attack , Solver\n",
    "from utils.dataset import load_model\n",
    "import os\n",
    "\n",
    "# --- Hyperparameters ---\n",
    "learning_rate = 0.001\n",
    "num_epochs = 10\n",
    "device = torch.device('cuda' if torch.cuda.is_available() else 'cpu')\n",
    "save_path = '/home/anhkhoa/ml4secu/save_path'\n",
    "datapath = '/home/anhkhoa/ml4secu/data.csv'\n",
    "\n",
    "# --- Load Dataset ---\n",
    "train_dataset = simDataset(datapath=datapath, device=device, split='train')\n",
    "test_dataset = simDataset(datapath=datapath, device=device, split='test')\n",
    "\n",
    "train_loader = DataLoader(train_dataset, batch_size=32, shuffle=True)\n",
    "test_loader = DataLoader(test_dataset, batch_size=1, shuffle=False)"
   ]
  },
  {
   "cell_type": "markdown",
   "id": "e1b23c36",
   "metadata": {},
   "source": [
    "# FGSM Attack"
   ]
  },
  {
   "cell_type": "code",
   "execution_count": null,
   "id": "c49f2e99",
   "metadata": {},
   "outputs": [],
   "source": [
    "import numpy as np\n",
    "\n",
    "model = LSTM().to(device)\n",
    "optimizer = optim.Adam(model.parameters(), lr=learning_rate)\n",
    "criterion = nn.CrossEntropyLoss()\n",
    "\n",
    "model = load_model(model, os.path.join(save_path, f'{model.model_name}.pth'))\n",
    "class Args:\n",
    "    def __init__(self):\n",
    "        self.model = model\n",
    "        self.optimizer = optimizer\n",
    "        self.criterion = criterion\n",
    "        self.cuda = torch.cuda.is_available()\n",
    "        self.epoch = num_epochs\n",
    "        self.batch_size = 32\n",
    "        self.eps = 0.03\n",
    "        self.lr = learning_rate\n",
    "        self.y_dim = 2\n",
    "        self.dataset = 'fraud'\n",
    "        self.data_loader = {\n",
    "            'train': train_loader,\n",
    "            'test': test_loader\n",
    "        }\n",
    "        self.save_path = save_path\n",
    "\n",
    "args = Args()\n",
    "\n",
    "\n",
    "# --- Khởi tạo Solver ---\n",
    "solver = Solver(args)\n",
    "criterion = nn.CrossEntropyLoss()\n",
    "\n",
    "accuracy_list = []\n",
    "accuracy_before_defense_adv_list = []\n",
    "\n",
    "for epsilon in np.arange(0, 0.11, 0.01):\n",
    "    accuracy, accuracy_adv = solver.generate(\n",
    "        num_sample=1000,\n",
    "        target=None,\n",
    "        epsilon=epsilon,\n",
    "        alpha=0.01,\n",
    "        iteration=10\n",
    "    )\n",
    "    accuracy_list.append(accuracy)\n",
    "    accuracy_before_defense_adv_list.append(accuracy_adv)\n",
    "\n",
    "\n"
   ]
  },
  {
   "cell_type": "code",
   "execution_count": null,
   "id": "4f61a8a9",
   "metadata": {},
   "outputs": [],
   "source": [
    "import matplotlib.pyplot as plt\n",
    "epsilon_values = list(np.arange(0, 0.11, 0.01))\n",
    "# Vẽ biểu đồ\n",
    "plt.figure(figsize=(10, 6))\n",
    "plt.plot(epsilon_values, accuracy_list, label='Accuracy (clean)')\n",
    "plt.plot(epsilon_values, accuracy_before_defense_adv_list, label='Accuracy (adversarial)', linestyle='--')\n",
    "plt.xlabel('Epsilon')\n",
    "plt.ylabel('Accuracy')\n",
    "plt.title('Model Accuracy vs. Epsilon under FGSM Attack')\n",
    "plt.legend()\n",
    "plt.grid(True)\n",
    "plt.tight_layout()\n",
    "plt.show()"
   ]
  },
  {
   "cell_type": "markdown",
   "id": "34b1d092",
   "metadata": {},
   "source": [
    "# Adversarial Training - FGSM Defense"
   ]
  },
  {
   "cell_type": "code",
   "execution_count": null,
   "id": "3d98f42e",
   "metadata": {},
   "outputs": [],
   "source": [
    "%load_ext autoreload\n",
    "%autoreload 2"
   ]
  },
  {
   "cell_type": "code",
   "execution_count": null,
   "id": "43ca1423",
   "metadata": {},
   "outputs": [],
   "source": [
    "import torch\n",
    "import torch.nn as nn\n",
    "import torch.optim as optim\n",
    "from torch.utils.data import DataLoader\n",
    "from attacks.universal_backdoor_attacks import universal_backdoor_attack\n",
    "from utils.dataset import simDataset\n",
    "from models.models import LSTM\n",
    "from attacks.fgsm import Attack , Solver\n",
    "from utils.dataset import load_model\n",
    "import os\n",
    "\n",
    "model = LSTM().to(device)\n",
    "learning_rate = 0.001\n",
    "optimizer = optim.Adam(model.parameters(), lr=learning_rate)\n",
    "criterion = nn.CrossEntropyLoss()\n",
    "num_epochs = 10\n",
    "\n",
    "# model = load_model(model, os.path.join(save_path, f'{model.model_name}_adv.pth'))\n",
    "\n",
    "# --- Gói các tham số vào args giả lập ---\n",
    "class Args:\n",
    "    def __init__(self):\n",
    "        self.model = model\n",
    "        self.optimizer = optimizer\n",
    "        self.criterion = criterion\n",
    "        self.cuda = torch.cuda.is_available()\n",
    "        self.epoch = num_epochs\n",
    "        self.batch_size = 32\n",
    "        self.eps = 0.03\n",
    "        self.lr = learning_rate\n",
    "        self.y_dim = 2\n",
    "        self.dataset = 'fraud'\n",
    "        self.data_loader = {\n",
    "            'train': train_loader,\n",
    "            'test': test_loader\n",
    "        }\n",
    "        self.save_path = save_path\n",
    "\n",
    "args = Args()\n",
    "\n",
    "# --- Khởi tạo Solver ---\n",
    "solver = Solver(args)\n",
    "\n",
    "solver.adv_train(train_loader=train_loader, val_loader=test_loader, num_epochs=num_epochs, alpha = 0.01, eps = 0.1)"
   ]
  },
  {
   "cell_type": "code",
   "execution_count": null,
   "id": "56faafdc",
   "metadata": {},
   "outputs": [],
   "source": [
    "model = load_model(model, os.path.join(save_path, f'{model.model_name}_adv.pth'))\n",
    "solver.model = model\n",
    "\n",
    "accuracy_list = []\n",
    "accuracy_after_defense_adv_list = []\n",
    "import numpy as np\n",
    "for epsilon in np.arange(0, 0.11, 0.01):\n",
    "    accuracy, accuracy_adv = solver.generate(\n",
    "        num_sample=1000,\n",
    "        target=None,\n",
    "        epsilon=epsilon,\n",
    "        alpha=0.01,\n",
    "        iteration=10\n",
    "    )\n",
    "    accuracy_list.append(accuracy)\n",
    "    accuracy_after_defense_adv_list.append(accuracy_adv)"
   ]
  },
  {
   "cell_type": "code",
   "execution_count": null,
   "id": "90b22260",
   "metadata": {},
   "outputs": [],
   "source": [
    "import matplotlib.pyplot as plt\n",
    "epsilon_values = list(np.arange(0, 0.11, 0.01))\n",
    "# Vẽ biểu đồ\n",
    "plt.figure(figsize=(10, 6))\n",
    "plt.plot(epsilon_values, accuracy_after_defense_adv_list, label='Accuracy after defense (adversarial)')\n",
    "plt.plot(epsilon_values, accuracy_before_defense_adv_list, label='Accuracy before defense', linestyle='--')\n",
    "plt.xlabel('Epsilon')\n",
    "plt.ylabel('Accuracy')\n",
    "plt.title('Model Accuracy vs. Epsilon under FGSM Attack & After Adversarial Training')\n",
    "plt.legend()\n",
    "plt.grid(True)\n",
    "plt.tight_layout()\n",
    "plt.show()"
   ]
  },
  {
   "cell_type": "markdown",
   "id": "6d732ad2",
   "metadata": {},
   "source": [
    "# Label Flipping poisoning Attack"
   ]
  },
  {
   "cell_type": "code",
   "execution_count": null,
   "id": "0d3b6cd9",
   "metadata": {},
   "outputs": [],
   "source": [
    "from defences.knn_based_defense import knn_based_defense\n",
    "from attacks.falfa import falfa\n",
    "from utils.dataset import save_model, load_model_state\n",
    "import numpy as np\n",
    "\n",
    "\n",
    "range_attack = np.arange(0, 0.5, 0.05)"
   ]
  },
  {
   "cell_type": "code",
   "execution_count": null,
   "id": "162ac91a",
   "metadata": {},
   "outputs": [],
   "source": [
    "range_attack"
   ]
  },
  {
   "cell_type": "markdown",
   "id": "198d31f2",
   "metadata": {},
   "source": [
    "## Train and save clean model"
   ]
  },
  {
   "cell_type": "code",
   "execution_count": null,
   "id": "85106f2a",
   "metadata": {},
   "outputs": [],
   "source": [
    "model = LSTM().to(device)\n",
    "\n",
    "# Loss function and optimizer\n",
    "# criterion = nn.BCEWithLogitsLoss().to(device)\n",
    "criterion = nn.CrossEntropyLoss() # Others loss function use\n",
    "optimizer = optim.Adam(model.parameters(), lr=learning_rate)\n",
    "\n",
    "from tqdm import tqdm\n",
    "\n",
    "# Train the network\n",
    "model.train()  # Set model to training mode\n",
    "for epoch in range(num_epochs):\n",
    "    running_loss = 0.0\n",
    "    progress_bar = tqdm(train_loader, \n",
    "                       desc=f'Epoch {epoch+1}/{num_epochs}', \n",
    "                       unit='batch')\n",
    "    \n",
    "    for batch_id, (inputs, labels) in enumerate(progress_bar):\n",
    "        inputs, labels = inputs.to(device), labels.to(device)\n",
    "        \n",
    "        optimizer.zero_grad()\n",
    "        outputs = model(inputs)\n",
    "        labels = labels.type_as(outputs)\n",
    "        loss = criterion(outputs.squeeze(), labels.long())\n",
    "        loss.backward()\n",
    "        optimizer.step()\n",
    "        \n",
    "        running_loss += loss.item()\n",
    "        progress_bar.set_postfix({'loss': running_loss/(batch_id+1)})\n",
    "    \n",
    "    print(f'Epoch {epoch+1} - Avg Loss: {running_loss/len(train_loader):.4f}')\n",
    "\n",
    "save_model(model, optimizer, os.path.join(save_path, f'{model.model_name}_falfa'))"
   ]
  },
  {
   "cell_type": "code",
   "execution_count": null,
   "id": "c0df6309",
   "metadata": {},
   "outputs": [],
   "source": [
    "model = LSTM().to(device)\n",
    "optimizer = optim.Adam(model.parameters(), lr=learning_rate)\n",
    "criterion = nn.CrossEntropyLoss() # Others loss function use\n",
    "from torch.utils.data import DataLoader, TensorDataset\n",
    "num_epochs = 3\n",
    "\n",
    "accu_poisend_list = []\n",
    "accu_defense_list = []\n",
    "\n",
    "for eps in range_attack:\n",
    "    model_attack , optimizer_attack = load_model_state(model, optimizer, os.path.join(save_path, f'{model.model_name}_falfa'))\n",
    "\n",
    "    falfa_runner = falfa(\n",
    "        model=model_attack,\n",
    "        device=device,\n",
    "        epochs=num_epochs,\n",
    "        epsilon=eps,           \n",
    "        max_iter=1,\n",
    "        criterion=criterion,\n",
    "        optimizer=optimizer_attack\n",
    "    )\n",
    "\n",
    "\n",
    "    poisoned_labels = falfa_runner.falfa_attack_dl_dataloader(\n",
    "        dataloader=train_loader,\n",
    "        X_np=train_dataset.x,\n",
    "        y_np=train_dataset.y\n",
    "    )\n",
    "\n",
    "\n",
    "    X_tensor = torch.tensor(train_dataset.x, dtype=torch.float)\n",
    "    y_poisoned_tensor = torch.tensor(poisoned_labels, dtype=torch.int64)\n",
    "    poisoned_dataset = TensorDataset(X_tensor, y_poisoned_tensor)\n",
    "    poisoned_loader = DataLoader(poisoned_dataset, batch_size=32, shuffle=True)\n",
    "    \n",
    "    falfa_runner.poisoned_labels = poisoned_labels\n",
    "    falfa_runner.train_model_on_loader(poisoned_loader)\n",
    "\n",
    "    accu_poisned = falfa_runner.evaluate_model(\n",
    "        dataloader = test_loader,\n",
    "        device = 'cuda'\n",
    "    )\n",
    "\n",
    "    accu_poisend_list.append(accu_poisned)\n",
    "    print(f\"Accuracy after attack: {accu_poisned:.4f}\")\n",
    "\n",
    "    # --- KNN-based Defense ---\n",
    "    \n",
    "    knn_defense = knn_based_defense(k = 5, eta = 0.6) # 5, 0.8\n",
    "    cleaned_train_loader = knn_defense.apply_defense(\n",
    "        X  = train_dataset.x,\n",
    "        y_poisoned = poisoned_labels,\n",
    "        y_clean = train_dataset.y,\n",
    "    )\n",
    "\n",
    "    model_clean , optimizer_clean = load_model_state(model, optimizer, os.path.join(save_path, f'{model.model_name}_falfa'))\n",
    "\n",
    "    model_defensed = knn_defense.train_model_after_defense(\n",
    "        model = model_clean,\n",
    "        optimizer = optimizer_clean,\n",
    "        cleaned_loader = cleaned_train_loader,\n",
    "        num_epochs = num_epochs,\n",
    "        criterion = criterion\n",
    "    )\n",
    "\n",
    "    # Evaluate the model after defense\n",
    "    accuracy_defense = knn_defense.evaluate_model(\n",
    "        model = model_defensed,\n",
    "        test_loader = test_loader,\n",
    "        device = 'cuda'\n",
    "    )\n",
    "\n",
    "    accu_defense_list.append(accuracy_defense)\n",
    "    \n",
    "    print(f\"Accuracy after defense: {accuracy_defense:.4f}\")\n"
   ]
  },
  {
   "cell_type": "code",
   "execution_count": null,
   "id": "635cf451",
   "metadata": {},
   "outputs": [],
   "source": [
    "import matplotlib.pyplot as plt\n",
    "range_attack = np.arange(0, 0.5, 0.05)\n",
    "# Vẽ biểu đồ\n",
    "plt.figure(figsize=(10, 6))\n",
    "plt.plot(range_attack, accu_poisend_list, label='Accuracy after defense (adversarial)')\n",
    "plt.plot(range_attack, accu_defense_list, label='Accuracy before defense', linestyle='--')\n",
    "plt.xlabel('Epsilon')\n",
    "plt.ylabel('Accuracy')\n",
    "plt.title('Model Accuracy vs. Epsilon under FALFA Attack & After KNN Defense')\n",
    "plt.legend()\n",
    "plt.grid(True)\n",
    "plt.tight_layout()\n",
    "plt.show()"
   ]
  },
  {
   "cell_type": "markdown",
   "id": "c6b58c58",
   "metadata": {},
   "source": [
    "# Spectral Signature Defense & Pruning Defense"
   ]
  },
  {
   "cell_type": "code",
   "execution_count": 9,
   "id": "3df10271",
   "metadata": {},
   "outputs": [],
   "source": [
    "from defences.ss_for_backdoor import spectral_signature_defense, plotCorrelationScores, extract_features\n",
    "from defences.pruning_for_backdoor import extract_features, compute_average_activations, get_prune_indices, create_pruning_mask, PrunedFC\n",
    "from torch.utils.data import Subset\n",
    "from utils.dataset import load_model_state\n",
    "import numpy as np"
   ]
  },
  {
   "cell_type": "code",
   "execution_count": 6,
   "id": "04ad422d",
   "metadata": {},
   "outputs": [
    {
     "name": "stderr",
     "output_type": "stream",
     "text": [
      "2025-05-14 01:07:24,990 - INFO - Attack initialized with target label: 0\n",
      "2025-05-14 01:07:25,073 - INFO - Selecting non-target samples from the training dataset...\n",
      "2025-05-14 01:07:25,074 - INFO - Selected 6576 non-target samples out of 13140 total training samples.\n",
      "2025-05-14 01:07:25,076 - INFO - Starting confidence-based sample ranking...\n",
      "/home/anhkhoa/ml4secu/utils/dataset.py:138: UserWarning: To copy construct from a tensor, it is recommended to use sourceTensor.clone().detach() or sourceTensor.clone().detach().requires_grad_(True), rather than torch.tensor(sourceTensor).\n",
      "  x = torch.tensor(self.x[idx], dtype=torch.float).to(self.device)\n",
      "/home/anhkhoa/ml4secu/utils/dataset.py:139: UserWarning: To copy construct from a tensor, it is recommended to use sourceTensor.clone().detach() or sourceTensor.clone().detach().requires_grad_(True), rather than torch.tensor(sourceTensor).\n",
      "  y = torch.tensor(self.y[idx], dtype=torch.int64).to(self.device)\n"
     ]
    },
    {
     "name": "stdout",
     "output_type": "stream",
     "text": [
      "Model state loaded successfully from /home/anhkhoa/ml4secu/save_path/LSTM_falfa\n"
     ]
    },
    {
     "name": "stderr",
     "output_type": "stream",
     "text": [
      "2025-05-14 01:07:25,899 - INFO - Selecting top 10.0% (657) samples based on confidence scores.\n",
      "2025-05-14 01:07:25,917 - INFO - Selected 657 samples for further processing.\n",
      "2025-05-14 01:07:25,919 - INFO - Defining the universal trigger pattern (delta)...\n",
      "2025-05-14 01:07:25,920 - INFO - Computing min and max values for each feature in the training dataset...\n",
      "2025-05-14 01:07:25,922 - INFO - Min and max values computed successfully.\n",
      "2025-05-14 01:07:25,924 - INFO - Trigger pattern (delta) initialized with shape: torch.Size([7])\n",
      "2025-05-14 01:07:25,924 - INFO - Computing mode vector of the entire training dataset...\n",
      "2025-05-14 01:07:25,933 - INFO - Mode vector computed successfully.\n",
      "2025-05-14 01:07:25,933 - INFO - Starting optimization of the trigger pattern (delta)...\n",
      "2025-05-14 01:07:27,057 - INFO - Epoch [10/100], Loss: 1.5369\n",
      "2025-05-14 01:07:27,797 - INFO - Epoch [20/100], Loss: 1.5086\n",
      "2025-05-14 01:07:28,466 - INFO - Epoch [30/100], Loss: 1.4816\n",
      "2025-05-14 01:07:29,248 - INFO - Epoch [40/100], Loss: 1.4554\n",
      "2025-05-14 01:07:30,223 - INFO - Epoch [50/100], Loss: 1.4232\n",
      "2025-05-14 01:07:31,048 - INFO - Epoch [60/100], Loss: 1.2479\n",
      "2025-05-14 01:07:31,705 - INFO - Epoch [70/100], Loss: 1.2019\n",
      "2025-05-14 01:07:32,387 - INFO - Epoch [80/100], Loss: 1.1701\n",
      "2025-05-14 01:07:33,281 - INFO - Epoch [90/100], Loss: 1.1524\n",
      "2025-05-14 01:07:34,013 - INFO - Epoch [100/100], Loss: 1.1323\n",
      "2025-05-14 01:07:34,014 - INFO - Trigger pattern (delta) optimization completed.\n",
      "2025-05-14 01:07:34,016 - INFO - Optimized trigger pattern (delta) saved to '/home/anhkhoa/ml4secu/save_path/saved_triggers/trigger_delta.pt'.\n",
      "2025-05-14 01:07:34,022 - INFO - Starting construction of the poisoned dataset with epsilon=0.05...\n",
      "2025-05-14 01:07:34,023 - INFO - Number of samples to poison: 657 out of 13140 total training samples.\n",
      "2025-05-14 01:07:34,026 - INFO - Selected 657 random samples for poisoning.\n",
      "2025-05-14 01:07:34,032 - INFO - Applied trigger to selected samples and relabeled them to the target class.\n",
      "2025-05-14 01:07:34,037 - INFO - Poisoned dataset constructed with 13140 samples.\n",
      "2025-05-14 01:07:34,038 - INFO - Starting construction of the poisoned dataset with epsilon=1.0...\n",
      "2025-05-14 01:07:34,040 - INFO - Number of samples to poison: 3286 out of 3286 total training samples.\n",
      "2025-05-14 01:07:34,041 - INFO - Selected 3286 random samples for poisoning.\n",
      "2025-05-14 01:07:34,043 - INFO - Applied trigger to selected samples and relabeled them to the target class.\n",
      "2025-05-14 01:07:34,046 - INFO - Poisoned dataset constructed with 3286 samples.\n"
     ]
    },
    {
     "name": "stdout",
     "output_type": "stream",
     "text": [
      "✅ Trigger optimized:\n",
      " tensor([-0.1086, -0.0001,  0.0927,  0.0096,  0.1196,  0.0255, -0.0410],\n",
      "       device='cuda:0', requires_grad=True)\n",
      "✅ Mode vector:\n",
      " tensor([0.0229, 0.2500, 0.8335, 0.0000, 0.0000, 0.0000, 0.0000],\n",
      "       device='cuda:0')\n"
     ]
    },
    {
     "name": "stderr",
     "output_type": "stream",
     "text": [
      "Epoch 1/3: 100%|██████████| 411/411 [00:03<00:00, 112.68batch/s, loss=0.613]\n"
     ]
    },
    {
     "name": "stdout",
     "output_type": "stream",
     "text": [
      "Epoch 1 - Avg Loss: 0.6129\n"
     ]
    },
    {
     "name": "stderr",
     "output_type": "stream",
     "text": [
      "Epoch 2/3: 100%|██████████| 411/411 [00:03<00:00, 109.46batch/s, loss=0.594]\n"
     ]
    },
    {
     "name": "stdout",
     "output_type": "stream",
     "text": [
      "Epoch 2 - Avg Loss: 0.5935\n"
     ]
    },
    {
     "name": "stderr",
     "output_type": "stream",
     "text": [
      "Epoch 3/3: 100%|██████████| 411/411 [00:04<00:00, 102.63batch/s, loss=0.593]\n"
     ]
    },
    {
     "name": "stdout",
     "output_type": "stream",
     "text": [
      "Epoch 3 - Avg Loss: 0.5930\n"
     ]
    },
    {
     "name": "stderr",
     "output_type": "stream",
     "text": [
      "2025-05-14 01:07:45,789 - INFO - [Generate Attack] Non-target triggered samples: 6576.\n",
      "2025-05-14 01:07:45,790 - INFO - ASR (pred == target_label): 49.45%\n",
      "2025-05-14 01:07:45,790 - INFO - Accuracy (pred == true label): 50.55%\n",
      "Epoch 1/3: 100%|██████████| 83/83 [00:01<00:00, 63.42batch/s, loss=0.635]\n"
     ]
    },
    {
     "name": "stdout",
     "output_type": "stream",
     "text": [
      "Epoch 1 - Avg Loss: 0.6350\n"
     ]
    },
    {
     "name": "stderr",
     "output_type": "stream",
     "text": [
      "Epoch 2/3: 100%|██████████| 83/83 [00:00<00:00, 92.78batch/s, loss=0.2]  \n"
     ]
    },
    {
     "name": "stdout",
     "output_type": "stream",
     "text": [
      "Epoch 2 - Avg Loss: 0.2002\n"
     ]
    },
    {
     "name": "stderr",
     "output_type": "stream",
     "text": [
      "Epoch 3/3: 100%|██████████| 83/83 [00:00<00:00, 90.43batch/s, loss=0.146]\n",
      "2025-05-14 01:07:53,190 - INFO - [Generate Attack] Non-target triggered samples: 1253.\n",
      "2025-05-14 01:07:53,191 - INFO - ASR (pred == target_label): 14.76%\n",
      "2025-05-14 01:07:53,192 - INFO - Accuracy (pred == true label): 85.24%\n",
      "2025-05-14 01:07:53,193 - INFO - Attack initialized with target label: 0\n",
      "2025-05-14 01:07:53,239 - INFO - Selecting non-target samples from the training dataset...\n",
      "2025-05-14 01:07:53,240 - INFO - Selected 6576 non-target samples out of 13140 total training samples.\n",
      "2025-05-14 01:07:53,241 - INFO - Starting confidence-based sample ranking...\n"
     ]
    },
    {
     "name": "stdout",
     "output_type": "stream",
     "text": [
      "Epoch 3 - Avg Loss: 0.1464\n",
      "Model state loaded successfully from /home/anhkhoa/ml4secu/save_path/LSTM_falfa\n"
     ]
    },
    {
     "name": "stderr",
     "output_type": "stream",
     "text": [
      "2025-05-14 01:07:53,775 - INFO - Selecting top 10.0% (657) samples based on confidence scores.\n",
      "2025-05-14 01:07:53,792 - INFO - Selected 657 samples for further processing.\n",
      "2025-05-14 01:07:53,794 - INFO - Defining the universal trigger pattern (delta)...\n",
      "2025-05-14 01:07:53,795 - INFO - Computing min and max values for each feature in the training dataset...\n",
      "2025-05-14 01:07:53,796 - INFO - Min and max values computed successfully.\n",
      "2025-05-14 01:07:53,798 - INFO - Trigger pattern (delta) initialized with shape: torch.Size([7])\n",
      "2025-05-14 01:07:53,799 - INFO - Computing mode vector of the entire training dataset...\n",
      "2025-05-14 01:07:53,805 - INFO - Mode vector computed successfully.\n",
      "2025-05-14 01:07:53,806 - INFO - Starting optimization of the trigger pattern (delta)...\n",
      "2025-05-14 01:07:54,507 - INFO - Epoch [10/100], Loss: 1.6331\n",
      "2025-05-14 01:07:55,216 - INFO - Epoch [20/100], Loss: 1.5765\n",
      "2025-05-14 01:07:55,948 - INFO - Epoch [30/100], Loss: 1.5461\n",
      "2025-05-14 01:07:56,597 - INFO - Epoch [40/100], Loss: 1.5246\n",
      "2025-05-14 01:07:57,274 - INFO - Epoch [50/100], Loss: 1.5066\n",
      "2025-05-14 01:07:57,949 - INFO - Epoch [60/100], Loss: 1.4894\n",
      "2025-05-14 01:07:58,722 - INFO - Epoch [70/100], Loss: 1.4728\n",
      "2025-05-14 01:07:59,428 - INFO - Epoch [80/100], Loss: 1.4574\n",
      "2025-05-14 01:08:00,131 - INFO - Epoch [90/100], Loss: 1.4429\n",
      "2025-05-14 01:08:00,796 - INFO - Epoch [100/100], Loss: 1.4274\n",
      "2025-05-14 01:08:00,797 - INFO - Trigger pattern (delta) optimization completed.\n",
      "2025-05-14 01:08:00,799 - INFO - Optimized trigger pattern (delta) saved to '/home/anhkhoa/ml4secu/save_path/saved_triggers/trigger_delta.pt'.\n",
      "2025-05-14 01:08:00,804 - INFO - Starting construction of the poisoned dataset with epsilon=0.1...\n",
      "2025-05-14 01:08:00,806 - INFO - Number of samples to poison: 1314 out of 13140 total training samples.\n",
      "2025-05-14 01:08:00,807 - INFO - Selected 1314 random samples for poisoning.\n",
      "2025-05-14 01:08:00,810 - INFO - Applied trigger to selected samples and relabeled them to the target class.\n",
      "2025-05-14 01:08:00,811 - INFO - Poisoned dataset constructed with 13140 samples.\n",
      "2025-05-14 01:08:00,812 - INFO - Starting construction of the poisoned dataset with epsilon=1.0...\n",
      "2025-05-14 01:08:00,814 - INFO - Number of samples to poison: 3286 out of 3286 total training samples.\n",
      "2025-05-14 01:08:00,815 - INFO - Selected 3286 random samples for poisoning.\n",
      "2025-05-14 01:08:00,817 - INFO - Applied trigger to selected samples and relabeled them to the target class.\n",
      "2025-05-14 01:08:00,819 - INFO - Poisoned dataset constructed with 3286 samples.\n"
     ]
    },
    {
     "name": "stdout",
     "output_type": "stream",
     "text": [
      "✅ Trigger optimized:\n",
      " tensor([-9.5156e-02,  2.1407e-05,  1.7307e-02, -2.7195e-02,  3.1237e-02,\n",
      "         2.6429e-02, -1.4050e-03], device='cuda:0', requires_grad=True)\n",
      "✅ Mode vector:\n",
      " tensor([0.0229, 0.2500, 0.8335, 0.0000, 0.0000, 0.0000, 0.0000],\n",
      "       device='cuda:0')\n"
     ]
    },
    {
     "name": "stderr",
     "output_type": "stream",
     "text": [
      "Epoch 1/3: 100%|██████████| 411/411 [00:03<00:00, 133.62batch/s, loss=0.611]\n"
     ]
    },
    {
     "name": "stdout",
     "output_type": "stream",
     "text": [
      "Epoch 1 - Avg Loss: 0.6114\n"
     ]
    },
    {
     "name": "stderr",
     "output_type": "stream",
     "text": [
      "Epoch 2/3: 100%|██████████| 411/411 [00:03<00:00, 135.72batch/s, loss=0.594]\n"
     ]
    },
    {
     "name": "stdout",
     "output_type": "stream",
     "text": [
      "Epoch 2 - Avg Loss: 0.5942\n"
     ]
    },
    {
     "name": "stderr",
     "output_type": "stream",
     "text": [
      "Epoch 3/3: 100%|██████████| 411/411 [00:03<00:00, 136.42batch/s, loss=0.559]\n"
     ]
    },
    {
     "name": "stdout",
     "output_type": "stream",
     "text": [
      "Epoch 3 - Avg Loss: 0.5588\n"
     ]
    },
    {
     "name": "stderr",
     "output_type": "stream",
     "text": [
      "2025-05-14 01:08:10,191 - INFO - [Generate Attack] Non-target triggered samples: 6576.\n",
      "2025-05-14 01:08:10,192 - INFO - ASR (pred == target_label): 85.40%\n",
      "2025-05-14 01:08:10,193 - INFO - Accuracy (pred == true label): 14.60%\n",
      "Epoch 1/3: 100%|██████████| 83/83 [00:01<00:00, 78.65batch/s, loss=0.565]\n"
     ]
    },
    {
     "name": "stdout",
     "output_type": "stream",
     "text": [
      "Epoch 1 - Avg Loss: 0.5650\n"
     ]
    },
    {
     "name": "stderr",
     "output_type": "stream",
     "text": [
      "Epoch 2/3: 100%|██████████| 83/83 [00:00<00:00, 90.05batch/s, loss=0.441]\n"
     ]
    },
    {
     "name": "stdout",
     "output_type": "stream",
     "text": [
      "Epoch 2 - Avg Loss: 0.4413\n"
     ]
    },
    {
     "name": "stderr",
     "output_type": "stream",
     "text": [
      "Epoch 3/3: 100%|██████████| 83/83 [00:00<00:00, 93.11batch/s, loss=0.435]\n",
      "2025-05-14 01:08:15,176 - INFO - [Generate Attack] Non-target triggered samples: 1179.\n",
      "2025-05-14 01:08:15,177 - INFO - ASR (pred == target_label): 26.72%\n",
      "2025-05-14 01:08:15,178 - INFO - Accuracy (pred == true label): 73.28%\n",
      "2025-05-14 01:08:15,179 - INFO - Attack initialized with target label: 0\n",
      "2025-05-14 01:08:15,214 - INFO - Selecting non-target samples from the training dataset...\n",
      "2025-05-14 01:08:15,215 - INFO - Selected 6576 non-target samples out of 13140 total training samples.\n",
      "2025-05-14 01:08:15,216 - INFO - Starting confidence-based sample ranking...\n"
     ]
    },
    {
     "name": "stdout",
     "output_type": "stream",
     "text": [
      "Epoch 3 - Avg Loss: 0.4347\n",
      "Model state loaded successfully from /home/anhkhoa/ml4secu/save_path/LSTM_falfa\n"
     ]
    },
    {
     "name": "stderr",
     "output_type": "stream",
     "text": [
      "2025-05-14 01:08:15,787 - INFO - Selecting top 10.0% (657) samples based on confidence scores.\n",
      "2025-05-14 01:08:15,805 - INFO - Selected 657 samples for further processing.\n",
      "2025-05-14 01:08:15,808 - INFO - Defining the universal trigger pattern (delta)...\n",
      "2025-05-14 01:08:15,809 - INFO - Computing min and max values for each feature in the training dataset...\n",
      "2025-05-14 01:08:15,811 - INFO - Min and max values computed successfully.\n",
      "2025-05-14 01:08:15,812 - INFO - Trigger pattern (delta) initialized with shape: torch.Size([7])\n",
      "2025-05-14 01:08:15,813 - INFO - Computing mode vector of the entire training dataset...\n",
      "2025-05-14 01:08:15,820 - INFO - Mode vector computed successfully.\n",
      "2025-05-14 01:08:15,821 - INFO - Starting optimization of the trigger pattern (delta)...\n",
      "2025-05-14 01:08:16,518 - INFO - Epoch [10/100], Loss: 1.6838\n",
      "2025-05-14 01:08:17,182 - INFO - Epoch [20/100], Loss: 1.6101\n",
      "2025-05-14 01:08:17,835 - INFO - Epoch [30/100], Loss: 1.5674\n",
      "2025-05-14 01:08:18,532 - INFO - Epoch [40/100], Loss: 1.5369\n",
      "2025-05-14 01:08:19,210 - INFO - Epoch [50/100], Loss: 1.5154\n",
      "2025-05-14 01:08:19,921 - INFO - Epoch [60/100], Loss: 1.4980\n",
      "2025-05-14 01:08:20,784 - INFO - Epoch [70/100], Loss: 1.4808\n",
      "2025-05-14 01:08:21,521 - INFO - Epoch [80/100], Loss: 1.4635\n",
      "2025-05-14 01:08:22,268 - INFO - Epoch [90/100], Loss: 1.4460\n",
      "2025-05-14 01:08:22,970 - INFO - Epoch [100/100], Loss: 1.4271\n",
      "2025-05-14 01:08:22,972 - INFO - Trigger pattern (delta) optimization completed.\n",
      "2025-05-14 01:08:22,980 - INFO - Optimized trigger pattern (delta) saved to '/home/anhkhoa/ml4secu/save_path/saved_triggers/trigger_delta.pt'.\n",
      "2025-05-14 01:08:22,985 - INFO - Starting construction of the poisoned dataset with epsilon=0.15000000000000002...\n",
      "2025-05-14 01:08:22,986 - INFO - Number of samples to poison: 1971 out of 13140 total training samples.\n",
      "2025-05-14 01:08:22,987 - INFO - Selected 1971 random samples for poisoning.\n",
      "2025-05-14 01:08:22,989 - INFO - Applied trigger to selected samples and relabeled them to the target class.\n",
      "2025-05-14 01:08:22,991 - INFO - Poisoned dataset constructed with 13140 samples.\n",
      "2025-05-14 01:08:22,992 - INFO - Starting construction of the poisoned dataset with epsilon=1.0...\n",
      "2025-05-14 01:08:22,993 - INFO - Number of samples to poison: 3286 out of 3286 total training samples.\n",
      "2025-05-14 01:08:22,994 - INFO - Selected 3286 random samples for poisoning.\n",
      "2025-05-14 01:08:22,996 - INFO - Applied trigger to selected samples and relabeled them to the target class.\n",
      "2025-05-14 01:08:22,998 - INFO - Poisoned dataset constructed with 3286 samples.\n"
     ]
    },
    {
     "name": "stdout",
     "output_type": "stream",
     "text": [
      "✅ Trigger optimized:\n",
      " tensor([-1.0771e-01,  3.0235e-05, -3.9817e-03, -8.2618e-03,  3.2136e-02,\n",
      "         3.5183e-02, -5.9267e-03], device='cuda:0', requires_grad=True)\n",
      "✅ Mode vector:\n",
      " tensor([0.0229, 0.2500, 0.8335, 0.0000, 0.0000, 0.0000, 0.0000],\n",
      "       device='cuda:0')\n"
     ]
    },
    {
     "name": "stderr",
     "output_type": "stream",
     "text": [
      "Epoch 1/3: 100%|██████████| 411/411 [00:03<00:00, 135.17batch/s, loss=0.613]\n"
     ]
    },
    {
     "name": "stdout",
     "output_type": "stream",
     "text": [
      "Epoch 1 - Avg Loss: 0.6127\n"
     ]
    },
    {
     "name": "stderr",
     "output_type": "stream",
     "text": [
      "Epoch 2/3: 100%|██████████| 411/411 [00:02<00:00, 137.98batch/s, loss=0.596]\n"
     ]
    },
    {
     "name": "stdout",
     "output_type": "stream",
     "text": [
      "Epoch 2 - Avg Loss: 0.5962\n"
     ]
    },
    {
     "name": "stderr",
     "output_type": "stream",
     "text": [
      "Epoch 3/3: 100%|██████████| 411/411 [00:03<00:00, 122.09batch/s, loss=0.487]\n",
      "2025-05-14 01:08:32,595 - INFO - [Generate Attack] Non-target triggered samples: 6576.\n",
      "2025-05-14 01:08:32,596 - INFO - ASR (pred == target_label): 79.39%\n",
      "2025-05-14 01:08:32,597 - INFO - Accuracy (pred == true label): 20.61%\n"
     ]
    },
    {
     "name": "stdout",
     "output_type": "stream",
     "text": [
      "Epoch 3 - Avg Loss: 0.4870\n"
     ]
    },
    {
     "name": "stderr",
     "output_type": "stream",
     "text": [
      "Epoch 1/3: 100%|██████████| 83/83 [00:01<00:00, 72.78batch/s, loss=0.526]\n"
     ]
    },
    {
     "name": "stdout",
     "output_type": "stream",
     "text": [
      "Epoch 1 - Avg Loss: 0.5258\n"
     ]
    },
    {
     "name": "stderr",
     "output_type": "stream",
     "text": [
      "Epoch 2/3: 100%|██████████| 83/83 [00:00<00:00, 85.80batch/s, loss=0.413]\n"
     ]
    },
    {
     "name": "stdout",
     "output_type": "stream",
     "text": [
      "Epoch 2 - Avg Loss: 0.4131\n"
     ]
    },
    {
     "name": "stderr",
     "output_type": "stream",
     "text": [
      "Epoch 3/3: 100%|██████████| 83/83 [00:00<00:00, 88.76batch/s, loss=0.38] \n",
      "2025-05-14 01:08:38,741 - INFO - [Generate Attack] Non-target triggered samples: 1124.\n",
      "2025-05-14 01:08:38,742 - INFO - ASR (pred == target_label): 18.59%\n",
      "2025-05-14 01:08:38,743 - INFO - Accuracy (pred == true label): 81.41%\n",
      "2025-05-14 01:08:38,744 - INFO - Attack initialized with target label: 0\n",
      "2025-05-14 01:08:38,775 - INFO - Selecting non-target samples from the training dataset...\n",
      "2025-05-14 01:08:38,776 - INFO - Selected 6576 non-target samples out of 13140 total training samples.\n",
      "2025-05-14 01:08:38,777 - INFO - Starting confidence-based sample ranking...\n"
     ]
    },
    {
     "name": "stdout",
     "output_type": "stream",
     "text": [
      "Epoch 3 - Avg Loss: 0.3805\n",
      "Model state loaded successfully from /home/anhkhoa/ml4secu/save_path/LSTM_falfa\n"
     ]
    },
    {
     "name": "stderr",
     "output_type": "stream",
     "text": [
      "2025-05-14 01:08:39,299 - INFO - Selecting top 10.0% (657) samples based on confidence scores.\n",
      "2025-05-14 01:08:39,314 - INFO - Selected 657 samples for further processing.\n",
      "2025-05-14 01:08:39,316 - INFO - Defining the universal trigger pattern (delta)...\n",
      "2025-05-14 01:08:39,317 - INFO - Computing min and max values for each feature in the training dataset...\n",
      "2025-05-14 01:08:39,319 - INFO - Min and max values computed successfully.\n",
      "2025-05-14 01:08:39,320 - INFO - Trigger pattern (delta) initialized with shape: torch.Size([7])\n",
      "2025-05-14 01:08:39,321 - INFO - Computing mode vector of the entire training dataset...\n",
      "2025-05-14 01:08:39,326 - INFO - Mode vector computed successfully.\n",
      "2025-05-14 01:08:39,326 - INFO - Starting optimization of the trigger pattern (delta)...\n",
      "2025-05-14 01:08:40,087 - INFO - Epoch [10/100], Loss: 1.5332\n",
      "2025-05-14 01:08:40,771 - INFO - Epoch [20/100], Loss: 1.5060\n",
      "2025-05-14 01:08:41,483 - INFO - Epoch [30/100], Loss: 1.4800\n",
      "2025-05-14 01:08:42,175 - INFO - Epoch [40/100], Loss: 1.4544\n",
      "2025-05-14 01:08:42,844 - INFO - Epoch [50/100], Loss: 1.4281\n",
      "2025-05-14 01:08:43,552 - INFO - Epoch [60/100], Loss: 1.3947\n",
      "2025-05-14 01:08:44,310 - INFO - Epoch [70/100], Loss: 1.2225\n",
      "2025-05-14 01:08:45,142 - INFO - Epoch [80/100], Loss: 1.1813\n",
      "2025-05-14 01:08:45,837 - INFO - Epoch [90/100], Loss: 1.1602\n",
      "2025-05-14 01:08:46,503 - INFO - Epoch [100/100], Loss: 1.1387\n",
      "2025-05-14 01:08:46,504 - INFO - Trigger pattern (delta) optimization completed.\n",
      "2025-05-14 01:08:46,506 - INFO - Optimized trigger pattern (delta) saved to '/home/anhkhoa/ml4secu/save_path/saved_triggers/trigger_delta.pt'.\n",
      "2025-05-14 01:08:46,511 - INFO - Starting construction of the poisoned dataset with epsilon=0.2...\n",
      "2025-05-14 01:08:46,513 - INFO - Number of samples to poison: 2628 out of 13140 total training samples.\n",
      "2025-05-14 01:08:46,514 - INFO - Selected 2628 random samples for poisoning.\n",
      "2025-05-14 01:08:46,516 - INFO - Applied trigger to selected samples and relabeled them to the target class.\n",
      "2025-05-14 01:08:46,517 - INFO - Poisoned dataset constructed with 13140 samples.\n",
      "2025-05-14 01:08:46,518 - INFO - Starting construction of the poisoned dataset with epsilon=1.0...\n",
      "2025-05-14 01:08:46,519 - INFO - Number of samples to poison: 3286 out of 3286 total training samples.\n",
      "2025-05-14 01:08:46,520 - INFO - Selected 3286 random samples for poisoning.\n",
      "2025-05-14 01:08:46,522 - INFO - Applied trigger to selected samples and relabeled them to the target class.\n",
      "2025-05-14 01:08:46,524 - INFO - Poisoned dataset constructed with 3286 samples.\n"
     ]
    },
    {
     "name": "stdout",
     "output_type": "stream",
     "text": [
      "✅ Trigger optimized:\n",
      " tensor([-1.0143e-01,  1.5274e-06,  1.0096e-01,  1.7659e-02,  1.1595e-01,\n",
      "         4.3200e-02, -3.6989e-02], device='cuda:0', requires_grad=True)\n",
      "✅ Mode vector:\n",
      " tensor([0.0229, 0.2500, 0.8335, 0.0000, 0.0000, 0.0000, 0.0000],\n",
      "       device='cuda:0')\n"
     ]
    },
    {
     "name": "stderr",
     "output_type": "stream",
     "text": [
      "Epoch 1/3: 100%|██████████| 411/411 [00:02<00:00, 141.91batch/s, loss=0.623]\n"
     ]
    },
    {
     "name": "stdout",
     "output_type": "stream",
     "text": [
      "Epoch 1 - Avg Loss: 0.6229\n"
     ]
    },
    {
     "name": "stderr",
     "output_type": "stream",
     "text": [
      "Epoch 2/3: 100%|██████████| 411/411 [00:03<00:00, 125.86batch/s, loss=0.598]\n"
     ]
    },
    {
     "name": "stdout",
     "output_type": "stream",
     "text": [
      "Epoch 2 - Avg Loss: 0.5977\n"
     ]
    },
    {
     "name": "stderr",
     "output_type": "stream",
     "text": [
      "Epoch 3/3: 100%|██████████| 411/411 [00:03<00:00, 127.80batch/s, loss=0.471]\n"
     ]
    },
    {
     "name": "stdout",
     "output_type": "stream",
     "text": [
      "Epoch 3 - Avg Loss: 0.4712\n"
     ]
    },
    {
     "name": "stderr",
     "output_type": "stream",
     "text": [
      "2025-05-14 01:08:56,140 - INFO - [Generate Attack] Non-target triggered samples: 6576.\n",
      "2025-05-14 01:08:56,141 - INFO - ASR (pred == target_label): 98.80%\n",
      "2025-05-14 01:08:56,141 - INFO - Accuracy (pred == true label): 1.20%\n",
      "Epoch 1/3: 100%|██████████| 83/83 [00:01<00:00, 79.94batch/s, loss=0.566]\n"
     ]
    },
    {
     "name": "stdout",
     "output_type": "stream",
     "text": [
      "Epoch 1 - Avg Loss: 0.5663\n"
     ]
    },
    {
     "name": "stderr",
     "output_type": "stream",
     "text": [
      "Epoch 2/3: 100%|██████████| 83/83 [00:00<00:00, 95.37batch/s, loss=0.26]  \n"
     ]
    },
    {
     "name": "stdout",
     "output_type": "stream",
     "text": [
      "Epoch 2 - Avg Loss: 0.2601\n"
     ]
    },
    {
     "name": "stderr",
     "output_type": "stream",
     "text": [
      "Epoch 3/3: 100%|██████████| 83/83 [00:01<00:00, 73.21batch/s, loss=0.181]\n",
      "2025-05-14 01:09:02,366 - INFO - [Generate Attack] Non-target triggered samples: 1064.\n",
      "2025-05-14 01:09:02,367 - INFO - ASR (pred == target_label): 8.18%\n",
      "2025-05-14 01:09:02,368 - INFO - Accuracy (pred == true label): 91.82%\n",
      "2025-05-14 01:09:02,368 - INFO - Attack initialized with target label: 0\n",
      "2025-05-14 01:09:02,402 - INFO - Selecting non-target samples from the training dataset...\n",
      "2025-05-14 01:09:02,403 - INFO - Selected 6576 non-target samples out of 13140 total training samples.\n",
      "2025-05-14 01:09:02,405 - INFO - Starting confidence-based sample ranking...\n"
     ]
    },
    {
     "name": "stdout",
     "output_type": "stream",
     "text": [
      "Epoch 3 - Avg Loss: 0.1811\n",
      "Model state loaded successfully from /home/anhkhoa/ml4secu/save_path/LSTM_falfa\n"
     ]
    },
    {
     "name": "stderr",
     "output_type": "stream",
     "text": [
      "2025-05-14 01:09:02,934 - INFO - Selecting top 10.0% (657) samples based on confidence scores.\n",
      "2025-05-14 01:09:02,950 - INFO - Selected 657 samples for further processing.\n",
      "2025-05-14 01:09:02,953 - INFO - Defining the universal trigger pattern (delta)...\n",
      "2025-05-14 01:09:02,954 - INFO - Computing min and max values for each feature in the training dataset...\n",
      "2025-05-14 01:09:02,956 - INFO - Min and max values computed successfully.\n",
      "2025-05-14 01:09:02,957 - INFO - Trigger pattern (delta) initialized with shape: torch.Size([7])\n",
      "2025-05-14 01:09:02,958 - INFO - Computing mode vector of the entire training dataset...\n",
      "2025-05-14 01:09:02,964 - INFO - Mode vector computed successfully.\n",
      "2025-05-14 01:09:02,965 - INFO - Starting optimization of the trigger pattern (delta)...\n",
      "2025-05-14 01:09:03,635 - INFO - Epoch [10/100], Loss: 1.5882\n",
      "2025-05-14 01:09:04,353 - INFO - Epoch [20/100], Loss: 1.5451\n",
      "2025-05-14 01:09:05,064 - INFO - Epoch [30/100], Loss: 1.5219\n",
      "2025-05-14 01:09:05,739 - INFO - Epoch [40/100], Loss: 1.5015\n",
      "2025-05-14 01:09:06,437 - INFO - Epoch [50/100], Loss: 1.4837\n",
      "2025-05-14 01:09:07,098 - INFO - Epoch [60/100], Loss: 1.4651\n",
      "2025-05-14 01:09:07,847 - INFO - Epoch [70/100], Loss: 1.4476\n",
      "2025-05-14 01:09:08,517 - INFO - Epoch [80/100], Loss: 1.4303\n",
      "2025-05-14 01:09:09,198 - INFO - Epoch [90/100], Loss: 1.4123\n",
      "2025-05-14 01:09:09,904 - INFO - Epoch [100/100], Loss: 1.3935\n",
      "2025-05-14 01:09:09,904 - INFO - Trigger pattern (delta) optimization completed.\n",
      "2025-05-14 01:09:09,907 - INFO - Optimized trigger pattern (delta) saved to '/home/anhkhoa/ml4secu/save_path/saved_triggers/trigger_delta.pt'.\n",
      "2025-05-14 01:09:09,912 - INFO - Starting construction of the poisoned dataset with epsilon=0.25...\n",
      "2025-05-14 01:09:09,913 - INFO - Number of samples to poison: 3285 out of 13140 total training samples.\n",
      "2025-05-14 01:09:09,914 - INFO - Selected 3285 random samples for poisoning.\n",
      "2025-05-14 01:09:09,916 - INFO - Applied trigger to selected samples and relabeled them to the target class.\n",
      "2025-05-14 01:09:09,917 - INFO - Poisoned dataset constructed with 13140 samples.\n",
      "2025-05-14 01:09:09,918 - INFO - Starting construction of the poisoned dataset with epsilon=1.0...\n",
      "2025-05-14 01:09:09,919 - INFO - Number of samples to poison: 3286 out of 3286 total training samples.\n",
      "2025-05-14 01:09:09,920 - INFO - Selected 3286 random samples for poisoning.\n",
      "2025-05-14 01:09:09,922 - INFO - Applied trigger to selected samples and relabeled them to the target class.\n",
      "2025-05-14 01:09:09,924 - INFO - Poisoned dataset constructed with 3286 samples.\n"
     ]
    },
    {
     "name": "stdout",
     "output_type": "stream",
     "text": [
      "✅ Trigger optimized:\n",
      " tensor([-1.0676e-01, -2.1165e-05,  3.8019e-02, -2.5057e-02,  1.4967e-02,\n",
      "         4.2854e-02, -1.3565e-03], device='cuda:0', requires_grad=True)\n",
      "✅ Mode vector:\n",
      " tensor([0.0229, 0.2500, 0.8335, 0.0000, 0.0000, 0.0000, 0.0000],\n",
      "       device='cuda:0')\n"
     ]
    },
    {
     "name": "stderr",
     "output_type": "stream",
     "text": [
      "Epoch 1/3: 100%|██████████| 411/411 [00:03<00:00, 132.08batch/s, loss=0.611]\n"
     ]
    },
    {
     "name": "stdout",
     "output_type": "stream",
     "text": [
      "Epoch 1 - Avg Loss: 0.6109\n"
     ]
    },
    {
     "name": "stderr",
     "output_type": "stream",
     "text": [
      "Epoch 2/3: 100%|██████████| 411/411 [00:03<00:00, 133.06batch/s, loss=0.587]\n"
     ]
    },
    {
     "name": "stdout",
     "output_type": "stream",
     "text": [
      "Epoch 2 - Avg Loss: 0.5873\n"
     ]
    },
    {
     "name": "stderr",
     "output_type": "stream",
     "text": [
      "Epoch 3/3: 100%|██████████| 411/411 [00:02<00:00, 144.69batch/s, loss=0.588]\n",
      "2025-05-14 01:09:19,174 - INFO - [Generate Attack] Non-target triggered samples: 6576.\n",
      "2025-05-14 01:09:19,175 - INFO - ASR (pred == target_label): 70.76%\n",
      "2025-05-14 01:09:19,175 - INFO - Accuracy (pred == true label): 29.24%\n"
     ]
    },
    {
     "name": "stdout",
     "output_type": "stream",
     "text": [
      "Epoch 3 - Avg Loss: 0.5881\n"
     ]
    },
    {
     "name": "stderr",
     "output_type": "stream",
     "text": [
      "Epoch 1/3: 100%|██████████| 83/83 [00:00<00:00, 83.81batch/s, loss=0.665]\n"
     ]
    },
    {
     "name": "stdout",
     "output_type": "stream",
     "text": [
      "Epoch 1 - Avg Loss: 0.6646\n"
     ]
    },
    {
     "name": "stderr",
     "output_type": "stream",
     "text": [
      "Epoch 2/3: 100%|██████████| 83/83 [00:00<00:00, 97.26batch/s, loss=0.228]\n"
     ]
    },
    {
     "name": "stdout",
     "output_type": "stream",
     "text": [
      "Epoch 2 - Avg Loss: 0.2284\n"
     ]
    },
    {
     "name": "stderr",
     "output_type": "stream",
     "text": [
      "Epoch 3/3: 100%|██████████| 83/83 [00:00<00:00, 89.07batch/s, loss=0.122] \n",
      "2025-05-14 01:09:24,486 - INFO - [Generate Attack] Non-target triggered samples: 983.\n",
      "2025-05-14 01:09:24,487 - INFO - ASR (pred == target_label): 53.81%\n",
      "2025-05-14 01:09:24,488 - INFO - Accuracy (pred == true label): 46.19%\n",
      "2025-05-14 01:09:24,488 - INFO - Attack initialized with target label: 0\n",
      "2025-05-14 01:09:24,519 - INFO - Selecting non-target samples from the training dataset...\n",
      "2025-05-14 01:09:24,520 - INFO - Selected 6576 non-target samples out of 13140 total training samples.\n",
      "2025-05-14 01:09:24,521 - INFO - Starting confidence-based sample ranking...\n"
     ]
    },
    {
     "name": "stdout",
     "output_type": "stream",
     "text": [
      "Epoch 3 - Avg Loss: 0.1219\n",
      "Model state loaded successfully from /home/anhkhoa/ml4secu/save_path/LSTM_falfa\n"
     ]
    },
    {
     "name": "stderr",
     "output_type": "stream",
     "text": [
      "2025-05-14 01:09:25,064 - INFO - Selecting top 10.0% (657) samples based on confidence scores.\n",
      "2025-05-14 01:09:25,081 - INFO - Selected 657 samples for further processing.\n",
      "2025-05-14 01:09:25,083 - INFO - Defining the universal trigger pattern (delta)...\n",
      "2025-05-14 01:09:25,084 - INFO - Computing min and max values for each feature in the training dataset...\n",
      "2025-05-14 01:09:25,086 - INFO - Min and max values computed successfully.\n",
      "2025-05-14 01:09:25,087 - INFO - Trigger pattern (delta) initialized with shape: torch.Size([7])\n",
      "2025-05-14 01:09:25,088 - INFO - Computing mode vector of the entire training dataset...\n",
      "2025-05-14 01:09:25,094 - INFO - Mode vector computed successfully.\n",
      "2025-05-14 01:09:25,095 - INFO - Starting optimization of the trigger pattern (delta)...\n",
      "2025-05-14 01:09:25,829 - INFO - Epoch [10/100], Loss: 1.5956\n",
      "2025-05-14 01:09:26,566 - INFO - Epoch [20/100], Loss: 1.5557\n",
      "2025-05-14 01:09:27,361 - INFO - Epoch [30/100], Loss: 1.5294\n",
      "2025-05-14 01:09:28,053 - INFO - Epoch [40/100], Loss: 1.5096\n",
      "2025-05-14 01:09:28,768 - INFO - Epoch [50/100], Loss: 1.4905\n",
      "2025-05-14 01:09:29,471 - INFO - Epoch [60/100], Loss: 1.4725\n",
      "2025-05-14 01:09:30,235 - INFO - Epoch [70/100], Loss: 1.4549\n",
      "2025-05-14 01:09:31,100 - INFO - Epoch [80/100], Loss: 1.4372\n",
      "2025-05-14 01:09:31,806 - INFO - Epoch [90/100], Loss: 1.4194\n",
      "2025-05-14 01:09:33,074 - INFO - Epoch [100/100], Loss: 1.4015\n",
      "2025-05-14 01:09:33,076 - INFO - Trigger pattern (delta) optimization completed.\n",
      "2025-05-14 01:09:33,079 - INFO - Optimized trigger pattern (delta) saved to '/home/anhkhoa/ml4secu/save_path/saved_triggers/trigger_delta.pt'.\n",
      "2025-05-14 01:09:33,083 - INFO - Starting construction of the poisoned dataset with epsilon=0.3...\n",
      "2025-05-14 01:09:33,086 - INFO - Number of samples to poison: 3942 out of 13140 total training samples.\n",
      "2025-05-14 01:09:33,088 - INFO - Selected 3942 random samples for poisoning.\n",
      "2025-05-14 01:09:33,092 - INFO - Applied trigger to selected samples and relabeled them to the target class.\n",
      "2025-05-14 01:09:33,095 - INFO - Poisoned dataset constructed with 13140 samples.\n",
      "2025-05-14 01:09:33,096 - INFO - Starting construction of the poisoned dataset with epsilon=1.0...\n",
      "2025-05-14 01:09:33,100 - INFO - Number of samples to poison: 3286 out of 3286 total training samples.\n",
      "2025-05-14 01:09:33,101 - INFO - Selected 3286 random samples for poisoning.\n",
      "2025-05-14 01:09:33,104 - INFO - Applied trigger to selected samples and relabeled them to the target class.\n",
      "2025-05-14 01:09:33,107 - INFO - Poisoned dataset constructed with 3286 samples.\n"
     ]
    },
    {
     "name": "stdout",
     "output_type": "stream",
     "text": [
      "✅ Trigger optimized:\n",
      " tensor([-1.0458e-01,  7.0581e-06,  3.2195e-02, -2.4835e-02,  1.7701e-02,\n",
      "         3.9541e-02, -1.4812e-03], device='cuda:0', requires_grad=True)\n",
      "✅ Mode vector:\n",
      " tensor([0.0229, 0.2500, 0.8335, 0.0000, 0.0000, 0.0000, 0.0000],\n",
      "       device='cuda:0')\n"
     ]
    },
    {
     "name": "stderr",
     "output_type": "stream",
     "text": [
      "Epoch 1/3: 100%|██████████| 411/411 [00:03<00:00, 123.04batch/s, loss=0.598]\n"
     ]
    },
    {
     "name": "stdout",
     "output_type": "stream",
     "text": [
      "Epoch 1 - Avg Loss: 0.5985\n"
     ]
    },
    {
     "name": "stderr",
     "output_type": "stream",
     "text": [
      "Epoch 2/3: 100%|██████████| 411/411 [00:03<00:00, 123.60batch/s, loss=0.583]\n"
     ]
    },
    {
     "name": "stdout",
     "output_type": "stream",
     "text": [
      "Epoch 2 - Avg Loss: 0.5831\n"
     ]
    },
    {
     "name": "stderr",
     "output_type": "stream",
     "text": [
      "Epoch 3/3: 100%|██████████| 411/411 [00:03<00:00, 123.07batch/s, loss=0.578]\n"
     ]
    },
    {
     "name": "stdout",
     "output_type": "stream",
     "text": [
      "Epoch 3 - Avg Loss: 0.5782\n"
     ]
    },
    {
     "name": "stderr",
     "output_type": "stream",
     "text": [
      "2025-05-14 01:09:43,359 - INFO - [Generate Attack] Non-target triggered samples: 6576.\n",
      "2025-05-14 01:09:43,360 - INFO - ASR (pred == target_label): 74.64%\n",
      "2025-05-14 01:09:43,361 - INFO - Accuracy (pred == true label): 25.36%\n",
      "Epoch 1/3: 100%|██████████| 83/83 [00:01<00:00, 75.31batch/s, loss=0.648]\n"
     ]
    },
    {
     "name": "stdout",
     "output_type": "stream",
     "text": [
      "Epoch 1 - Avg Loss: 0.6479\n"
     ]
    },
    {
     "name": "stderr",
     "output_type": "stream",
     "text": [
      "Epoch 2/3: 100%|██████████| 83/83 [00:00<00:00, 88.10batch/s, loss=0.572]\n"
     ]
    },
    {
     "name": "stdout",
     "output_type": "stream",
     "text": [
      "Epoch 2 - Avg Loss: 0.5724\n"
     ]
    },
    {
     "name": "stderr",
     "output_type": "stream",
     "text": [
      "Epoch 3/3: 100%|██████████| 83/83 [00:01<00:00, 74.70batch/s, loss=0.246]\n",
      "2025-05-14 01:09:48,446 - INFO - [Generate Attack] Non-target triggered samples: 926.\n",
      "2025-05-14 01:09:48,447 - INFO - ASR (pred == target_label): 47.30%\n",
      "2025-05-14 01:09:48,447 - INFO - Accuracy (pred == true label): 52.70%\n",
      "2025-05-14 01:09:48,448 - INFO - Attack initialized with target label: 0\n",
      "2025-05-14 01:09:48,479 - INFO - Selecting non-target samples from the training dataset...\n",
      "2025-05-14 01:09:48,480 - INFO - Selected 6576 non-target samples out of 13140 total training samples.\n",
      "2025-05-14 01:09:48,482 - INFO - Starting confidence-based sample ranking...\n"
     ]
    },
    {
     "name": "stdout",
     "output_type": "stream",
     "text": [
      "Epoch 3 - Avg Loss: 0.2459\n",
      "Model state loaded successfully from /home/anhkhoa/ml4secu/save_path/LSTM_falfa\n"
     ]
    },
    {
     "name": "stderr",
     "output_type": "stream",
     "text": [
      "2025-05-14 01:09:49,026 - INFO - Selecting top 10.0% (657) samples based on confidence scores.\n",
      "2025-05-14 01:09:49,041 - INFO - Selected 657 samples for further processing.\n",
      "2025-05-14 01:09:49,043 - INFO - Defining the universal trigger pattern (delta)...\n",
      "2025-05-14 01:09:49,044 - INFO - Computing min and max values for each feature in the training dataset...\n",
      "2025-05-14 01:09:49,046 - INFO - Min and max values computed successfully.\n",
      "2025-05-14 01:09:49,047 - INFO - Trigger pattern (delta) initialized with shape: torch.Size([7])\n",
      "2025-05-14 01:09:49,047 - INFO - Computing mode vector of the entire training dataset...\n",
      "2025-05-14 01:09:49,054 - INFO - Mode vector computed successfully.\n",
      "2025-05-14 01:09:49,055 - INFO - Starting optimization of the trigger pattern (delta)...\n",
      "2025-05-14 01:09:49,731 - INFO - Epoch [10/100], Loss: 1.5234\n",
      "2025-05-14 01:09:50,376 - INFO - Epoch [20/100], Loss: 1.4959\n",
      "2025-05-14 01:09:51,070 - INFO - Epoch [30/100], Loss: 1.4710\n",
      "2025-05-14 01:09:51,928 - INFO - Epoch [40/100], Loss: 1.4461\n",
      "2025-05-14 01:09:52,566 - INFO - Epoch [50/100], Loss: 1.4210\n",
      "2025-05-14 01:09:53,249 - INFO - Epoch [60/100], Loss: 1.3932\n",
      "2025-05-14 01:09:53,930 - INFO - Epoch [70/100], Loss: 1.2801\n",
      "2025-05-14 01:09:54,619 - INFO - Epoch [80/100], Loss: 1.1758\n",
      "2025-05-14 01:09:55,260 - INFO - Epoch [90/100], Loss: 1.1518\n",
      "2025-05-14 01:09:55,912 - INFO - Epoch [100/100], Loss: 1.1320\n",
      "2025-05-14 01:09:55,913 - INFO - Trigger pattern (delta) optimization completed.\n",
      "2025-05-14 01:09:55,915 - INFO - Optimized trigger pattern (delta) saved to '/home/anhkhoa/ml4secu/save_path/saved_triggers/trigger_delta.pt'.\n",
      "2025-05-14 01:09:55,920 - INFO - Starting construction of the poisoned dataset with epsilon=0.35000000000000003...\n",
      "2025-05-14 01:09:55,921 - INFO - Number of samples to poison: 4599 out of 13140 total training samples.\n",
      "2025-05-14 01:09:55,922 - INFO - Selected 4599 random samples for poisoning.\n",
      "2025-05-14 01:09:55,924 - INFO - Applied trigger to selected samples and relabeled them to the target class.\n",
      "2025-05-14 01:09:55,927 - INFO - Poisoned dataset constructed with 13140 samples.\n",
      "2025-05-14 01:09:55,928 - INFO - Starting construction of the poisoned dataset with epsilon=1.0...\n",
      "2025-05-14 01:09:55,929 - INFO - Number of samples to poison: 3286 out of 3286 total training samples.\n",
      "2025-05-14 01:09:55,930 - INFO - Selected 3286 random samples for poisoning.\n",
      "2025-05-14 01:09:55,933 - INFO - Applied trigger to selected samples and relabeled them to the target class.\n",
      "2025-05-14 01:09:55,935 - INFO - Poisoned dataset constructed with 3286 samples.\n"
     ]
    },
    {
     "name": "stdout",
     "output_type": "stream",
     "text": [
      "✅ Trigger optimized:\n",
      " tensor([-1.1028e-01, -1.0459e-04,  1.0112e-01,  2.0075e-02,  1.1516e-01,\n",
      "         4.5176e-02, -3.3357e-02], device='cuda:0', requires_grad=True)\n",
      "✅ Mode vector:\n",
      " tensor([0.0229, 0.2500, 0.8335, 0.0000, 0.0000, 0.0000, 0.0000],\n",
      "       device='cuda:0')\n"
     ]
    },
    {
     "name": "stderr",
     "output_type": "stream",
     "text": [
      "Epoch 1/3: 100%|██████████| 411/411 [00:03<00:00, 112.85batch/s, loss=0.588]\n"
     ]
    },
    {
     "name": "stdout",
     "output_type": "stream",
     "text": [
      "Epoch 1 - Avg Loss: 0.5876\n"
     ]
    },
    {
     "name": "stderr",
     "output_type": "stream",
     "text": [
      "Epoch 2/3: 100%|██████████| 411/411 [00:03<00:00, 107.49batch/s, loss=0.407]\n"
     ]
    },
    {
     "name": "stdout",
     "output_type": "stream",
     "text": [
      "Epoch 2 - Avg Loss: 0.4067\n"
     ]
    },
    {
     "name": "stderr",
     "output_type": "stream",
     "text": [
      "Epoch 3/3: 100%|██████████| 411/411 [00:03<00:00, 126.07batch/s, loss=0.378]\n",
      "2025-05-14 01:10:06,869 - INFO - [Generate Attack] Non-target triggered samples: 6576.\n",
      "2025-05-14 01:10:06,870 - INFO - ASR (pred == target_label): 100.00%\n",
      "2025-05-14 01:10:06,871 - INFO - Accuracy (pred == true label): 0.00%\n"
     ]
    },
    {
     "name": "stdout",
     "output_type": "stream",
     "text": [
      "Epoch 3 - Avg Loss: 0.3782\n"
     ]
    },
    {
     "name": "stderr",
     "output_type": "stream",
     "text": [
      "Epoch 1/3: 100%|██████████| 83/83 [00:01<00:00, 81.76batch/s, loss=0.641]\n"
     ]
    },
    {
     "name": "stdout",
     "output_type": "stream",
     "text": [
      "Epoch 1 - Avg Loss: 0.6407\n"
     ]
    },
    {
     "name": "stderr",
     "output_type": "stream",
     "text": [
      "Epoch 2/3: 100%|██████████| 83/83 [00:00<00:00, 91.79batch/s, loss=0.555]\n"
     ]
    },
    {
     "name": "stdout",
     "output_type": "stream",
     "text": [
      "Epoch 2 - Avg Loss: 0.5552\n"
     ]
    },
    {
     "name": "stderr",
     "output_type": "stream",
     "text": [
      "Epoch 3/3: 100%|██████████| 83/83 [00:00<00:00, 88.58batch/s, loss=0.292]\n",
      "2025-05-14 01:10:11,992 - INFO - [Generate Attack] Non-target triggered samples: 856.\n",
      "2025-05-14 01:10:11,993 - INFO - ASR (pred == target_label): 100.00%\n",
      "2025-05-14 01:10:11,993 - INFO - Accuracy (pred == true label): 0.00%\n",
      "2025-05-14 01:10:11,994 - INFO - Attack initialized with target label: 0\n",
      "2025-05-14 01:10:12,027 - INFO - Selecting non-target samples from the training dataset...\n",
      "2025-05-14 01:10:12,028 - INFO - Selected 6576 non-target samples out of 13140 total training samples.\n",
      "2025-05-14 01:10:12,029 - INFO - Starting confidence-based sample ranking...\n"
     ]
    },
    {
     "name": "stdout",
     "output_type": "stream",
     "text": [
      "Epoch 3 - Avg Loss: 0.2921\n",
      "Model state loaded successfully from /home/anhkhoa/ml4secu/save_path/LSTM_falfa\n"
     ]
    },
    {
     "name": "stderr",
     "output_type": "stream",
     "text": [
      "2025-05-14 01:10:12,558 - INFO - Selecting top 10.0% (657) samples based on confidence scores.\n",
      "2025-05-14 01:10:12,573 - INFO - Selected 657 samples for further processing.\n",
      "2025-05-14 01:10:12,575 - INFO - Defining the universal trigger pattern (delta)...\n",
      "2025-05-14 01:10:12,575 - INFO - Computing min and max values for each feature in the training dataset...\n",
      "2025-05-14 01:10:12,576 - INFO - Min and max values computed successfully.\n",
      "2025-05-14 01:10:12,577 - INFO - Trigger pattern (delta) initialized with shape: torch.Size([7])\n",
      "2025-05-14 01:10:12,578 - INFO - Computing mode vector of the entire training dataset...\n",
      "2025-05-14 01:10:12,583 - INFO - Mode vector computed successfully.\n",
      "2025-05-14 01:10:12,584 - INFO - Starting optimization of the trigger pattern (delta)...\n",
      "2025-05-14 01:10:13,264 - INFO - Epoch [10/100], Loss: 1.5520\n",
      "2025-05-14 01:10:13,945 - INFO - Epoch [20/100], Loss: 1.5151\n",
      "2025-05-14 01:10:14,620 - INFO - Epoch [30/100], Loss: 1.4813\n",
      "2025-05-14 01:10:15,276 - INFO - Epoch [40/100], Loss: 1.4541\n",
      "2025-05-14 01:10:15,917 - INFO - Epoch [50/100], Loss: 1.4085\n",
      "2025-05-14 01:10:16,567 - INFO - Epoch [60/100], Loss: 1.2558\n",
      "2025-05-14 01:10:17,224 - INFO - Epoch [70/100], Loss: 1.2112\n",
      "2025-05-14 01:10:17,845 - INFO - Epoch [80/100], Loss: 1.1782\n",
      "2025-05-14 01:10:18,482 - INFO - Epoch [90/100], Loss: 1.1592\n",
      "2025-05-14 01:10:19,126 - INFO - Epoch [100/100], Loss: 1.1398\n",
      "2025-05-14 01:10:19,127 - INFO - Trigger pattern (delta) optimization completed.\n",
      "2025-05-14 01:10:19,129 - INFO - Optimized trigger pattern (delta) saved to '/home/anhkhoa/ml4secu/save_path/saved_triggers/trigger_delta.pt'.\n",
      "2025-05-14 01:10:19,132 - INFO - Starting construction of the poisoned dataset with epsilon=0.4...\n",
      "2025-05-14 01:10:19,134 - INFO - Number of samples to poison: 5256 out of 13140 total training samples.\n",
      "2025-05-14 01:10:19,134 - INFO - Selected 5256 random samples for poisoning.\n",
      "2025-05-14 01:10:19,136 - INFO - Applied trigger to selected samples and relabeled them to the target class.\n",
      "2025-05-14 01:10:19,137 - INFO - Poisoned dataset constructed with 13140 samples.\n",
      "2025-05-14 01:10:19,138 - INFO - Starting construction of the poisoned dataset with epsilon=1.0...\n",
      "2025-05-14 01:10:19,139 - INFO - Number of samples to poison: 3286 out of 3286 total training samples.\n",
      "2025-05-14 01:10:19,141 - INFO - Selected 3286 random samples for poisoning.\n",
      "2025-05-14 01:10:19,143 - INFO - Applied trigger to selected samples and relabeled them to the target class.\n",
      "2025-05-14 01:10:19,144 - INFO - Poisoned dataset constructed with 3286 samples.\n"
     ]
    },
    {
     "name": "stdout",
     "output_type": "stream",
     "text": [
      "✅ Trigger optimized:\n",
      " tensor([-0.1243, -0.0009,  0.0746,  0.0186,  0.1052,  0.0217, -0.0443],\n",
      "       device='cuda:0', requires_grad=True)\n",
      "✅ Mode vector:\n",
      " tensor([0.0229, 0.2500, 0.8335, 0.0000, 0.0000, 0.0000, 0.0000],\n",
      "       device='cuda:0')\n"
     ]
    },
    {
     "name": "stderr",
     "output_type": "stream",
     "text": [
      "Epoch 1/3: 100%|██████████| 411/411 [00:03<00:00, 115.23batch/s, loss=0.572]\n"
     ]
    },
    {
     "name": "stdout",
     "output_type": "stream",
     "text": [
      "Epoch 1 - Avg Loss: 0.5720\n"
     ]
    },
    {
     "name": "stderr",
     "output_type": "stream",
     "text": [
      "Epoch 2/3: 100%|██████████| 411/411 [00:03<00:00, 114.92batch/s, loss=0.484]\n"
     ]
    },
    {
     "name": "stdout",
     "output_type": "stream",
     "text": [
      "Epoch 2 - Avg Loss: 0.4837\n"
     ]
    },
    {
     "name": "stderr",
     "output_type": "stream",
     "text": [
      "Epoch 3/3: 100%|██████████| 411/411 [00:03<00:00, 127.77batch/s, loss=0.365]\n"
     ]
    },
    {
     "name": "stdout",
     "output_type": "stream",
     "text": [
      "Epoch 3 - Avg Loss: 0.3654\n"
     ]
    },
    {
     "name": "stderr",
     "output_type": "stream",
     "text": [
      "2025-05-14 01:10:29,742 - INFO - [Generate Attack] Non-target triggered samples: 6576.\n",
      "2025-05-14 01:10:29,743 - INFO - ASR (pred == target_label): 99.91%\n",
      "2025-05-14 01:10:29,744 - INFO - Accuracy (pred == true label): 0.09%\n",
      "Epoch 1/3: 100%|██████████| 83/83 [00:01<00:00, 74.55batch/s, loss=0.617]\n"
     ]
    },
    {
     "name": "stdout",
     "output_type": "stream",
     "text": [
      "Epoch 1 - Avg Loss: 0.6172\n"
     ]
    },
    {
     "name": "stderr",
     "output_type": "stream",
     "text": [
      "Epoch 2/3: 100%|██████████| 83/83 [00:00<00:00, 88.49batch/s, loss=0.598]\n"
     ]
    },
    {
     "name": "stdout",
     "output_type": "stream",
     "text": [
      "Epoch 2 - Avg Loss: 0.5982\n"
     ]
    },
    {
     "name": "stderr",
     "output_type": "stream",
     "text": [
      "Epoch 3/3: 100%|██████████| 83/83 [00:00<00:00, 89.02batch/s, loss=0.486]\n",
      "2025-05-14 01:10:34,627 - INFO - [Generate Attack] Non-target triggered samples: 788.\n",
      "2025-05-14 01:10:34,628 - INFO - ASR (pred == target_label): 100.00%\n",
      "2025-05-14 01:10:34,629 - INFO - Accuracy (pred == true label): 0.00%\n",
      "2025-05-14 01:10:34,630 - INFO - Attack initialized with target label: 0\n",
      "2025-05-14 01:10:34,671 - INFO - Selecting non-target samples from the training dataset...\n",
      "2025-05-14 01:10:34,672 - INFO - Selected 6576 non-target samples out of 13140 total training samples.\n",
      "2025-05-14 01:10:34,673 - INFO - Starting confidence-based sample ranking...\n"
     ]
    },
    {
     "name": "stdout",
     "output_type": "stream",
     "text": [
      "Epoch 3 - Avg Loss: 0.4861\n",
      "Model state loaded successfully from /home/anhkhoa/ml4secu/save_path/LSTM_falfa\n"
     ]
    },
    {
     "name": "stderr",
     "output_type": "stream",
     "text": [
      "2025-05-14 01:10:35,304 - INFO - Selecting top 10.0% (657) samples based on confidence scores.\n",
      "2025-05-14 01:10:35,320 - INFO - Selected 657 samples for further processing.\n",
      "2025-05-14 01:10:35,322 - INFO - Defining the universal trigger pattern (delta)...\n",
      "2025-05-14 01:10:35,322 - INFO - Computing min and max values for each feature in the training dataset...\n",
      "2025-05-14 01:10:35,324 - INFO - Min and max values computed successfully.\n",
      "2025-05-14 01:10:35,325 - INFO - Trigger pattern (delta) initialized with shape: torch.Size([7])\n",
      "2025-05-14 01:10:35,325 - INFO - Computing mode vector of the entire training dataset...\n",
      "2025-05-14 01:10:35,331 - INFO - Mode vector computed successfully.\n",
      "2025-05-14 01:10:35,332 - INFO - Starting optimization of the trigger pattern (delta)...\n",
      "2025-05-14 01:10:36,021 - INFO - Epoch [10/100], Loss: 1.5751\n",
      "2025-05-14 01:10:36,719 - INFO - Epoch [20/100], Loss: 1.5372\n",
      "2025-05-14 01:10:37,406 - INFO - Epoch [30/100], Loss: 1.4215\n",
      "2025-05-14 01:10:38,100 - INFO - Epoch [40/100], Loss: 1.3474\n",
      "2025-05-14 01:10:38,769 - INFO - Epoch [50/100], Loss: 1.3126\n",
      "2025-05-14 01:10:39,442 - INFO - Epoch [60/100], Loss: 1.2831\n",
      "2025-05-14 01:10:40,123 - INFO - Epoch [70/100], Loss: 1.2572\n",
      "2025-05-14 01:10:40,803 - INFO - Epoch [80/100], Loss: 1.2308\n",
      "2025-05-14 01:10:41,477 - INFO - Epoch [90/100], Loss: 1.2045\n",
      "2025-05-14 01:10:42,150 - INFO - Epoch [100/100], Loss: 1.1839\n",
      "2025-05-14 01:10:42,151 - INFO - Trigger pattern (delta) optimization completed.\n",
      "2025-05-14 01:10:42,153 - INFO - Optimized trigger pattern (delta) saved to '/home/anhkhoa/ml4secu/save_path/saved_triggers/trigger_delta.pt'.\n",
      "2025-05-14 01:10:42,158 - INFO - Starting construction of the poisoned dataset with epsilon=0.45...\n",
      "2025-05-14 01:10:42,159 - INFO - Number of samples to poison: 5913 out of 13140 total training samples.\n",
      "2025-05-14 01:10:42,160 - INFO - Selected 5913 random samples for poisoning.\n",
      "2025-05-14 01:10:42,164 - INFO - Applied trigger to selected samples and relabeled them to the target class.\n",
      "2025-05-14 01:10:42,166 - INFO - Poisoned dataset constructed with 13140 samples.\n",
      "2025-05-14 01:10:42,168 - INFO - Starting construction of the poisoned dataset with epsilon=1.0...\n",
      "2025-05-14 01:10:42,169 - INFO - Number of samples to poison: 3286 out of 3286 total training samples.\n",
      "2025-05-14 01:10:42,170 - INFO - Selected 3286 random samples for poisoning.\n",
      "2025-05-14 01:10:42,173 - INFO - Applied trigger to selected samples and relabeled them to the target class.\n",
      "2025-05-14 01:10:42,176 - INFO - Poisoned dataset constructed with 3286 samples.\n"
     ]
    },
    {
     "name": "stdout",
     "output_type": "stream",
     "text": [
      "✅ Trigger optimized:\n",
      " tensor([-1.0520e-01, -1.4539e-02,  4.9856e-02,  2.1843e-02,  8.8719e-02,\n",
      "        -1.5553e-05, -5.3114e-02], device='cuda:0', requires_grad=True)\n",
      "✅ Mode vector:\n",
      " tensor([0.0229, 0.2500, 0.8335, 0.0000, 0.0000, 0.0000, 0.0000],\n",
      "       device='cuda:0')\n"
     ]
    },
    {
     "name": "stderr",
     "output_type": "stream",
     "text": [
      "Epoch 1/3: 100%|██████████| 411/411 [00:03<00:00, 123.51batch/s, loss=0.554]\n"
     ]
    },
    {
     "name": "stdout",
     "output_type": "stream",
     "text": [
      "Epoch 1 - Avg Loss: 0.5541\n"
     ]
    },
    {
     "name": "stderr",
     "output_type": "stream",
     "text": [
      "Epoch 2/3: 100%|██████████| 411/411 [00:03<00:00, 129.33batch/s, loss=0.487]\n"
     ]
    },
    {
     "name": "stdout",
     "output_type": "stream",
     "text": [
      "Epoch 2 - Avg Loss: 0.4868\n"
     ]
    },
    {
     "name": "stderr",
     "output_type": "stream",
     "text": [
      "Epoch 3/3: 100%|██████████| 411/411 [00:03<00:00, 122.41batch/s, loss=0.346]\n",
      "2025-05-14 01:10:52,241 - INFO - [Generate Attack] Non-target triggered samples: 6576.\n",
      "2025-05-14 01:10:52,242 - INFO - ASR (pred == target_label): 99.16%\n",
      "2025-05-14 01:10:52,243 - INFO - Accuracy (pred == true label): 0.84%\n"
     ]
    },
    {
     "name": "stdout",
     "output_type": "stream",
     "text": [
      "Epoch 3 - Avg Loss: 0.3455\n"
     ]
    },
    {
     "name": "stderr",
     "output_type": "stream",
     "text": [
      "Epoch 1/3: 100%|██████████| 83/83 [00:00<00:00, 86.01batch/s, loss=0.597]\n"
     ]
    },
    {
     "name": "stdout",
     "output_type": "stream",
     "text": [
      "Epoch 1 - Avg Loss: 0.5974\n"
     ]
    },
    {
     "name": "stderr",
     "output_type": "stream",
     "text": [
      "Epoch 2/3: 100%|██████████| 83/83 [00:01<00:00, 75.59batch/s, loss=0.588]\n"
     ]
    },
    {
     "name": "stdout",
     "output_type": "stream",
     "text": [
      "Epoch 2 - Avg Loss: 0.5877\n"
     ]
    },
    {
     "name": "stderr",
     "output_type": "stream",
     "text": [
      "Epoch 3/3: 100%|██████████| 83/83 [00:01<00:00, 71.55batch/s, loss=0.546]\n",
      "2025-05-14 01:10:57,852 - INFO - [Generate Attack] Non-target triggered samples: 716.\n",
      "2025-05-14 01:10:57,853 - INFO - ASR (pred == target_label): 100.00%\n",
      "2025-05-14 01:10:57,854 - INFO - Accuracy (pred == true label): 0.00%\n",
      "2025-05-14 01:10:57,855 - INFO - Attack initialized with target label: 0\n",
      "2025-05-14 01:10:57,886 - INFO - Selecting non-target samples from the training dataset...\n",
      "2025-05-14 01:10:57,887 - INFO - Selected 6576 non-target samples out of 13140 total training samples.\n",
      "2025-05-14 01:10:57,888 - INFO - Starting confidence-based sample ranking...\n"
     ]
    },
    {
     "name": "stdout",
     "output_type": "stream",
     "text": [
      "Epoch 3 - Avg Loss: 0.5456\n",
      "Model state loaded successfully from /home/anhkhoa/ml4secu/save_path/LSTM_falfa\n"
     ]
    },
    {
     "name": "stderr",
     "output_type": "stream",
     "text": [
      "2025-05-14 01:10:58,473 - INFO - Selecting top 10.0% (657) samples based on confidence scores.\n",
      "2025-05-14 01:10:58,493 - INFO - Selected 657 samples for further processing.\n",
      "2025-05-14 01:10:58,496 - INFO - Defining the universal trigger pattern (delta)...\n",
      "2025-05-14 01:10:58,497 - INFO - Computing min and max values for each feature in the training dataset...\n",
      "2025-05-14 01:10:58,499 - INFO - Min and max values computed successfully.\n",
      "2025-05-14 01:10:58,500 - INFO - Trigger pattern (delta) initialized with shape: torch.Size([7])\n",
      "2025-05-14 01:10:58,501 - INFO - Computing mode vector of the entire training dataset...\n",
      "2025-05-14 01:10:58,508 - INFO - Mode vector computed successfully.\n",
      "2025-05-14 01:10:58,510 - INFO - Starting optimization of the trigger pattern (delta)...\n",
      "2025-05-14 01:10:59,210 - INFO - Epoch [10/100], Loss: 1.5973\n",
      "2025-05-14 01:11:00,056 - INFO - Epoch [20/100], Loss: 1.5477\n",
      "2025-05-14 01:11:00,759 - INFO - Epoch [30/100], Loss: 1.5199\n",
      "2025-05-14 01:11:01,471 - INFO - Epoch [40/100], Loss: 1.4706\n",
      "2025-05-14 01:11:02,095 - INFO - Epoch [50/100], Loss: 1.3392\n",
      "2025-05-14 01:11:02,962 - INFO - Epoch [60/100], Loss: 1.2916\n",
      "2025-05-14 01:11:03,602 - INFO - Epoch [70/100], Loss: 1.2575\n",
      "2025-05-14 01:11:04,316 - INFO - Epoch [80/100], Loss: 1.2274\n",
      "2025-05-14 01:11:05,015 - INFO - Epoch [90/100], Loss: 1.1992\n",
      "2025-05-14 01:11:05,643 - INFO - Epoch [100/100], Loss: 1.1744\n",
      "2025-05-14 01:11:05,644 - INFO - Trigger pattern (delta) optimization completed.\n",
      "2025-05-14 01:11:05,646 - INFO - Optimized trigger pattern (delta) saved to '/home/anhkhoa/ml4secu/save_path/saved_triggers/trigger_delta.pt'.\n",
      "2025-05-14 01:11:05,650 - INFO - Starting construction of the poisoned dataset with epsilon=0.5...\n",
      "2025-05-14 01:11:05,651 - INFO - Number of samples to poison: 6570 out of 13140 total training samples.\n",
      "2025-05-14 01:11:05,652 - INFO - Selected 6570 random samples for poisoning.\n",
      "2025-05-14 01:11:05,654 - INFO - Applied trigger to selected samples and relabeled them to the target class.\n",
      "2025-05-14 01:11:05,656 - INFO - Poisoned dataset constructed with 13140 samples.\n",
      "2025-05-14 01:11:05,657 - INFO - Starting construction of the poisoned dataset with epsilon=1.0...\n",
      "2025-05-14 01:11:05,658 - INFO - Number of samples to poison: 3286 out of 3286 total training samples.\n",
      "2025-05-14 01:11:05,660 - INFO - Selected 3286 random samples for poisoning.\n",
      "2025-05-14 01:11:05,662 - INFO - Applied trigger to selected samples and relabeled them to the target class.\n",
      "2025-05-14 01:11:05,664 - INFO - Poisoned dataset constructed with 3286 samples.\n"
     ]
    },
    {
     "name": "stdout",
     "output_type": "stream",
     "text": [
      "✅ Trigger optimized:\n",
      " tensor([-1.0681e-01, -8.3444e-03,  5.4229e-02,  1.7146e-02,  9.6859e-02,\n",
      "         6.7170e-06, -5.0882e-02], device='cuda:0', requires_grad=True)\n",
      "✅ Mode vector:\n",
      " tensor([0.0229, 0.2500, 0.8335, 0.0000, 0.0000, 0.0000, 0.0000],\n",
      "       device='cuda:0')\n"
     ]
    },
    {
     "name": "stderr",
     "output_type": "stream",
     "text": [
      "Epoch 1/3: 100%|██████████| 411/411 [00:03<00:00, 123.84batch/s, loss=0.529]\n"
     ]
    },
    {
     "name": "stdout",
     "output_type": "stream",
     "text": [
      "Epoch 1 - Avg Loss: 0.5292\n"
     ]
    },
    {
     "name": "stderr",
     "output_type": "stream",
     "text": [
      "Epoch 2/3: 100%|██████████| 411/411 [00:03<00:00, 134.57batch/s, loss=0.487]\n"
     ]
    },
    {
     "name": "stdout",
     "output_type": "stream",
     "text": [
      "Epoch 2 - Avg Loss: 0.4869\n"
     ]
    },
    {
     "name": "stderr",
     "output_type": "stream",
     "text": [
      "Epoch 3/3: 100%|██████████| 411/411 [00:03<00:00, 129.52batch/s, loss=0.324]\n",
      "2025-05-14 01:11:15,411 - INFO - [Generate Attack] Non-target triggered samples: 6576.\n",
      "2025-05-14 01:11:15,412 - INFO - ASR (pred == target_label): 98.66%\n",
      "2025-05-14 01:11:15,413 - INFO - Accuracy (pred == true label): 1.34%\n"
     ]
    },
    {
     "name": "stdout",
     "output_type": "stream",
     "text": [
      "Epoch 3 - Avg Loss: 0.3237\n"
     ]
    },
    {
     "name": "stderr",
     "output_type": "stream",
     "text": [
      "Epoch 1/3: 100%|██████████| 83/83 [00:00<00:00, 87.82batch/s, loss=0.57] \n"
     ]
    },
    {
     "name": "stdout",
     "output_type": "stream",
     "text": [
      "Epoch 1 - Avg Loss: 0.5704\n"
     ]
    },
    {
     "name": "stderr",
     "output_type": "stream",
     "text": [
      "Epoch 2/3: 100%|██████████| 83/83 [00:00<00:00, 93.95batch/s, loss=0.561]\n"
     ]
    },
    {
     "name": "stdout",
     "output_type": "stream",
     "text": [
      "Epoch 2 - Avg Loss: 0.5613\n"
     ]
    },
    {
     "name": "stderr",
     "output_type": "stream",
     "text": [
      "Epoch 3/3: 100%|██████████| 83/83 [00:00<00:00, 96.48batch/s, loss=0.462]\n",
      "2025-05-14 01:11:20,230 - INFO - [Generate Attack] Non-target triggered samples: 649.\n",
      "2025-05-14 01:11:20,231 - INFO - ASR (pred == target_label): 100.00%\n",
      "2025-05-14 01:11:20,232 - INFO - Accuracy (pred == true label): 0.00%\n",
      "2025-05-14 01:11:20,232 - INFO - Attack initialized with target label: 0\n",
      "2025-05-14 01:11:20,262 - INFO - Selecting non-target samples from the training dataset...\n",
      "2025-05-14 01:11:20,263 - INFO - Selected 6576 non-target samples out of 13140 total training samples.\n",
      "2025-05-14 01:11:20,264 - INFO - Starting confidence-based sample ranking...\n"
     ]
    },
    {
     "name": "stdout",
     "output_type": "stream",
     "text": [
      "Epoch 3 - Avg Loss: 0.4616\n",
      "Model state loaded successfully from /home/anhkhoa/ml4secu/save_path/LSTM_falfa\n"
     ]
    },
    {
     "name": "stderr",
     "output_type": "stream",
     "text": [
      "2025-05-14 01:11:20,779 - INFO - Selecting top 10.0% (657) samples based on confidence scores.\n",
      "2025-05-14 01:11:20,794 - INFO - Selected 657 samples for further processing.\n",
      "2025-05-14 01:11:20,796 - INFO - Defining the universal trigger pattern (delta)...\n",
      "2025-05-14 01:11:20,797 - INFO - Computing min and max values for each feature in the training dataset...\n",
      "2025-05-14 01:11:20,799 - INFO - Min and max values computed successfully.\n",
      "2025-05-14 01:11:20,800 - INFO - Trigger pattern (delta) initialized with shape: torch.Size([7])\n",
      "2025-05-14 01:11:20,801 - INFO - Computing mode vector of the entire training dataset...\n",
      "2025-05-14 01:11:20,806 - INFO - Mode vector computed successfully.\n",
      "2025-05-14 01:11:20,807 - INFO - Starting optimization of the trigger pattern (delta)...\n",
      "2025-05-14 01:11:21,466 - INFO - Epoch [10/100], Loss: 1.5898\n",
      "2025-05-14 01:11:22,085 - INFO - Epoch [20/100], Loss: 1.5572\n",
      "2025-05-14 01:11:22,693 - INFO - Epoch [30/100], Loss: 1.5338\n",
      "2025-05-14 01:11:23,366 - INFO - Epoch [40/100], Loss: 1.5119\n",
      "2025-05-14 01:11:24,142 - INFO - Epoch [50/100], Loss: 1.4918\n",
      "2025-05-14 01:11:24,929 - INFO - Epoch [60/100], Loss: 1.4716\n",
      "2025-05-14 01:11:25,526 - INFO - Epoch [70/100], Loss: 1.4511\n",
      "2025-05-14 01:11:26,184 - INFO - Epoch [80/100], Loss: 1.4305\n",
      "2025-05-14 01:11:26,836 - INFO - Epoch [90/100], Loss: 1.4104\n",
      "2025-05-14 01:11:27,438 - INFO - Epoch [100/100], Loss: 1.3898\n",
      "2025-05-14 01:11:27,439 - INFO - Trigger pattern (delta) optimization completed.\n",
      "2025-05-14 01:11:27,441 - INFO - Optimized trigger pattern (delta) saved to '/home/anhkhoa/ml4secu/save_path/saved_triggers/trigger_delta.pt'.\n",
      "2025-05-14 01:11:27,445 - INFO - Starting construction of the poisoned dataset with epsilon=0.55...\n",
      "2025-05-14 01:11:27,447 - INFO - Number of samples to poison: 7227 out of 13140 total training samples.\n",
      "2025-05-14 01:11:27,448 - INFO - Selected 7227 random samples for poisoning.\n",
      "2025-05-14 01:11:27,451 - INFO - Applied trigger to selected samples and relabeled them to the target class.\n",
      "2025-05-14 01:11:27,453 - INFO - Poisoned dataset constructed with 13140 samples.\n",
      "2025-05-14 01:11:27,454 - INFO - Starting construction of the poisoned dataset with epsilon=1.0...\n",
      "2025-05-14 01:11:27,455 - INFO - Number of samples to poison: 3286 out of 3286 total training samples.\n",
      "2025-05-14 01:11:27,456 - INFO - Selected 3286 random samples for poisoning.\n",
      "2025-05-14 01:11:27,459 - INFO - Applied trigger to selected samples and relabeled them to the target class.\n",
      "2025-05-14 01:11:27,460 - INFO - Poisoned dataset constructed with 3286 samples.\n"
     ]
    },
    {
     "name": "stdout",
     "output_type": "stream",
     "text": [
      "✅ Trigger optimized:\n",
      " tensor([-1.0073e-01, -2.1844e-05,  4.6394e-02, -2.4834e-02,  2.1467e-02,\n",
      "         4.6101e-02, -1.5274e-03], device='cuda:0', requires_grad=True)\n",
      "✅ Mode vector:\n",
      " tensor([0.0229, 0.2500, 0.8335, 0.0000, 0.0000, 0.0000, 0.0000],\n",
      "       device='cuda:0')\n"
     ]
    },
    {
     "name": "stderr",
     "output_type": "stream",
     "text": [
      "Epoch 1/3: 100%|██████████| 411/411 [00:02<00:00, 137.37batch/s, loss=0.51] \n"
     ]
    },
    {
     "name": "stdout",
     "output_type": "stream",
     "text": [
      "Epoch 1 - Avg Loss: 0.5096\n"
     ]
    },
    {
     "name": "stderr",
     "output_type": "stream",
     "text": [
      "Epoch 2/3: 100%|██████████| 411/411 [00:02<00:00, 137.85batch/s, loss=0.493]\n"
     ]
    },
    {
     "name": "stdout",
     "output_type": "stream",
     "text": [
      "Epoch 2 - Avg Loss: 0.4931\n"
     ]
    },
    {
     "name": "stderr",
     "output_type": "stream",
     "text": [
      "Epoch 3/3: 100%|██████████| 411/411 [00:03<00:00, 128.74batch/s, loss=0.49] \n",
      "2025-05-14 01:11:36,823 - INFO - [Generate Attack] Non-target triggered samples: 6576.\n",
      "2025-05-14 01:11:36,825 - INFO - ASR (pred == target_label): 100.00%\n",
      "2025-05-14 01:11:36,826 - INFO - Accuracy (pred == true label): 0.00%\n"
     ]
    },
    {
     "name": "stdout",
     "output_type": "stream",
     "text": [
      "Epoch 3 - Avg Loss: 0.4904\n"
     ]
    },
    {
     "name": "stderr",
     "output_type": "stream",
     "text": [
      "Epoch 1/3: 100%|██████████| 83/83 [00:00<00:00, 94.97batch/s, loss=0.545]\n"
     ]
    },
    {
     "name": "stdout",
     "output_type": "stream",
     "text": [
      "Epoch 1 - Avg Loss: 0.5450\n"
     ]
    },
    {
     "name": "stderr",
     "output_type": "stream",
     "text": [
      "Epoch 2/3: 100%|██████████| 83/83 [00:00<00:00, 96.35batch/s, loss=0.543]\n"
     ]
    },
    {
     "name": "stdout",
     "output_type": "stream",
     "text": [
      "Epoch 2 - Avg Loss: 0.5427\n"
     ]
    },
    {
     "name": "stderr",
     "output_type": "stream",
     "text": [
      "Epoch 3/3: 100%|██████████| 83/83 [00:00<00:00, 96.67batch/s, loss=0.33] \n",
      "2025-05-14 01:11:41,477 - INFO - [Generate Attack] Non-target triggered samples: 596.\n",
      "2025-05-14 01:11:41,478 - INFO - ASR (pred == target_label): 80.87%\n",
      "2025-05-14 01:11:41,479 - INFO - Accuracy (pred == true label): 19.13%\n",
      "2025-05-14 01:11:41,480 - INFO - Attack initialized with target label: 0\n",
      "2025-05-14 01:11:41,512 - INFO - Selecting non-target samples from the training dataset...\n",
      "2025-05-14 01:11:41,513 - INFO - Selected 6576 non-target samples out of 13140 total training samples.\n",
      "2025-05-14 01:11:41,514 - INFO - Starting confidence-based sample ranking...\n"
     ]
    },
    {
     "name": "stdout",
     "output_type": "stream",
     "text": [
      "Epoch 3 - Avg Loss: 0.3296\n",
      "Model state loaded successfully from /home/anhkhoa/ml4secu/save_path/LSTM_falfa\n"
     ]
    },
    {
     "name": "stderr",
     "output_type": "stream",
     "text": [
      "2025-05-14 01:11:42,034 - INFO - Selecting top 10.0% (657) samples based on confidence scores.\n",
      "2025-05-14 01:11:42,049 - INFO - Selected 657 samples for further processing.\n",
      "2025-05-14 01:11:42,051 - INFO - Defining the universal trigger pattern (delta)...\n",
      "2025-05-14 01:11:42,051 - INFO - Computing min and max values for each feature in the training dataset...\n",
      "2025-05-14 01:11:42,054 - INFO - Min and max values computed successfully.\n",
      "2025-05-14 01:11:42,055 - INFO - Trigger pattern (delta) initialized with shape: torch.Size([7])\n",
      "2025-05-14 01:11:42,056 - INFO - Computing mode vector of the entire training dataset...\n",
      "2025-05-14 01:11:42,062 - INFO - Mode vector computed successfully.\n",
      "2025-05-14 01:11:42,063 - INFO - Starting optimization of the trigger pattern (delta)...\n",
      "2025-05-14 01:11:42,666 - INFO - Epoch [10/100], Loss: 1.5651\n",
      "2025-05-14 01:11:43,256 - INFO - Epoch [20/100], Loss: 1.5409\n",
      "2025-05-14 01:11:43,850 - INFO - Epoch [30/100], Loss: 1.5173\n",
      "2025-05-14 01:11:44,446 - INFO - Epoch [40/100], Loss: 1.4926\n",
      "2025-05-14 01:11:45,114 - INFO - Epoch [50/100], Loss: 1.4710\n",
      "2025-05-14 01:11:45,744 - INFO - Epoch [60/100], Loss: 1.4468\n",
      "2025-05-14 01:11:46,385 - INFO - Epoch [70/100], Loss: 1.4268\n",
      "2025-05-14 01:11:47,030 - INFO - Epoch [80/100], Loss: 1.4011\n",
      "2025-05-14 01:11:47,688 - INFO - Epoch [90/100], Loss: 1.3797\n",
      "2025-05-14 01:11:48,347 - INFO - Epoch [100/100], Loss: 1.3565\n",
      "2025-05-14 01:11:48,347 - INFO - Trigger pattern (delta) optimization completed.\n",
      "2025-05-14 01:11:48,349 - INFO - Optimized trigger pattern (delta) saved to '/home/anhkhoa/ml4secu/save_path/saved_triggers/trigger_delta.pt'.\n",
      "2025-05-14 01:11:48,355 - INFO - Starting construction of the poisoned dataset with epsilon=0.6000000000000001...\n",
      "2025-05-14 01:11:48,356 - INFO - Number of samples to poison: 7884 out of 13140 total training samples.\n",
      "2025-05-14 01:11:48,357 - INFO - Selected 7884 random samples for poisoning.\n",
      "2025-05-14 01:11:48,360 - INFO - Applied trigger to selected samples and relabeled them to the target class.\n",
      "2025-05-14 01:11:48,361 - INFO - Poisoned dataset constructed with 13140 samples.\n",
      "2025-05-14 01:11:48,362 - INFO - Starting construction of the poisoned dataset with epsilon=1.0...\n",
      "2025-05-14 01:11:48,364 - INFO - Number of samples to poison: 3286 out of 3286 total training samples.\n",
      "2025-05-14 01:11:48,365 - INFO - Selected 3286 random samples for poisoning.\n",
      "2025-05-14 01:11:48,367 - INFO - Applied trigger to selected samples and relabeled them to the target class.\n",
      "2025-05-14 01:11:48,369 - INFO - Poisoned dataset constructed with 3286 samples.\n"
     ]
    },
    {
     "name": "stdout",
     "output_type": "stream",
     "text": [
      "✅ Trigger optimized:\n",
      " tensor([-7.9178e-02,  3.2260e-05,  9.7883e-02, -1.3109e-02,  4.4294e-02,\n",
      "         7.6603e-02, -1.9831e-03], device='cuda:0', requires_grad=True)\n",
      "✅ Mode vector:\n",
      " tensor([0.0229, 0.2500, 0.8335, 0.0000, 0.0000, 0.0000, 0.0000],\n",
      "       device='cuda:0')\n"
     ]
    },
    {
     "name": "stderr",
     "output_type": "stream",
     "text": [
      "Epoch 1/3: 100%|██████████| 411/411 [00:02<00:00, 142.72batch/s, loss=0.458]\n"
     ]
    },
    {
     "name": "stdout",
     "output_type": "stream",
     "text": [
      "Epoch 1 - Avg Loss: 0.4577\n"
     ]
    },
    {
     "name": "stderr",
     "output_type": "stream",
     "text": [
      "Epoch 2/3: 100%|██████████| 411/411 [00:03<00:00, 116.38batch/s, loss=0.307]\n"
     ]
    },
    {
     "name": "stdout",
     "output_type": "stream",
     "text": [
      "Epoch 2 - Avg Loss: 0.3072\n"
     ]
    },
    {
     "name": "stderr",
     "output_type": "stream",
     "text": [
      "Epoch 3/3: 100%|██████████| 411/411 [00:03<00:00, 117.29batch/s, loss=0.246]\n"
     ]
    },
    {
     "name": "stdout",
     "output_type": "stream",
     "text": [
      "Epoch 3 - Avg Loss: 0.2460\n"
     ]
    },
    {
     "name": "stderr",
     "output_type": "stream",
     "text": [
      "2025-05-14 01:11:58,528 - INFO - [Generate Attack] Non-target triggered samples: 6576.\n",
      "2025-05-14 01:11:58,530 - INFO - ASR (pred == target_label): 100.00%\n",
      "2025-05-14 01:11:58,531 - INFO - Accuracy (pred == true label): 0.00%\n",
      "Epoch 1/3: 100%|██████████| 83/83 [00:01<00:00, 81.78batch/s, loss=0.514]\n"
     ]
    },
    {
     "name": "stdout",
     "output_type": "stream",
     "text": [
      "Epoch 1 - Avg Loss: 0.5141\n"
     ]
    },
    {
     "name": "stderr",
     "output_type": "stream",
     "text": [
      "Epoch 2/3: 100%|██████████| 83/83 [00:00<00:00, 93.94batch/s, loss=0.497]\n"
     ]
    },
    {
     "name": "stdout",
     "output_type": "stream",
     "text": [
      "Epoch 2 - Avg Loss: 0.4973\n"
     ]
    },
    {
     "name": "stderr",
     "output_type": "stream",
     "text": [
      "Epoch 3/3: 100%|██████████| 83/83 [00:00<00:00, 98.12batch/s, loss=0.404]\n",
      "2025-05-14 01:12:03,223 - INFO - [Generate Attack] Non-target triggered samples: 521.\n",
      "2025-05-14 01:12:03,224 - INFO - ASR (pred == target_label): 90.21%\n",
      "2025-05-14 01:12:03,224 - INFO - Accuracy (pred == true label): 9.79%\n",
      "2025-05-14 01:12:03,225 - INFO - Attack initialized with target label: 0\n",
      "2025-05-14 01:12:03,258 - INFO - Selecting non-target samples from the training dataset...\n",
      "2025-05-14 01:12:03,259 - INFO - Selected 6576 non-target samples out of 13140 total training samples.\n",
      "2025-05-14 01:12:03,260 - INFO - Starting confidence-based sample ranking...\n"
     ]
    },
    {
     "name": "stdout",
     "output_type": "stream",
     "text": [
      "Epoch 3 - Avg Loss: 0.4042\n",
      "Model state loaded successfully from /home/anhkhoa/ml4secu/save_path/LSTM_falfa\n"
     ]
    },
    {
     "name": "stderr",
     "output_type": "stream",
     "text": [
      "2025-05-14 01:12:03,784 - INFO - Selecting top 10.0% (657) samples based on confidence scores.\n",
      "2025-05-14 01:12:03,806 - INFO - Selected 657 samples for further processing.\n",
      "2025-05-14 01:12:03,808 - INFO - Defining the universal trigger pattern (delta)...\n",
      "2025-05-14 01:12:03,810 - INFO - Computing min and max values for each feature in the training dataset...\n",
      "2025-05-14 01:12:03,812 - INFO - Min and max values computed successfully.\n",
      "2025-05-14 01:12:03,813 - INFO - Trigger pattern (delta) initialized with shape: torch.Size([7])\n",
      "2025-05-14 01:12:03,814 - INFO - Computing mode vector of the entire training dataset...\n",
      "2025-05-14 01:12:03,819 - INFO - Mode vector computed successfully.\n",
      "2025-05-14 01:12:03,820 - INFO - Starting optimization of the trigger pattern (delta)...\n",
      "2025-05-14 01:12:04,427 - INFO - Epoch [10/100], Loss: 1.5587\n",
      "2025-05-14 01:12:05,028 - INFO - Epoch [20/100], Loss: 1.5296\n",
      "2025-05-14 01:12:05,628 - INFO - Epoch [30/100], Loss: 1.5034\n",
      "2025-05-14 01:12:06,241 - INFO - Epoch [40/100], Loss: 1.4782\n",
      "2025-05-14 01:12:06,892 - INFO - Epoch [50/100], Loss: 1.4528\n",
      "2025-05-14 01:12:07,537 - INFO - Epoch [60/100], Loss: 1.4280\n",
      "2025-05-14 01:12:08,140 - INFO - Epoch [70/100], Loss: 1.4028\n",
      "2025-05-14 01:12:08,798 - INFO - Epoch [80/100], Loss: 1.3281\n",
      "2025-05-14 01:12:09,442 - INFO - Epoch [90/100], Loss: 1.1745\n",
      "2025-05-14 01:12:10,086 - INFO - Epoch [100/100], Loss: 1.1435\n",
      "2025-05-14 01:12:10,087 - INFO - Trigger pattern (delta) optimization completed.\n",
      "2025-05-14 01:12:10,089 - INFO - Optimized trigger pattern (delta) saved to '/home/anhkhoa/ml4secu/save_path/saved_triggers/trigger_delta.pt'.\n",
      "2025-05-14 01:12:10,093 - INFO - Starting construction of the poisoned dataset with epsilon=0.6500000000000001...\n",
      "2025-05-14 01:12:10,095 - INFO - Number of samples to poison: 8541 out of 13140 total training samples.\n",
      "2025-05-14 01:12:10,096 - INFO - Selected 8541 random samples for poisoning.\n",
      "2025-05-14 01:12:10,098 - INFO - Applied trigger to selected samples and relabeled them to the target class.\n",
      "2025-05-14 01:12:10,100 - INFO - Poisoned dataset constructed with 13140 samples.\n",
      "2025-05-14 01:12:10,101 - INFO - Starting construction of the poisoned dataset with epsilon=1.0...\n",
      "2025-05-14 01:12:10,102 - INFO - Number of samples to poison: 3286 out of 3286 total training samples.\n",
      "2025-05-14 01:12:10,103 - INFO - Selected 3286 random samples for poisoning.\n",
      "2025-05-14 01:12:10,105 - INFO - Applied trigger to selected samples and relabeled them to the target class.\n",
      "2025-05-14 01:12:10,107 - INFO - Poisoned dataset constructed with 3286 samples.\n"
     ]
    },
    {
     "name": "stdout",
     "output_type": "stream",
     "text": [
      "✅ Trigger optimized:\n",
      " tensor([-9.1168e-02, -4.4000e-05,  1.0375e-01,  1.2549e-02,  1.1952e-01,\n",
      "         4.0453e-02, -3.8691e-02], device='cuda:0', requires_grad=True)\n",
      "✅ Mode vector:\n",
      " tensor([0.0229, 0.2500, 0.8335, 0.0000, 0.0000, 0.0000, 0.0000],\n",
      "       device='cuda:0')\n"
     ]
    },
    {
     "name": "stderr",
     "output_type": "stream",
     "text": [
      "Epoch 1/3: 100%|██████████| 411/411 [00:03<00:00, 133.49batch/s, loss=0.451]\n"
     ]
    },
    {
     "name": "stdout",
     "output_type": "stream",
     "text": [
      "Epoch 1 - Avg Loss: 0.4506\n"
     ]
    },
    {
     "name": "stderr",
     "output_type": "stream",
     "text": [
      "Epoch 2/3: 100%|██████████| 411/411 [00:02<00:00, 146.09batch/s, loss=0.304]\n"
     ]
    },
    {
     "name": "stdout",
     "output_type": "stream",
     "text": [
      "Epoch 2 - Avg Loss: 0.3036\n"
     ]
    },
    {
     "name": "stderr",
     "output_type": "stream",
     "text": [
      "Epoch 3/3: 100%|██████████| 411/411 [00:02<00:00, 147.71batch/s, loss=0.218]\n",
      "2025-05-14 01:12:18,988 - INFO - [Generate Attack] Non-target triggered samples: 6576.\n",
      "2025-05-14 01:12:18,989 - INFO - ASR (pred == target_label): 99.97%\n",
      "2025-05-14 01:12:18,990 - INFO - Accuracy (pred == true label): 0.03%\n"
     ]
    },
    {
     "name": "stdout",
     "output_type": "stream",
     "text": [
      "Epoch 3 - Avg Loss: 0.2178\n"
     ]
    },
    {
     "name": "stderr",
     "output_type": "stream",
     "text": [
      "Epoch 1/3: 100%|██████████| 83/83 [00:00<00:00, 90.70batch/s, loss=0.485]\n"
     ]
    },
    {
     "name": "stdout",
     "output_type": "stream",
     "text": [
      "Epoch 1 - Avg Loss: 0.4849\n"
     ]
    },
    {
     "name": "stderr",
     "output_type": "stream",
     "text": [
      "Epoch 2/3: 100%|██████████| 83/83 [00:00<00:00, 90.78batch/s, loss=0.459]\n"
     ]
    },
    {
     "name": "stdout",
     "output_type": "stream",
     "text": [
      "Epoch 2 - Avg Loss: 0.4587\n"
     ]
    },
    {
     "name": "stderr",
     "output_type": "stream",
     "text": [
      "Epoch 3/3: 100%|██████████| 83/83 [00:00<00:00, 97.32batch/s, loss=0.336]\n",
      "2025-05-14 01:12:24,078 - INFO - [Generate Attack] Non-target triggered samples: 463.\n",
      "2025-05-14 01:12:24,079 - INFO - ASR (pred == target_label): 100.00%\n",
      "2025-05-14 01:12:24,080 - INFO - Accuracy (pred == true label): 0.00%\n",
      "2025-05-14 01:12:24,082 - INFO - Attack initialized with target label: 0\n",
      "2025-05-14 01:12:24,114 - INFO - Selecting non-target samples from the training dataset...\n",
      "2025-05-14 01:12:24,115 - INFO - Selected 6576 non-target samples out of 13140 total training samples.\n",
      "2025-05-14 01:12:24,117 - INFO - Starting confidence-based sample ranking...\n"
     ]
    },
    {
     "name": "stdout",
     "output_type": "stream",
     "text": [
      "Epoch 3 - Avg Loss: 0.3355\n",
      "Model state loaded successfully from /home/anhkhoa/ml4secu/save_path/LSTM_falfa\n"
     ]
    },
    {
     "name": "stderr",
     "output_type": "stream",
     "text": [
      "2025-05-14 01:12:24,613 - INFO - Selecting top 10.0% (657) samples based on confidence scores.\n",
      "2025-05-14 01:12:24,628 - INFO - Selected 657 samples for further processing.\n",
      "2025-05-14 01:12:24,630 - INFO - Defining the universal trigger pattern (delta)...\n",
      "2025-05-14 01:12:24,631 - INFO - Computing min and max values for each feature in the training dataset...\n",
      "2025-05-14 01:12:24,633 - INFO - Min and max values computed successfully.\n",
      "2025-05-14 01:12:24,635 - INFO - Trigger pattern (delta) initialized with shape: torch.Size([7])\n",
      "2025-05-14 01:12:24,636 - INFO - Computing mode vector of the entire training dataset...\n",
      "2025-05-14 01:12:24,642 - INFO - Mode vector computed successfully.\n",
      "2025-05-14 01:12:24,643 - INFO - Starting optimization of the trigger pattern (delta)...\n",
      "2025-05-14 01:12:25,286 - INFO - Epoch [10/100], Loss: 1.5532\n",
      "2025-05-14 01:12:25,885 - INFO - Epoch [20/100], Loss: 1.5214\n",
      "2025-05-14 01:12:26,499 - INFO - Epoch [30/100], Loss: 1.4918\n",
      "2025-05-14 01:12:27,086 - INFO - Epoch [40/100], Loss: 1.4513\n",
      "2025-05-14 01:12:27,674 - INFO - Epoch [50/100], Loss: 1.2789\n",
      "2025-05-14 01:12:28,271 - INFO - Epoch [60/100], Loss: 1.2330\n",
      "2025-05-14 01:12:28,875 - INFO - Epoch [70/100], Loss: 1.1992\n",
      "2025-05-14 01:12:29,474 - INFO - Epoch [80/100], Loss: 1.1716\n",
      "2025-05-14 01:12:30,073 - INFO - Epoch [90/100], Loss: 1.1537\n",
      "2025-05-14 01:12:30,690 - INFO - Epoch [100/100], Loss: 1.1344\n",
      "2025-05-14 01:12:30,691 - INFO - Trigger pattern (delta) optimization completed.\n",
      "2025-05-14 01:12:30,693 - INFO - Optimized trigger pattern (delta) saved to '/home/anhkhoa/ml4secu/save_path/saved_triggers/trigger_delta.pt'.\n",
      "2025-05-14 01:12:30,697 - INFO - Starting construction of the poisoned dataset with epsilon=0.7000000000000001...\n",
      "2025-05-14 01:12:30,698 - INFO - Number of samples to poison: 9198 out of 13140 total training samples.\n",
      "2025-05-14 01:12:30,699 - INFO - Selected 9198 random samples for poisoning.\n",
      "2025-05-14 01:12:30,701 - INFO - Applied trigger to selected samples and relabeled them to the target class.\n",
      "2025-05-14 01:12:30,702 - INFO - Poisoned dataset constructed with 13140 samples.\n",
      "2025-05-14 01:12:30,703 - INFO - Starting construction of the poisoned dataset with epsilon=1.0...\n",
      "2025-05-14 01:12:30,704 - INFO - Number of samples to poison: 3286 out of 3286 total training samples.\n",
      "2025-05-14 01:12:30,705 - INFO - Selected 3286 random samples for poisoning.\n",
      "2025-05-14 01:12:30,707 - INFO - Applied trigger to selected samples and relabeled them to the target class.\n",
      "2025-05-14 01:12:30,708 - INFO - Poisoned dataset constructed with 3286 samples.\n"
     ]
    },
    {
     "name": "stdout",
     "output_type": "stream",
     "text": [
      "✅ Trigger optimized:\n",
      " tensor([-0.1148, -0.0066,  0.0804,  0.0042,  0.1184,  0.0052, -0.0462],\n",
      "       device='cuda:0', requires_grad=True)\n",
      "✅ Mode vector:\n",
      " tensor([0.0229, 0.2500, 0.8335, 0.0000, 0.0000, 0.0000, 0.0000],\n",
      "       device='cuda:0')\n"
     ]
    },
    {
     "name": "stderr",
     "output_type": "stream",
     "text": [
      "Epoch 1/3: 100%|██████████| 411/411 [00:02<00:00, 142.68batch/s, loss=0.408]\n"
     ]
    },
    {
     "name": "stdout",
     "output_type": "stream",
     "text": [
      "Epoch 1 - Avg Loss: 0.4082\n"
     ]
    },
    {
     "name": "stderr",
     "output_type": "stream",
     "text": [
      "Epoch 2/3: 100%|██████████| 411/411 [00:02<00:00, 144.59batch/s, loss=0.301]\n"
     ]
    },
    {
     "name": "stdout",
     "output_type": "stream",
     "text": [
      "Epoch 2 - Avg Loss: 0.3012\n"
     ]
    },
    {
     "name": "stderr",
     "output_type": "stream",
     "text": [
      "Epoch 3/3: 100%|██████████| 411/411 [00:02<00:00, 142.50batch/s, loss=0.191]\n",
      "2025-05-14 01:12:39,536 - INFO - [Generate Attack] Non-target triggered samples: 6576.\n"
     ]
    },
    {
     "name": "stdout",
     "output_type": "stream",
     "text": [
      "Epoch 3 - Avg Loss: 0.1905\n"
     ]
    },
    {
     "name": "stderr",
     "output_type": "stream",
     "text": [
      "2025-05-14 01:12:39,537 - INFO - ASR (pred == target_label): 99.98%\n",
      "2025-05-14 01:12:39,538 - INFO - Accuracy (pred == true label): 0.02%\n",
      "Epoch 1/3: 100%|██████████| 83/83 [00:00<00:00, 86.05batch/s, loss=0.434]\n"
     ]
    },
    {
     "name": "stdout",
     "output_type": "stream",
     "text": [
      "Epoch 1 - Avg Loss: 0.4344\n"
     ]
    },
    {
     "name": "stderr",
     "output_type": "stream",
     "text": [
      "Epoch 2/3: 100%|██████████| 83/83 [00:00<00:00, 89.47batch/s, loss=0.415]\n"
     ]
    },
    {
     "name": "stdout",
     "output_type": "stream",
     "text": [
      "Epoch 2 - Avg Loss: 0.4153\n"
     ]
    },
    {
     "name": "stderr",
     "output_type": "stream",
     "text": [
      "Epoch 3/3: 100%|██████████| 83/83 [00:00<00:00, 94.91batch/s, loss=0.281]\n",
      "2025-05-14 01:12:45,762 - INFO - [Generate Attack] Non-target triggered samples: 390.\n",
      "2025-05-14 01:12:45,763 - INFO - ASR (pred == target_label): 46.92%\n",
      "2025-05-14 01:12:45,764 - INFO - Accuracy (pred == true label): 53.08%\n"
     ]
    },
    {
     "name": "stdout",
     "output_type": "stream",
     "text": [
      "Epoch 3 - Avg Loss: 0.2811\n"
     ]
    }
   ],
   "source": [
    "# --- Initialize Model ---\n",
    "num_epochs = 3\n",
    "model = LSTM().to(device)\n",
    "optimizer = optim.Adam(model.parameters(), lr=learning_rate)\n",
    "criterion = nn.CrossEntropyLoss()\n",
    "\n",
    "eps_range = np.arange(0.05, 0.75, 0.05)\n",
    "\n",
    "accu_before_attack_list = []\n",
    "accu_after_defense_list = []\n",
    "\n",
    "for eps in eps_range:\n",
    "    # --- Initialize Attack ---\n",
    "    attack = universal_backdoor_attack(\n",
    "        device=device,\n",
    "        model=model,\n",
    "        data_obj=(train_loader, test_loader),\n",
    "        target_label=0,\n",
    "        mu=0.1,\n",
    "        beta=0.01,\n",
    "        lambd=0.01,\n",
    "        epsilon=1.0,\n",
    "        save_path=save_path\n",
    "    )\n",
    "    from utils.dataset import load_model_state\n",
    "    import os\n",
    "    model, optimizer = load_model_state(model, optimizer, os.path.join(save_path, f'{model.model_name}_falfa'))\n",
    "    attack.model = model\n",
    "\n",
    "\n",
    "    # --- Select & Rank ---\n",
    "    attack.select_non_target_samples(train_dataset.get_data()) # select het non target samples , target 0 , non target 1 \n",
    "    attack.confidence_based_sample_ranking(batch_size=32) # \n",
    "\n",
    "    # --- Trigger Creation ---\n",
    "    attack.define_trigger(train_dataset.get_data())\n",
    "    attack.compute_mode(train_dataset.get_data())\n",
    "    attack.optimize_trigger(num_epochs=100)\n",
    "    # attack.load_trigger('/home/anhkhoa/ml4secu/save_path/saved_triggers/trigger_delta.pt')\n",
    "\n",
    "    print(\"✅ Trigger optimized:\\n\", attack.delta)\n",
    "    print(\"✅ Mode vector:\\n\", attack.mode_vector)\n",
    "\n",
    "    # # --- Poison Datasets ---\n",
    "    poisoned_trainset, poisoned_train_samples = attack.construct_poisoned_dataset(train_dataset.get_data(), epsilon=eps)\n",
    "    poisoned_testset, poisoned_test_samples = attack.construct_poisoned_dataset(test_dataset.get_data(), epsilon=1.0)\n",
    "    # attack.load_poisoned_dataset('/home/anhkhoa/ml4secu/save_path/saved_datasets/poisoned_dataset.pt')\n",
    "\n",
    "    # poisoned_trainset, poisoned_testset = attack.poisoned_dataset   \n",
    "\n",
    "\n",
    "    model = LSTM().to(device)\n",
    "    optimizer = optim.Adam(model.parameters(), lr=learning_rate)\n",
    "    attack.model = model\n",
    "    # --- Reload DataLoaders ---\n",
    "    poisoned_train_loader = DataLoader(poisoned_trainset, batch_size=32, shuffle=True)\n",
    "    poisoned_test_loader = DataLoader(poisoned_testset, batch_size=32, shuffle=False)\n",
    "\n",
    "    # --- Train on Poisoned Dataset ---\n",
    "    attack.train((poisoned_train_loader, poisoned_test_loader), num_epochs, criterion, optimizer)\n",
    "\n",
    "    acc_attack, asr = attack.generate(\n",
    "        clean_dataset=train_dataset,\n",
    "    )\n",
    "\n",
    "    accu_before_attack_list.append(acc_attack)\n",
    "\n",
    "    poisoned_indices = []\n",
    "        # \n",
    "    poisoned_samples_set = set(tuple(sample.tolist()) for sample, _ in poisoned_train_samples)\n",
    "\n",
    "    # Iterate over poisoned_trainset to find indices of poisoned samples\n",
    "    for idx, (sample, _) in enumerate(poisoned_trainset):\n",
    "        # Convert the sample to a tuple for comparison\n",
    "        sample_tuple = tuple(sample.tolist())\n",
    "        \n",
    "        # Check if the sample is in the poisoned_samples_set\n",
    "        if sample_tuple in poisoned_samples_set:\n",
    "            poisoned_indices.append(idx)\n",
    "\n",
    "\n",
    "    features = extract_features(model, poisoned_trainset)\n",
    "\n",
    "    labels = poisoned_trainset.tensors[-1].cpu().numpy()\n",
    "\n",
    "    class_list = [num for num in range(len(set(labels)))]\n",
    "\n",
    "    suspicious_idx, scores_dict = spectral_signature_defense(\n",
    "        features,\n",
    "        labels=labels,\n",
    "        class_list=class_list,\n",
    "        expected_poison_fraction=0.4,\n",
    "        extra_multiplier=2\n",
    "    )\n",
    "    suspicious_set = set(suspicious_idx)\n",
    "    all_indices = list(range(len(poisoned_trainset)))\n",
    "    clean_indices = [i for i in all_indices if i not in suspicious_set]\n",
    "\n",
    "    X_tensor = poisoned_trainset.tensors[0][clean_indices]\n",
    "    y_tensor = poisoned_trainset.tensors[1][clean_indices]\n",
    "\n",
    "    X = X_tensor.detach().cpu().numpy()\n",
    "    y = y_tensor.detach().cpu().numpy()\n",
    "\n",
    "    # Tạo lại dataset cùng class gốc\n",
    "    cleaned_trainset = simDataset(X = X , y = y, device = 'cuda')\n",
    "    model = LSTM().to(device)\n",
    "    optimizer = optim.Adam(model.parameters(), lr=learning_rate)\n",
    "    attack.model = model\n",
    "    cleaned_train_loader = DataLoader(cleaned_trainset, batch_size=32, shuffle=True)\n",
    "    attack.train((cleaned_train_loader, test_loader), num_epochs=3, criterion=criterion, optimizer=optimizer)\n",
    "\n",
    "    acc_defensed , asr = attack.generate(\n",
    "        clean_dataset=cleaned_trainset,\n",
    "    )\n",
    "\n",
    "    accu_after_defense_list.append(acc_defensed)"
   ]
  },
  {
   "cell_type": "code",
   "execution_count": 10,
   "id": "7949dcae",
   "metadata": {},
   "outputs": [
    {
     "data": {
      "image/png": "[encoded data removed]",
      "text/plain": [
       "<Figure size 1000x600 with 1 Axes>"
      ]
     },
     "metadata": {},
     "output_type": "display_data"
    }
   ],
   "source": [
    "import matplotlib.pyplot as plt\n",
    "range_attack = np.arange(0.05, 0.75, 0.05)\n",
    "# Vẽ biểu đồ\n",
    "plt.figure(figsize=(10, 6))\n",
    "plt.plot(range_attack, accu_before_attack_list, label='Accuracy before defense (adversarial)')\n",
    "plt.plot(range_attack, accu_after_defense_list , label='Accuracy after defense', linestyle='--')\n",
    "plt.xlabel('Epsilon')\n",
    "plt.ylabel('Accuracy')\n",
    "plt.title('Model Accuracy vs. Epsilon under Backdoor Attack & After Spectral Signature Defense')\n",
    "plt.legend()\n",
    "plt.grid(True)\n",
    "plt.tight_layout()\n",
    "plt.show()"
   ]
  },
  {
   "cell_type": "markdown",
   "id": "3399df98",
   "metadata": {},
   "source": [
    "# Pruning Defense"
   ]
  },
  {
   "cell_type": "code",
   "execution_count": 13,
   "id": "bc1a5e4a",
   "metadata": {},
   "outputs": [
    {
     "name": "stderr",
     "output_type": "stream",
     "text": [
      "2025-05-14 01:54:15,612 - INFO - Attack initialized with target label: 0\n",
      "2025-05-14 01:54:15,681 - INFO - Selecting non-target samples from the training dataset...\n",
      "2025-05-14 01:54:15,682 - INFO - Selected 6576 non-target samples out of 13140 total training samples.\n",
      "2025-05-14 01:54:15,684 - INFO - Starting confidence-based sample ranking...\n",
      "/home/anhkhoa/ml4secu/utils/dataset.py:138: UserWarning: To copy construct from a tensor, it is recommended to use sourceTensor.clone().detach() or sourceTensor.clone().detach().requires_grad_(True), rather than torch.tensor(sourceTensor).\n",
      "  x = torch.tensor(self.x[idx], dtype=torch.float).to(self.device)\n",
      "/home/anhkhoa/ml4secu/utils/dataset.py:139: UserWarning: To copy construct from a tensor, it is recommended to use sourceTensor.clone().detach() or sourceTensor.clone().detach().requires_grad_(True), rather than torch.tensor(sourceTensor).\n",
      "  y = torch.tensor(self.y[idx], dtype=torch.int64).to(self.device)\n"
     ]
    },
    {
     "name": "stdout",
     "output_type": "stream",
     "text": [
      "Model state loaded successfully from /home/anhkhoa/ml4secu/save_path/LSTM_falfa\n"
     ]
    },
    {
     "name": "stderr",
     "output_type": "stream",
     "text": [
      "2025-05-14 01:54:16,355 - INFO - Selecting top 10.0% (657) samples based on confidence scores.\n",
      "2025-05-14 01:54:16,371 - INFO - Selected 657 samples for further processing.\n",
      "2025-05-14 01:54:16,373 - INFO - Defining the universal trigger pattern (delta)...\n",
      "2025-05-14 01:54:16,374 - INFO - Computing min and max values for each feature in the training dataset...\n",
      "2025-05-14 01:54:16,376 - INFO - Min and max values computed successfully.\n",
      "2025-05-14 01:54:16,377 - INFO - Trigger pattern (delta) initialized with shape: torch.Size([7])\n",
      "2025-05-14 01:54:16,378 - INFO - Computing mode vector of the entire training dataset...\n",
      "2025-05-14 01:54:16,384 - INFO - Mode vector computed successfully.\n",
      "2025-05-14 01:54:16,385 - INFO - Starting optimization of the trigger pattern (delta)...\n",
      "2025-05-14 01:54:17,079 - INFO - Epoch [10/100], Loss: 1.5346\n",
      "2025-05-14 01:54:17,758 - INFO - Epoch [20/100], Loss: 1.5011\n",
      "2025-05-14 01:54:18,410 - INFO - Epoch [30/100], Loss: 1.4756\n",
      "2025-05-14 01:54:19,053 - INFO - Epoch [40/100], Loss: 1.4512\n",
      "2025-05-14 01:54:19,740 - INFO - Epoch [50/100], Loss: 1.4279\n",
      "2025-05-14 01:54:20,431 - INFO - Epoch [60/100], Loss: 1.4014\n",
      "2025-05-14 01:54:21,056 - INFO - Epoch [70/100], Loss: 1.3532\n",
      "2025-05-14 01:54:21,671 - INFO - Epoch [80/100], Loss: 1.1893\n",
      "2025-05-14 01:54:22,334 - INFO - Epoch [90/100], Loss: 1.1536\n",
      "2025-05-14 01:54:22,972 - INFO - Epoch [100/100], Loss: 1.1327\n",
      "2025-05-14 01:54:22,973 - INFO - Trigger pattern (delta) optimization completed.\n",
      "2025-05-14 01:54:22,975 - INFO - Optimized trigger pattern (delta) saved to '/home/anhkhoa/ml4secu/save_path/saved_triggers/trigger_delta.pt'.\n",
      "2025-05-14 01:54:22,980 - INFO - Starting construction of the poisoned dataset with epsilon=0.05...\n",
      "2025-05-14 01:54:22,981 - INFO - Number of samples to poison: 657 out of 13140 total training samples.\n",
      "2025-05-14 01:54:22,982 - INFO - Selected 657 random samples for poisoning.\n",
      "2025-05-14 01:54:22,984 - INFO - Applied trigger to selected samples and relabeled them to the target class.\n",
      "2025-05-14 01:54:22,987 - INFO - Poisoned dataset constructed with 13140 samples.\n",
      "2025-05-14 01:54:22,988 - INFO - Starting construction of the poisoned dataset with epsilon=1.0...\n",
      "2025-05-14 01:54:22,989 - INFO - Number of samples to poison: 3286 out of 3286 total training samples.\n",
      "2025-05-14 01:54:22,990 - INFO - Selected 3286 random samples for poisoning.\n",
      "2025-05-14 01:54:22,992 - INFO - Applied trigger to selected samples and relabeled them to the target class.\n",
      "2025-05-14 01:54:22,993 - INFO - Poisoned dataset constructed with 3286 samples.\n"
     ]
    },
    {
     "name": "stdout",
     "output_type": "stream",
     "text": [
      "✅ Trigger optimized:\n",
      " tensor([-1.2232e-01, -1.9597e-05,  8.8367e-02,  2.1996e-02,  1.0787e-01,\n",
      "         3.8390e-02, -3.8037e-02], device='cuda:0', requires_grad=True)\n",
      "✅ Mode vector:\n",
      " tensor([0.0229, 0.2500, 0.8335, 0.0000, 0.0000, 0.0000, 0.0000],\n",
      "       device='cuda:0')\n"
     ]
    },
    {
     "name": "stderr",
     "output_type": "stream",
     "text": [
      "Epoch 1/3: 100%|██████████| 411/411 [00:03<00:00, 110.47batch/s, loss=0.608]\n"
     ]
    },
    {
     "name": "stdout",
     "output_type": "stream",
     "text": [
      "Epoch 1 - Avg Loss: 0.6077\n"
     ]
    },
    {
     "name": "stderr",
     "output_type": "stream",
     "text": [
      "Epoch 2/3: 100%|██████████| 411/411 [00:03<00:00, 134.32batch/s, loss=0.59] \n"
     ]
    },
    {
     "name": "stdout",
     "output_type": "stream",
     "text": [
      "Epoch 2 - Avg Loss: 0.5896\n"
     ]
    },
    {
     "name": "stderr",
     "output_type": "stream",
     "text": [
      "Epoch 3/3: 100%|██████████| 411/411 [00:02<00:00, 142.78batch/s, loss=0.561]\n"
     ]
    },
    {
     "name": "stdout",
     "output_type": "stream",
     "text": [
      "Epoch 3 - Avg Loss: 0.5609\n"
     ]
    },
    {
     "name": "stderr",
     "output_type": "stream",
     "text": [
      "2025-05-14 01:54:32,885 - INFO - [Generate Attack] Non-target triggered samples: 6576.\n",
      "2025-05-14 01:54:32,886 - INFO - ASR (pred == target_label): 93.04%\n",
      "2025-05-14 01:54:32,887 - INFO - Accuracy (pred == true label): 6.96%\n"
     ]
    },
    {
     "name": "stdout",
     "output_type": "stream",
     "text": [
      "==> [Step 1] Gathering Activations on Clean Data...\n",
      "    Activations shape: torch.Size([13140, 256])\n",
      "==> [Step 2] Computing Mean Activations + Identifying Pruning Indices...\n",
      "    total dims: 256, prune 230 dims (90.0%).\n",
      "==> [Step 3] inject pruning mask into the model ...\n",
      "==> [Step 4] Inject pruning mask into LSTM model...\n",
      "==> [Step 5] Fine-tuning the pruned model...\n",
      "Epoch 1/5, Loss: 0.3715\n",
      "Epoch 2/5, Loss: 0.3063\n",
      "Epoch 3/5, Loss: 0.2865\n",
      "==> [Step 6] Testing pruned model on clean data...\n"
     ]
    },
    {
     "name": "stderr",
     "output_type": "stream",
     "text": [
      "2025-05-14 01:54:51,005 - INFO - [Generate Attack] Non-target triggered samples: 6576.\n",
      "2025-05-14 01:54:51,006 - INFO - ASR (pred == target_label): 40.66%\n",
      "2025-05-14 01:54:51,007 - INFO - Accuracy (pred == true label): 59.34%\n",
      "2025-05-14 01:54:51,008 - INFO - Attack initialized with target label: 0\n"
     ]
    },
    {
     "name": "stdout",
     "output_type": "stream",
     "text": [
      "Accuracy after pruning: 87.83%\n"
     ]
    },
    {
     "name": "stderr",
     "output_type": "stream",
     "text": [
      "2025-05-14 01:54:51,044 - INFO - Selecting non-target samples from the training dataset...\n",
      "2025-05-14 01:54:51,045 - INFO - Selected 6576 non-target samples out of 13140 total training samples.\n",
      "2025-05-14 01:54:51,059 - INFO - Starting confidence-based sample ranking...\n"
     ]
    },
    {
     "name": "stdout",
     "output_type": "stream",
     "text": [
      "Error loading model state: Error(s) in loading state_dict for LSTM:\n",
      "\tMissing key(s) in state_dict: \"fc.pruning_mask\", \"fc.fc.weight\", \"fc.fc.bias\". \n",
      "\tUnexpected key(s) in state_dict: \"fc.weight\", \"fc.bias\". \n"
     ]
    },
    {
     "name": "stderr",
     "output_type": "stream",
     "text": [
      "2025-05-14 01:54:51,523 - INFO - Selecting top 10.0% (657) samples based on confidence scores.\n",
      "2025-05-14 01:54:51,547 - INFO - Selected 657 samples for further processing.\n",
      "2025-05-14 01:54:51,552 - INFO - Defining the universal trigger pattern (delta)...\n",
      "2025-05-14 01:54:51,552 - INFO - Computing min and max values for each feature in the training dataset...\n",
      "2025-05-14 01:54:51,554 - INFO - Min and max values computed successfully.\n",
      "2025-05-14 01:54:51,555 - INFO - Trigger pattern (delta) initialized with shape: torch.Size([7])\n",
      "2025-05-14 01:54:51,556 - INFO - Computing mode vector of the entire training dataset...\n",
      "2025-05-14 01:54:51,562 - INFO - Mode vector computed successfully.\n",
      "2025-05-14 01:54:51,562 - INFO - Starting optimization of the trigger pattern (delta)...\n",
      "2025-05-14 01:54:52,198 - INFO - Epoch [10/100], Loss: 1.7912\n",
      "2025-05-14 01:54:52,806 - INFO - Epoch [20/100], Loss: 1.7663\n",
      "2025-05-14 01:54:53,412 - INFO - Epoch [30/100], Loss: 1.7459\n",
      "2025-05-14 01:54:54,027 - INFO - Epoch [40/100], Loss: 1.7259\n",
      "2025-05-14 01:54:54,636 - INFO - Epoch [50/100], Loss: 1.7057\n",
      "2025-05-14 01:54:55,267 - INFO - Epoch [60/100], Loss: 1.6867\n",
      "2025-05-14 01:54:55,906 - INFO - Epoch [70/100], Loss: 1.6684\n",
      "2025-05-14 01:54:56,509 - INFO - Epoch [80/100], Loss: 1.6509\n",
      "2025-05-14 01:54:57,136 - INFO - Epoch [90/100], Loss: 1.6350\n",
      "2025-05-14 01:54:57,764 - INFO - Epoch [100/100], Loss: 1.6192\n",
      "2025-05-14 01:54:57,765 - INFO - Trigger pattern (delta) optimization completed.\n",
      "2025-05-14 01:54:57,767 - INFO - Optimized trigger pattern (delta) saved to '/home/anhkhoa/ml4secu/save_path/saved_triggers/trigger_delta.pt'.\n",
      "2025-05-14 01:54:57,772 - INFO - Starting construction of the poisoned dataset with epsilon=0.1...\n",
      "2025-05-14 01:54:57,773 - INFO - Number of samples to poison: 1314 out of 13140 total training samples.\n",
      "2025-05-14 01:54:57,774 - INFO - Selected 1314 random samples for poisoning.\n",
      "2025-05-14 01:54:57,776 - INFO - Applied trigger to selected samples and relabeled them to the target class.\n",
      "2025-05-14 01:54:57,778 - INFO - Poisoned dataset constructed with 13140 samples.\n",
      "2025-05-14 01:54:57,779 - INFO - Starting construction of the poisoned dataset with epsilon=1.0...\n",
      "2025-05-14 01:54:57,780 - INFO - Number of samples to poison: 3286 out of 3286 total training samples.\n",
      "2025-05-14 01:54:57,781 - INFO - Selected 3286 random samples for poisoning.\n",
      "2025-05-14 01:54:57,784 - INFO - Applied trigger to selected samples and relabeled them to the target class.\n",
      "2025-05-14 01:54:57,785 - INFO - Poisoned dataset constructed with 3286 samples.\n"
     ]
    },
    {
     "name": "stdout",
     "output_type": "stream",
     "text": [
      "✅ Trigger optimized:\n",
      " tensor([-1.0713e-01, -1.6903e-05,  9.3854e-02, -5.2883e-02,  4.5031e-03,\n",
      "         2.4866e-02, -1.6870e-02], device='cuda:0', requires_grad=True)\n",
      "✅ Mode vector:\n",
      " tensor([0.0229, 0.2500, 0.8335, 0.0000, 0.0000, 0.0000, 0.0000],\n",
      "       device='cuda:0')\n"
     ]
    },
    {
     "name": "stderr",
     "output_type": "stream",
     "text": [
      "Epoch 1/3: 100%|██████████| 411/411 [00:03<00:00, 118.45batch/s, loss=0.617]\n"
     ]
    },
    {
     "name": "stdout",
     "output_type": "stream",
     "text": [
      "Epoch 1 - Avg Loss: 0.6170\n"
     ]
    },
    {
     "name": "stderr",
     "output_type": "stream",
     "text": [
      "Epoch 2/3: 100%|██████████| 411/411 [00:02<00:00, 138.69batch/s, loss=0.597]\n"
     ]
    },
    {
     "name": "stdout",
     "output_type": "stream",
     "text": [
      "Epoch 2 - Avg Loss: 0.5966\n"
     ]
    },
    {
     "name": "stderr",
     "output_type": "stream",
     "text": [
      "Epoch 3/3: 100%|██████████| 411/411 [00:02<00:00, 143.13batch/s, loss=0.593]\n"
     ]
    },
    {
     "name": "stdout",
     "output_type": "stream",
     "text": [
      "Epoch 3 - Avg Loss: 0.5930\n"
     ]
    },
    {
     "name": "stderr",
     "output_type": "stream",
     "text": [
      "2025-05-14 01:55:07,314 - INFO - [Generate Attack] Non-target triggered samples: 6576.\n",
      "2025-05-14 01:55:07,315 - INFO - ASR (pred == target_label): 53.60%\n",
      "2025-05-14 01:55:07,316 - INFO - Accuracy (pred == true label): 46.40%\n"
     ]
    },
    {
     "name": "stdout",
     "output_type": "stream",
     "text": [
      "==> [Step 1] Gathering Activations on Clean Data...\n",
      "    Activations shape: torch.Size([13140, 256])\n",
      "==> [Step 2] Computing Mean Activations + Identifying Pruning Indices...\n",
      "    total dims: 256, prune 230 dims (90.0%).\n",
      "==> [Step 3] inject pruning mask into the model ...\n",
      "==> [Step 4] Inject pruning mask into LSTM model...\n",
      "==> [Step 5] Fine-tuning the pruned model...\n",
      "Epoch 1/5, Loss: 0.5311\n",
      "Epoch 2/5, Loss: 0.3333\n",
      "Epoch 3/5, Loss: 0.3144\n",
      "==> [Step 6] Testing pruned model on clean data...\n"
     ]
    },
    {
     "name": "stderr",
     "output_type": "stream",
     "text": [
      "2025-05-14 01:55:25,629 - INFO - [Generate Attack] Non-target triggered samples: 6576.\n",
      "2025-05-14 01:55:25,630 - INFO - ASR (pred == target_label): 16.56%\n",
      "2025-05-14 01:55:25,631 - INFO - Accuracy (pred == true label): 83.44%\n",
      "2025-05-14 01:55:25,632 - INFO - Attack initialized with target label: 0\n"
     ]
    },
    {
     "name": "stdout",
     "output_type": "stream",
     "text": [
      "Accuracy after pruning: 85.76%\n"
     ]
    },
    {
     "name": "stderr",
     "output_type": "stream",
     "text": [
      "2025-05-14 01:55:25,675 - INFO - Selecting non-target samples from the training dataset...\n",
      "2025-05-14 01:55:25,676 - INFO - Selected 6576 non-target samples out of 13140 total training samples.\n",
      "2025-05-14 01:55:25,682 - INFO - Starting confidence-based sample ranking...\n"
     ]
    },
    {
     "name": "stdout",
     "output_type": "stream",
     "text": [
      "Error loading model state: Error(s) in loading state_dict for LSTM:\n",
      "\tMissing key(s) in state_dict: \"fc.pruning_mask\", \"fc.fc.weight\", \"fc.fc.bias\". \n",
      "\tUnexpected key(s) in state_dict: \"fc.weight\", \"fc.bias\". \n"
     ]
    },
    {
     "name": "stderr",
     "output_type": "stream",
     "text": [
      "2025-05-14 01:55:26,111 - INFO - Selecting top 10.0% (657) samples based on confidence scores.\n",
      "2025-05-14 01:55:26,128 - INFO - Selected 657 samples for further processing.\n",
      "2025-05-14 01:55:26,130 - INFO - Defining the universal trigger pattern (delta)...\n",
      "2025-05-14 01:55:26,132 - INFO - Computing min and max values for each feature in the training dataset...\n",
      "2025-05-14 01:55:26,134 - INFO - Min and max values computed successfully.\n",
      "2025-05-14 01:55:26,135 - INFO - Trigger pattern (delta) initialized with shape: torch.Size([7])\n",
      "2025-05-14 01:55:26,136 - INFO - Computing mode vector of the entire training dataset...\n",
      "2025-05-14 01:55:26,142 - INFO - Mode vector computed successfully.\n",
      "2025-05-14 01:55:26,143 - INFO - Starting optimization of the trigger pattern (delta)...\n",
      "2025-05-14 01:55:26,796 - INFO - Epoch [10/100], Loss: 1.9579\n",
      "2025-05-14 01:55:27,393 - INFO - Epoch [20/100], Loss: 1.9295\n",
      "2025-05-14 01:55:28,018 - INFO - Epoch [30/100], Loss: 1.9080\n",
      "2025-05-14 01:55:28,627 - INFO - Epoch [40/100], Loss: 1.8881\n",
      "2025-05-14 01:55:29,253 - INFO - Epoch [50/100], Loss: 1.8688\n",
      "2025-05-14 01:55:29,865 - INFO - Epoch [60/100], Loss: 1.8502\n",
      "2025-05-14 01:55:30,504 - INFO - Epoch [70/100], Loss: 1.8322\n",
      "2025-05-14 01:55:31,159 - INFO - Epoch [80/100], Loss: 1.8149\n",
      "2025-05-14 01:55:31,856 - INFO - Epoch [90/100], Loss: 1.7959\n",
      "2025-05-14 01:55:32,478 - INFO - Epoch [100/100], Loss: 1.7785\n",
      "2025-05-14 01:55:32,479 - INFO - Trigger pattern (delta) optimization completed.\n",
      "2025-05-14 01:55:32,481 - INFO - Optimized trigger pattern (delta) saved to '/home/anhkhoa/ml4secu/save_path/saved_triggers/trigger_delta.pt'.\n",
      "2025-05-14 01:55:32,485 - INFO - Starting construction of the poisoned dataset with epsilon=0.15000000000000002...\n",
      "2025-05-14 01:55:32,486 - INFO - Number of samples to poison: 1971 out of 13140 total training samples.\n",
      "2025-05-14 01:55:32,488 - INFO - Selected 1971 random samples for poisoning.\n",
      "2025-05-14 01:55:32,490 - INFO - Applied trigger to selected samples and relabeled them to the target class.\n",
      "2025-05-14 01:55:32,491 - INFO - Poisoned dataset constructed with 13140 samples.\n",
      "2025-05-14 01:55:32,492 - INFO - Starting construction of the poisoned dataset with epsilon=1.0...\n",
      "2025-05-14 01:55:32,494 - INFO - Number of samples to poison: 3286 out of 3286 total training samples.\n",
      "2025-05-14 01:55:32,495 - INFO - Selected 3286 random samples for poisoning.\n",
      "2025-05-14 01:55:32,498 - INFO - Applied trigger to selected samples and relabeled them to the target class.\n",
      "2025-05-14 01:55:32,500 - INFO - Poisoned dataset constructed with 3286 samples.\n"
     ]
    },
    {
     "name": "stdout",
     "output_type": "stream",
     "text": [
      "✅ Trigger optimized:\n",
      " tensor([-1.0259e-01, -3.8708e-05,  9.7362e-02, -5.8358e-03,  8.7583e-03,\n",
      "         5.8762e-02, -2.6491e-03], device='cuda:0', requires_grad=True)\n",
      "✅ Mode vector:\n",
      " tensor([0.0229, 0.2500, 0.8335, 0.0000, 0.0000, 0.0000, 0.0000],\n",
      "       device='cuda:0')\n"
     ]
    },
    {
     "name": "stderr",
     "output_type": "stream",
     "text": [
      "Epoch 1/3: 100%|██████████| 411/411 [00:03<00:00, 124.59batch/s, loss=0.621]\n"
     ]
    },
    {
     "name": "stdout",
     "output_type": "stream",
     "text": [
      "Epoch 1 - Avg Loss: 0.6212\n"
     ]
    },
    {
     "name": "stderr",
     "output_type": "stream",
     "text": [
      "Epoch 2/3: 100%|██████████| 411/411 [00:03<00:00, 131.71batch/s, loss=0.601]\n"
     ]
    },
    {
     "name": "stdout",
     "output_type": "stream",
     "text": [
      "Epoch 2 - Avg Loss: 0.6008\n"
     ]
    },
    {
     "name": "stderr",
     "output_type": "stream",
     "text": [
      "Epoch 3/3: 100%|██████████| 411/411 [00:02<00:00, 141.79batch/s, loss=0.6]  \n",
      "2025-05-14 01:55:42,014 - INFO - [Generate Attack] Non-target triggered samples: 6576.\n",
      "2025-05-14 01:55:42,015 - INFO - ASR (pred == target_label): 63.75%\n",
      "2025-05-14 01:55:42,015 - INFO - Accuracy (pred == true label): 36.25%\n"
     ]
    },
    {
     "name": "stdout",
     "output_type": "stream",
     "text": [
      "Epoch 3 - Avg Loss: 0.5998\n",
      "==> [Step 1] Gathering Activations on Clean Data...\n",
      "    Activations shape: torch.Size([13140, 256])\n",
      "==> [Step 2] Computing Mean Activations + Identifying Pruning Indices...\n",
      "    total dims: 256, prune 230 dims (90.0%).\n",
      "==> [Step 3] inject pruning mask into the model ...\n",
      "==> [Step 4] Inject pruning mask into LSTM model...\n",
      "==> [Step 5] Fine-tuning the pruned model...\n",
      "Epoch 1/5, Loss: 0.4654\n",
      "Epoch 2/5, Loss: 0.3099\n",
      "Epoch 3/5, Loss: 0.2986\n",
      "==> [Step 6] Testing pruned model on clean data...\n"
     ]
    },
    {
     "name": "stderr",
     "output_type": "stream",
     "text": [
      "2025-05-14 01:56:00,784 - INFO - [Generate Attack] Non-target triggered samples: 6576.\n",
      "2025-05-14 01:56:00,785 - INFO - ASR (pred == target_label): 19.78%\n",
      "2025-05-14 01:56:00,787 - INFO - Accuracy (pred == true label): 80.22%\n",
      "2025-05-14 01:56:00,788 - INFO - Attack initialized with target label: 0\n"
     ]
    },
    {
     "name": "stdout",
     "output_type": "stream",
     "text": [
      "Accuracy after pruning: 87.13%\n"
     ]
    },
    {
     "name": "stderr",
     "output_type": "stream",
     "text": [
      "2025-05-14 01:56:00,835 - INFO - Selecting non-target samples from the training dataset...\n",
      "2025-05-14 01:56:00,837 - INFO - Selected 6576 non-target samples out of 13140 total training samples.\n",
      "2025-05-14 01:56:00,847 - INFO - Starting confidence-based sample ranking...\n"
     ]
    },
    {
     "name": "stdout",
     "output_type": "stream",
     "text": [
      "Error loading model state: Error(s) in loading state_dict for LSTM:\n",
      "\tMissing key(s) in state_dict: \"fc.pruning_mask\", \"fc.fc.weight\", \"fc.fc.bias\". \n",
      "\tUnexpected key(s) in state_dict: \"fc.weight\", \"fc.bias\". \n"
     ]
    },
    {
     "name": "stderr",
     "output_type": "stream",
     "text": [
      "2025-05-14 01:56:01,288 - INFO - Selecting top 10.0% (657) samples based on confidence scores.\n",
      "2025-05-14 01:56:01,302 - INFO - Selected 657 samples for further processing.\n",
      "2025-05-14 01:56:01,305 - INFO - Defining the universal trigger pattern (delta)...\n",
      "2025-05-14 01:56:01,306 - INFO - Computing min and max values for each feature in the training dataset...\n",
      "2025-05-14 01:56:01,307 - INFO - Min and max values computed successfully.\n",
      "2025-05-14 01:56:01,309 - INFO - Trigger pattern (delta) initialized with shape: torch.Size([7])\n",
      "2025-05-14 01:56:01,309 - INFO - Computing mode vector of the entire training dataset...\n",
      "2025-05-14 01:56:01,316 - INFO - Mode vector computed successfully.\n",
      "2025-05-14 01:56:01,317 - INFO - Starting optimization of the trigger pattern (delta)...\n",
      "2025-05-14 01:56:01,967 - INFO - Epoch [10/100], Loss: 1.8249\n",
      "2025-05-14 01:56:02,591 - INFO - Epoch [20/100], Loss: 1.7942\n",
      "2025-05-14 01:56:03,231 - INFO - Epoch [30/100], Loss: 1.7674\n",
      "2025-05-14 01:56:03,841 - INFO - Epoch [40/100], Loss: 1.7418\n",
      "2025-05-14 01:56:04,466 - INFO - Epoch [50/100], Loss: 1.7189\n",
      "2025-05-14 01:56:05,113 - INFO - Epoch [60/100], Loss: 1.6961\n",
      "2025-05-14 01:56:05,753 - INFO - Epoch [70/100], Loss: 1.6745\n",
      "2025-05-14 01:56:06,382 - INFO - Epoch [80/100], Loss: 1.6519\n",
      "2025-05-14 01:56:07,017 - INFO - Epoch [90/100], Loss: 1.6315\n",
      "2025-05-14 01:56:07,678 - INFO - Epoch [100/100], Loss: 1.6110\n",
      "2025-05-14 01:56:07,679 - INFO - Trigger pattern (delta) optimization completed.\n",
      "2025-05-14 01:56:07,681 - INFO - Optimized trigger pattern (delta) saved to '/home/anhkhoa/ml4secu/save_path/saved_triggers/trigger_delta.pt'.\n",
      "2025-05-14 01:56:07,686 - INFO - Starting construction of the poisoned dataset with epsilon=0.2...\n",
      "2025-05-14 01:56:07,688 - INFO - Number of samples to poison: 2628 out of 13140 total training samples.\n",
      "2025-05-14 01:56:07,689 - INFO - Selected 2628 random samples for poisoning.\n",
      "2025-05-14 01:56:07,692 - INFO - Applied trigger to selected samples and relabeled them to the target class.\n",
      "2025-05-14 01:56:07,694 - INFO - Poisoned dataset constructed with 13140 samples.\n",
      "2025-05-14 01:56:07,695 - INFO - Starting construction of the poisoned dataset with epsilon=1.0...\n",
      "2025-05-14 01:56:07,697 - INFO - Number of samples to poison: 3286 out of 3286 total training samples.\n",
      "2025-05-14 01:56:07,697 - INFO - Selected 3286 random samples for poisoning.\n",
      "2025-05-14 01:56:07,700 - INFO - Applied trigger to selected samples and relabeled them to the target class.\n",
      "2025-05-14 01:56:07,702 - INFO - Poisoned dataset constructed with 3286 samples.\n"
     ]
    },
    {
     "name": "stdout",
     "output_type": "stream",
     "text": [
      "✅ Trigger optimized:\n",
      " tensor([-8.7025e-02,  4.4533e-06,  1.0941e-01, -3.5992e-02, -2.7513e-05,\n",
      "        -7.6117e-05, -8.9589e-03], device='cuda:0', requires_grad=True)\n",
      "✅ Mode vector:\n",
      " tensor([0.0229, 0.2500, 0.8335, 0.0000, 0.0000, 0.0000, 0.0000],\n",
      "       device='cuda:0')\n"
     ]
    },
    {
     "name": "stderr",
     "output_type": "stream",
     "text": [
      "Epoch 1/3: 100%|██████████| 411/411 [00:02<00:00, 146.09batch/s, loss=0.612]\n"
     ]
    },
    {
     "name": "stdout",
     "output_type": "stream",
     "text": [
      "Epoch 1 - Avg Loss: 0.6117\n"
     ]
    },
    {
     "name": "stderr",
     "output_type": "stream",
     "text": [
      "Epoch 2/3: 100%|██████████| 411/411 [00:02<00:00, 145.23batch/s, loss=0.601]\n"
     ]
    },
    {
     "name": "stdout",
     "output_type": "stream",
     "text": [
      "Epoch 2 - Avg Loss: 0.6015\n"
     ]
    },
    {
     "name": "stderr",
     "output_type": "stream",
     "text": [
      "Epoch 3/3: 100%|██████████| 411/411 [00:02<00:00, 146.25batch/s, loss=0.598]\n",
      "2025-05-14 01:56:16,350 - INFO - [Generate Attack] Non-target triggered samples: 6576.\n",
      "2025-05-14 01:56:16,351 - INFO - ASR (pred == target_label): 56.28%\n",
      "2025-05-14 01:56:16,352 - INFO - Accuracy (pred == true label): 43.72%\n"
     ]
    },
    {
     "name": "stdout",
     "output_type": "stream",
     "text": [
      "Epoch 3 - Avg Loss: 0.5981\n",
      "==> [Step 1] Gathering Activations on Clean Data...\n",
      "    Activations shape: torch.Size([13140, 256])\n",
      "==> [Step 2] Computing Mean Activations + Identifying Pruning Indices...\n",
      "    total dims: 256, prune 230 dims (90.0%).\n",
      "==> [Step 3] inject pruning mask into the model ...\n",
      "==> [Step 4] Inject pruning mask into LSTM model...\n",
      "==> [Step 5] Fine-tuning the pruned model...\n",
      "Epoch 1/5, Loss: 0.5809\n",
      "Epoch 2/5, Loss: 0.5106\n",
      "Epoch 3/5, Loss: 0.3338\n",
      "==> [Step 6] Testing pruned model on clean data...\n"
     ]
    },
    {
     "name": "stderr",
     "output_type": "stream",
     "text": [
      "2025-05-14 01:56:33,700 - INFO - [Generate Attack] Non-target triggered samples: 6576.\n",
      "2025-05-14 01:56:33,701 - INFO - ASR (pred == target_label): 1.43%\n",
      "2025-05-14 01:56:33,701 - INFO - Accuracy (pred == true label): 98.57%\n",
      "2025-05-14 01:56:33,702 - INFO - Attack initialized with target label: 0\n"
     ]
    },
    {
     "name": "stdout",
     "output_type": "stream",
     "text": [
      "Accuracy after pruning: 86.55%\n"
     ]
    },
    {
     "name": "stderr",
     "output_type": "stream",
     "text": [
      "2025-05-14 01:56:33,747 - INFO - Selecting non-target samples from the training dataset...\n",
      "2025-05-14 01:56:33,748 - INFO - Selected 6576 non-target samples out of 13140 total training samples.\n",
      "2025-05-14 01:56:33,750 - INFO - Starting confidence-based sample ranking...\n"
     ]
    },
    {
     "name": "stdout",
     "output_type": "stream",
     "text": [
      "Error loading model state: Error(s) in loading state_dict for LSTM:\n",
      "\tMissing key(s) in state_dict: \"fc.pruning_mask\", \"fc.fc.weight\", \"fc.fc.bias\". \n",
      "\tUnexpected key(s) in state_dict: \"fc.weight\", \"fc.bias\". \n"
     ]
    },
    {
     "name": "stderr",
     "output_type": "stream",
     "text": [
      "2025-05-14 01:56:34,176 - INFO - Selecting top 10.0% (657) samples based on confidence scores.\n",
      "2025-05-14 01:56:34,198 - INFO - Selected 657 samples for further processing.\n",
      "2025-05-14 01:56:34,200 - INFO - Defining the universal trigger pattern (delta)...\n",
      "2025-05-14 01:56:34,201 - INFO - Computing min and max values for each feature in the training dataset...\n",
      "2025-05-14 01:56:34,203 - INFO - Min and max values computed successfully.\n",
      "2025-05-14 01:56:34,204 - INFO - Trigger pattern (delta) initialized with shape: torch.Size([7])\n",
      "2025-05-14 01:56:34,205 - INFO - Computing mode vector of the entire training dataset...\n",
      "2025-05-14 01:56:34,211 - INFO - Mode vector computed successfully.\n",
      "2025-05-14 01:56:34,211 - INFO - Starting optimization of the trigger pattern (delta)...\n",
      "2025-05-14 01:56:34,843 - INFO - Epoch [10/100], Loss: 2.3020\n",
      "2025-05-14 01:56:35,436 - INFO - Epoch [20/100], Loss: 2.2468\n",
      "2025-05-14 01:56:36,043 - INFO - Epoch [30/100], Loss: 2.2029\n",
      "2025-05-14 01:56:36,670 - INFO - Epoch [40/100], Loss: 2.1653\n",
      "2025-05-14 01:56:37,654 - INFO - Epoch [50/100], Loss: 2.1284\n",
      "2025-05-14 01:56:38,324 - INFO - Epoch [60/100], Loss: 2.0921\n",
      "2025-05-14 01:56:38,916 - INFO - Epoch [70/100], Loss: 2.0577\n",
      "2025-05-14 01:56:39,507 - INFO - Epoch [80/100], Loss: 2.0230\n",
      "2025-05-14 01:56:40,106 - INFO - Epoch [90/100], Loss: 1.9910\n",
      "2025-05-14 01:56:40,711 - INFO - Epoch [100/100], Loss: 1.9583\n",
      "2025-05-14 01:56:40,712 - INFO - Trigger pattern (delta) optimization completed.\n",
      "2025-05-14 01:56:40,719 - INFO - Optimized trigger pattern (delta) saved to '/home/anhkhoa/ml4secu/save_path/saved_triggers/trigger_delta.pt'.\n",
      "2025-05-14 01:56:40,723 - INFO - Starting construction of the poisoned dataset with epsilon=0.25...\n",
      "2025-05-14 01:56:40,724 - INFO - Number of samples to poison: 3285 out of 13140 total training samples.\n",
      "2025-05-14 01:56:40,726 - INFO - Selected 3285 random samples for poisoning.\n",
      "2025-05-14 01:56:40,728 - INFO - Applied trigger to selected samples and relabeled them to the target class.\n",
      "2025-05-14 01:56:40,730 - INFO - Poisoned dataset constructed with 13140 samples.\n",
      "2025-05-14 01:56:40,731 - INFO - Starting construction of the poisoned dataset with epsilon=1.0...\n",
      "2025-05-14 01:56:40,733 - INFO - Number of samples to poison: 3286 out of 3286 total training samples.\n",
      "2025-05-14 01:56:40,734 - INFO - Selected 3286 random samples for poisoning.\n",
      "2025-05-14 01:56:40,736 - INFO - Applied trigger to selected samples and relabeled them to the target class.\n",
      "2025-05-14 01:56:40,738 - INFO - Poisoned dataset constructed with 3286 samples.\n"
     ]
    },
    {
     "name": "stdout",
     "output_type": "stream",
     "text": [
      "✅ Trigger optimized:\n",
      " tensor([-1.0685e-01, -1.1377e-01,  1.0564e-01, -2.8945e-03, -3.3389e-05,\n",
      "         3.6714e-05,  4.1340e-02], device='cuda:0', requires_grad=True)\n",
      "✅ Mode vector:\n",
      " tensor([0.0229, 0.2500, 0.8335, 0.0000, 0.0000, 0.0000, 0.0000],\n",
      "       device='cuda:0')\n"
     ]
    },
    {
     "name": "stderr",
     "output_type": "stream",
     "text": [
      "Epoch 1/3: 100%|██████████| 411/411 [00:02<00:00, 145.82batch/s, loss=0.596]\n"
     ]
    },
    {
     "name": "stdout",
     "output_type": "stream",
     "text": [
      "Epoch 1 - Avg Loss: 0.5962\n"
     ]
    },
    {
     "name": "stderr",
     "output_type": "stream",
     "text": [
      "Epoch 2/3: 100%|██████████| 411/411 [00:03<00:00, 132.10batch/s, loss=0.579]\n"
     ]
    },
    {
     "name": "stdout",
     "output_type": "stream",
     "text": [
      "Epoch 2 - Avg Loss: 0.5792\n"
     ]
    },
    {
     "name": "stderr",
     "output_type": "stream",
     "text": [
      "Epoch 3/3: 100%|██████████| 411/411 [00:03<00:00, 125.41batch/s, loss=0.457]\n",
      "2025-05-14 01:56:50,163 - INFO - [Generate Attack] Non-target triggered samples: 6576.\n",
      "2025-05-14 01:56:50,164 - INFO - ASR (pred == target_label): 97.60%\n",
      "2025-05-14 01:56:50,165 - INFO - Accuracy (pred == true label): 2.40%\n"
     ]
    },
    {
     "name": "stdout",
     "output_type": "stream",
     "text": [
      "Epoch 3 - Avg Loss: 0.4566\n",
      "==> [Step 1] Gathering Activations on Clean Data...\n",
      "    Activations shape: torch.Size([13140, 256])\n",
      "==> [Step 2] Computing Mean Activations + Identifying Pruning Indices...\n",
      "    total dims: 256, prune 230 dims (90.0%).\n",
      "==> [Step 3] inject pruning mask into the model ...\n",
      "==> [Step 4] Inject pruning mask into LSTM model...\n",
      "==> [Step 5] Fine-tuning the pruned model...\n",
      "Epoch 1/5, Loss: 0.3068\n",
      "Epoch 2/5, Loss: 0.2644\n",
      "Epoch 3/5, Loss: 0.2511\n",
      "==> [Step 6] Testing pruned model on clean data...\n"
     ]
    },
    {
     "name": "stderr",
     "output_type": "stream",
     "text": [
      "2025-05-14 01:57:08,399 - INFO - [Generate Attack] Non-target triggered samples: 6576.\n",
      "2025-05-14 01:57:08,400 - INFO - ASR (pred == target_label): 74.74%\n",
      "2025-05-14 01:57:08,400 - INFO - Accuracy (pred == true label): 25.26%\n",
      "2025-05-14 01:57:08,402 - INFO - Attack initialized with target label: 0\n"
     ]
    },
    {
     "name": "stdout",
     "output_type": "stream",
     "text": [
      "Accuracy after pruning: 86.64%\n"
     ]
    },
    {
     "name": "stderr",
     "output_type": "stream",
     "text": [
      "2025-05-14 01:57:08,445 - INFO - Selecting non-target samples from the training dataset...\n",
      "2025-05-14 01:57:08,447 - INFO - Selected 6576 non-target samples out of 13140 total training samples.\n",
      "2025-05-14 01:57:08,450 - INFO - Starting confidence-based sample ranking...\n"
     ]
    },
    {
     "name": "stdout",
     "output_type": "stream",
     "text": [
      "Error loading model state: Error(s) in loading state_dict for LSTM:\n",
      "\tMissing key(s) in state_dict: \"fc.pruning_mask\", \"fc.fc.weight\", \"fc.fc.bias\". \n",
      "\tUnexpected key(s) in state_dict: \"fc.weight\", \"fc.bias\". \n"
     ]
    },
    {
     "name": "stderr",
     "output_type": "stream",
     "text": [
      "2025-05-14 01:57:08,907 - INFO - Selecting top 10.0% (657) samples based on confidence scores.\n",
      "2025-05-14 01:57:08,924 - INFO - Selected 657 samples for further processing.\n",
      "2025-05-14 01:57:08,926 - INFO - Defining the universal trigger pattern (delta)...\n",
      "2025-05-14 01:57:08,927 - INFO - Computing min and max values for each feature in the training dataset...\n",
      "2025-05-14 01:57:08,929 - INFO - Min and max values computed successfully.\n",
      "2025-05-14 01:57:08,930 - INFO - Trigger pattern (delta) initialized with shape: torch.Size([7])\n",
      "2025-05-14 01:57:08,931 - INFO - Computing mode vector of the entire training dataset...\n",
      "2025-05-14 01:57:08,937 - INFO - Mode vector computed successfully.\n",
      "2025-05-14 01:57:08,938 - INFO - Starting optimization of the trigger pattern (delta)...\n",
      "2025-05-14 01:57:09,646 - INFO - Epoch [10/100], Loss: 2.4347\n",
      "2025-05-14 01:57:10,315 - INFO - Epoch [20/100], Loss: 2.3883\n",
      "2025-05-14 01:57:10,958 - INFO - Epoch [30/100], Loss: 2.3449\n",
      "2025-05-14 01:57:11,596 - INFO - Epoch [40/100], Loss: 2.3031\n",
      "2025-05-14 01:57:12,217 - INFO - Epoch [50/100], Loss: 2.2624\n",
      "2025-05-14 01:57:12,932 - INFO - Epoch [60/100], Loss: 2.2229\n",
      "2025-05-14 01:57:13,566 - INFO - Epoch [70/100], Loss: 2.1843\n",
      "2025-05-14 01:57:14,206 - INFO - Epoch [80/100], Loss: 2.1465\n",
      "2025-05-14 01:57:14,846 - INFO - Epoch [90/100], Loss: 2.1096\n",
      "2025-05-14 01:57:15,503 - INFO - Epoch [100/100], Loss: 2.0735\n",
      "2025-05-14 01:57:15,504 - INFO - Trigger pattern (delta) optimization completed.\n",
      "2025-05-14 01:57:15,506 - INFO - Optimized trigger pattern (delta) saved to '/home/anhkhoa/ml4secu/save_path/saved_triggers/trigger_delta.pt'.\n",
      "2025-05-14 01:57:15,510 - INFO - Starting construction of the poisoned dataset with epsilon=0.3...\n",
      "2025-05-14 01:57:15,512 - INFO - Number of samples to poison: 3942 out of 13140 total training samples.\n",
      "2025-05-14 01:57:15,513 - INFO - Selected 3942 random samples for poisoning.\n",
      "2025-05-14 01:57:15,516 - INFO - Applied trigger to selected samples and relabeled them to the target class.\n",
      "2025-05-14 01:57:15,517 - INFO - Poisoned dataset constructed with 13140 samples.\n",
      "2025-05-14 01:57:15,519 - INFO - Starting construction of the poisoned dataset with epsilon=1.0...\n",
      "2025-05-14 01:57:15,520 - INFO - Number of samples to poison: 3286 out of 3286 total training samples.\n",
      "2025-05-14 01:57:15,521 - INFO - Selected 3286 random samples for poisoning.\n",
      "2025-05-14 01:57:15,523 - INFO - Applied trigger to selected samples and relabeled them to the target class.\n",
      "2025-05-14 01:57:15,526 - INFO - Poisoned dataset constructed with 3286 samples.\n"
     ]
    },
    {
     "name": "stdout",
     "output_type": "stream",
     "text": [
      "✅ Trigger optimized:\n",
      " tensor([-1.1411e-01, -1.2652e-01,  1.1970e-01, -2.2334e-03,  2.4028e-05,\n",
      "         6.0131e-04,  3.9637e-02], device='cuda:0', requires_grad=True)\n",
      "✅ Mode vector:\n",
      " tensor([0.0229, 0.2500, 0.8335, 0.0000, 0.0000, 0.0000, 0.0000],\n",
      "       device='cuda:0')\n"
     ]
    },
    {
     "name": "stderr",
     "output_type": "stream",
     "text": [
      "Epoch 1/3: 100%|██████████| 411/411 [00:02<00:00, 144.44batch/s, loss=0.594]\n"
     ]
    },
    {
     "name": "stdout",
     "output_type": "stream",
     "text": [
      "Epoch 1 - Avg Loss: 0.5945\n"
     ]
    },
    {
     "name": "stderr",
     "output_type": "stream",
     "text": [
      "Epoch 2/3: 100%|██████████| 411/411 [00:02<00:00, 143.69batch/s, loss=0.564]\n"
     ]
    },
    {
     "name": "stdout",
     "output_type": "stream",
     "text": [
      "Epoch 2 - Avg Loss: 0.5637\n"
     ]
    },
    {
     "name": "stderr",
     "output_type": "stream",
     "text": [
      "Epoch 3/3: 100%|██████████| 411/411 [00:02<00:00, 140.18batch/s, loss=0.541]\n",
      "2025-05-14 01:57:24,371 - INFO - [Generate Attack] Non-target triggered samples: 6576.\n",
      "2025-05-14 01:57:24,372 - INFO - ASR (pred == target_label): 76.72%\n",
      "2025-05-14 01:57:24,372 - INFO - Accuracy (pred == true label): 23.28%\n"
     ]
    },
    {
     "name": "stdout",
     "output_type": "stream",
     "text": [
      "Epoch 3 - Avg Loss: 0.5407\n",
      "==> [Step 1] Gathering Activations on Clean Data...\n",
      "    Activations shape: torch.Size([13140, 256])\n",
      "==> [Step 2] Computing Mean Activations + Identifying Pruning Indices...\n",
      "    total dims: 256, prune 230 dims (90.0%).\n",
      "==> [Step 3] inject pruning mask into the model ...\n",
      "==> [Step 4] Inject pruning mask into LSTM model...\n",
      "==> [Step 5] Fine-tuning the pruned model...\n",
      "Epoch 1/5, Loss: 0.5672\n",
      "Epoch 2/5, Loss: 0.4568\n",
      "Epoch 3/5, Loss: 0.3966\n",
      "==> [Step 6] Testing pruned model on clean data...\n"
     ]
    },
    {
     "name": "stderr",
     "output_type": "stream",
     "text": [
      "2025-05-14 01:57:41,877 - INFO - [Generate Attack] Non-target triggered samples: 6576.\n",
      "2025-05-14 01:57:41,879 - INFO - ASR (pred == target_label): 77.49%\n",
      "2025-05-14 01:57:41,880 - INFO - Accuracy (pred == true label): 22.51%\n",
      "2025-05-14 01:57:41,881 - INFO - Attack initialized with target label: 0\n"
     ]
    },
    {
     "name": "stdout",
     "output_type": "stream",
     "text": [
      "Accuracy after pruning: 79.34%\n"
     ]
    },
    {
     "name": "stderr",
     "output_type": "stream",
     "text": [
      "2025-05-14 01:57:41,929 - INFO - Selecting non-target samples from the training dataset...\n",
      "2025-05-14 01:57:41,930 - INFO - Selected 6576 non-target samples out of 13140 total training samples.\n",
      "2025-05-14 01:57:41,931 - INFO - Starting confidence-based sample ranking...\n"
     ]
    },
    {
     "name": "stdout",
     "output_type": "stream",
     "text": [
      "Error loading model state: Error(s) in loading state_dict for LSTM:\n",
      "\tMissing key(s) in state_dict: \"fc.pruning_mask\", \"fc.fc.weight\", \"fc.fc.bias\". \n",
      "\tUnexpected key(s) in state_dict: \"fc.weight\", \"fc.bias\". \n"
     ]
    },
    {
     "name": "stderr",
     "output_type": "stream",
     "text": [
      "2025-05-14 01:57:42,371 - INFO - Selecting top 10.0% (657) samples based on confidence scores.\n",
      "2025-05-14 01:57:42,386 - INFO - Selected 657 samples for further processing.\n",
      "2025-05-14 01:57:42,389 - INFO - Defining the universal trigger pattern (delta)...\n",
      "2025-05-14 01:57:42,390 - INFO - Computing min and max values for each feature in the training dataset...\n",
      "2025-05-14 01:57:42,392 - INFO - Min and max values computed successfully.\n",
      "2025-05-14 01:57:42,393 - INFO - Trigger pattern (delta) initialized with shape: torch.Size([7])\n",
      "2025-05-14 01:57:42,394 - INFO - Computing mode vector of the entire training dataset...\n",
      "2025-05-14 01:57:42,400 - INFO - Mode vector computed successfully.\n",
      "2025-05-14 01:57:42,401 - INFO - Starting optimization of the trigger pattern (delta)...\n",
      "2025-05-14 01:57:43,053 - INFO - Epoch [10/100], Loss: 1.5692\n",
      "2025-05-14 01:57:43,681 - INFO - Epoch [20/100], Loss: 1.5281\n",
      "2025-05-14 01:57:44,294 - INFO - Epoch [30/100], Loss: 1.4951\n",
      "2025-05-14 01:57:44,920 - INFO - Epoch [40/100], Loss: 1.4672\n",
      "2025-05-14 01:57:45,541 - INFO - Epoch [50/100], Loss: 1.4434\n",
      "2025-05-14 01:57:46,169 - INFO - Epoch [60/100], Loss: 1.4222\n",
      "2025-05-14 01:57:46,808 - INFO - Epoch [70/100], Loss: 1.4021\n",
      "2025-05-14 01:57:47,434 - INFO - Epoch [80/100], Loss: 1.3832\n",
      "2025-05-14 01:57:48,071 - INFO - Epoch [90/100], Loss: 1.3651\n",
      "2025-05-14 01:57:48,704 - INFO - Epoch [100/100], Loss: 1.3476\n",
      "2025-05-14 01:57:48,704 - INFO - Trigger pattern (delta) optimization completed.\n",
      "2025-05-14 01:57:48,706 - INFO - Optimized trigger pattern (delta) saved to '/home/anhkhoa/ml4secu/save_path/saved_triggers/trigger_delta.pt'.\n",
      "2025-05-14 01:57:48,709 - INFO - Starting construction of the poisoned dataset with epsilon=0.35000000000000003...\n",
      "2025-05-14 01:57:48,710 - INFO - Number of samples to poison: 4599 out of 13140 total training samples.\n",
      "2025-05-14 01:57:48,711 - INFO - Selected 4599 random samples for poisoning.\n",
      "2025-05-14 01:57:48,713 - INFO - Applied trigger to selected samples and relabeled them to the target class.\n",
      "2025-05-14 01:57:48,714 - INFO - Poisoned dataset constructed with 13140 samples.\n",
      "2025-05-14 01:57:48,715 - INFO - Starting construction of the poisoned dataset with epsilon=1.0...\n",
      "2025-05-14 01:57:48,716 - INFO - Number of samples to poison: 3286 out of 3286 total training samples.\n",
      "2025-05-14 01:57:48,716 - INFO - Selected 3286 random samples for poisoning.\n",
      "2025-05-14 01:57:48,719 - INFO - Applied trigger to selected samples and relabeled them to the target class.\n",
      "2025-05-14 01:57:48,720 - INFO - Poisoned dataset constructed with 3286 samples.\n"
     ]
    },
    {
     "name": "stdout",
     "output_type": "stream",
     "text": [
      "✅ Trigger optimized:\n",
      " tensor([-1.0577e-01, -4.9036e-05,  8.6827e-02, -4.9919e-02,  1.9287e-05,\n",
      "        -4.2331e-04, -2.1690e-02], device='cuda:0', requires_grad=True)\n",
      "✅ Mode vector:\n",
      " tensor([0.0229, 0.2500, 0.8335, 0.0000, 0.0000, 0.0000, 0.0000],\n",
      "       device='cuda:0')\n"
     ]
    },
    {
     "name": "stderr",
     "output_type": "stream",
     "text": [
      "Epoch 1/3: 100%|██████████| 411/411 [00:03<00:00, 129.62batch/s, loss=0.586]\n"
     ]
    },
    {
     "name": "stdout",
     "output_type": "stream",
     "text": [
      "Epoch 1 - Avg Loss: 0.5860\n"
     ]
    },
    {
     "name": "stderr",
     "output_type": "stream",
     "text": [
      "Epoch 2/3: 100%|██████████| 411/411 [00:03<00:00, 136.92batch/s, loss=0.567]\n"
     ]
    },
    {
     "name": "stdout",
     "output_type": "stream",
     "text": [
      "Epoch 2 - Avg Loss: 0.5666\n"
     ]
    },
    {
     "name": "stderr",
     "output_type": "stream",
     "text": [
      "Epoch 3/3: 100%|██████████| 411/411 [00:02<00:00, 143.41batch/s, loss=0.563]\n",
      "2025-05-14 01:57:57,958 - INFO - [Generate Attack] Non-target triggered samples: 6576.\n",
      "2025-05-14 01:57:57,960 - INFO - ASR (pred == target_label): 76.03%\n",
      "2025-05-14 01:57:57,961 - INFO - Accuracy (pred == true label): 23.97%\n"
     ]
    },
    {
     "name": "stdout",
     "output_type": "stream",
     "text": [
      "Epoch 3 - Avg Loss: 0.5630\n",
      "==> [Step 1] Gathering Activations on Clean Data...\n",
      "    Activations shape: torch.Size([13140, 256])\n",
      "==> [Step 2] Computing Mean Activations + Identifying Pruning Indices...\n",
      "    total dims: 256, prune 230 dims (90.0%).\n",
      "==> [Step 3] inject pruning mask into the model ...\n",
      "==> [Step 4] Inject pruning mask into LSTM model...\n",
      "==> [Step 5] Fine-tuning the pruned model...\n",
      "Epoch 1/5, Loss: 0.5821\n",
      "Epoch 2/5, Loss: 0.4529\n",
      "Epoch 3/5, Loss: 0.2970\n",
      "==> [Step 6] Testing pruned model on clean data...\n"
     ]
    },
    {
     "name": "stderr",
     "output_type": "stream",
     "text": [
      "2025-05-14 01:58:15,296 - INFO - [Generate Attack] Non-target triggered samples: 6576.\n",
      "2025-05-14 01:58:15,297 - INFO - ASR (pred == target_label): 37.55%\n",
      "2025-05-14 01:58:15,298 - INFO - Accuracy (pred == true label): 62.45%\n",
      "2025-05-14 01:58:15,299 - INFO - Attack initialized with target label: 0\n"
     ]
    },
    {
     "name": "stdout",
     "output_type": "stream",
     "text": [
      "Accuracy after pruning: 87.31%\n"
     ]
    },
    {
     "name": "stderr",
     "output_type": "stream",
     "text": [
      "2025-05-14 01:58:15,334 - INFO - Selecting non-target samples from the training dataset...\n",
      "2025-05-14 01:58:15,336 - INFO - Selected 6576 non-target samples out of 13140 total training samples.\n",
      "2025-05-14 01:58:15,337 - INFO - Starting confidence-based sample ranking...\n"
     ]
    },
    {
     "name": "stdout",
     "output_type": "stream",
     "text": [
      "Error loading model state: Error(s) in loading state_dict for LSTM:\n",
      "\tMissing key(s) in state_dict: \"fc.pruning_mask\", \"fc.fc.weight\", \"fc.fc.bias\". \n",
      "\tUnexpected key(s) in state_dict: \"fc.weight\", \"fc.bias\". \n"
     ]
    },
    {
     "name": "stderr",
     "output_type": "stream",
     "text": [
      "2025-05-14 01:58:15,770 - INFO - Selecting top 10.0% (657) samples based on confidence scores.\n",
      "2025-05-14 01:58:15,785 - INFO - Selected 657 samples for further processing.\n",
      "2025-05-14 01:58:15,787 - INFO - Defining the universal trigger pattern (delta)...\n",
      "2025-05-14 01:58:15,787 - INFO - Computing min and max values for each feature in the training dataset...\n",
      "2025-05-14 01:58:15,789 - INFO - Min and max values computed successfully.\n",
      "2025-05-14 01:58:15,790 - INFO - Trigger pattern (delta) initialized with shape: torch.Size([7])\n",
      "2025-05-14 01:58:15,791 - INFO - Computing mode vector of the entire training dataset...\n",
      "2025-05-14 01:58:15,797 - INFO - Mode vector computed successfully.\n",
      "2025-05-14 01:58:15,797 - INFO - Starting optimization of the trigger pattern (delta)...\n",
      "2025-05-14 01:58:16,475 - INFO - Epoch [10/100], Loss: 1.9589\n",
      "2025-05-14 01:58:17,141 - INFO - Epoch [20/100], Loss: 1.9211\n",
      "2025-05-14 01:58:17,777 - INFO - Epoch [30/100], Loss: 1.8972\n",
      "2025-05-14 01:58:18,424 - INFO - Epoch [40/100], Loss: 1.8759\n",
      "2025-05-14 01:58:19,065 - INFO - Epoch [50/100], Loss: 1.8559\n",
      "2025-05-14 01:58:19,689 - INFO - Epoch [60/100], Loss: 1.8365\n",
      "2025-05-14 01:58:20,307 - INFO - Epoch [70/100], Loss: 1.8170\n",
      "2025-05-14 01:58:20,909 - INFO - Epoch [80/100], Loss: 1.7974\n",
      "2025-05-14 01:58:21,516 - INFO - Epoch [90/100], Loss: 1.7793\n",
      "2025-05-14 01:58:22,131 - INFO - Epoch [100/100], Loss: 1.7612\n",
      "2025-05-14 01:58:22,132 - INFO - Trigger pattern (delta) optimization completed.\n",
      "2025-05-14 01:58:22,134 - INFO - Optimized trigger pattern (delta) saved to '/home/anhkhoa/ml4secu/save_path/saved_triggers/trigger_delta.pt'.\n",
      "2025-05-14 01:58:22,139 - INFO - Starting construction of the poisoned dataset with epsilon=0.4...\n",
      "2025-05-14 01:58:22,141 - INFO - Number of samples to poison: 5256 out of 13140 total training samples.\n",
      "2025-05-14 01:58:22,141 - INFO - Selected 5256 random samples for poisoning.\n",
      "2025-05-14 01:58:22,143 - INFO - Applied trigger to selected samples and relabeled them to the target class.\n",
      "2025-05-14 01:58:22,145 - INFO - Poisoned dataset constructed with 13140 samples.\n",
      "2025-05-14 01:58:22,145 - INFO - Starting construction of the poisoned dataset with epsilon=1.0...\n",
      "2025-05-14 01:58:22,146 - INFO - Number of samples to poison: 3286 out of 3286 total training samples.\n",
      "2025-05-14 01:58:22,148 - INFO - Selected 3286 random samples for poisoning.\n",
      "2025-05-14 01:58:22,150 - INFO - Applied trigger to selected samples and relabeled them to the target class.\n",
      "2025-05-14 01:58:22,151 - INFO - Poisoned dataset constructed with 3286 samples.\n"
     ]
    },
    {
     "name": "stdout",
     "output_type": "stream",
     "text": [
      "✅ Trigger optimized:\n",
      " tensor([-1.0131e-01, -1.3260e-05,  7.1628e-02, -2.9100e-02, -7.9717e-06,\n",
      "         2.5995e-02, -1.5150e-03], device='cuda:0', requires_grad=True)\n",
      "✅ Mode vector:\n",
      " tensor([0.0229, 0.2500, 0.8335, 0.0000, 0.0000, 0.0000, 0.0000],\n",
      "       device='cuda:0')\n"
     ]
    },
    {
     "name": "stderr",
     "output_type": "stream",
     "text": [
      "Epoch 1/3: 100%|██████████| 411/411 [00:02<00:00, 142.57batch/s, loss=0.571]\n"
     ]
    },
    {
     "name": "stdout",
     "output_type": "stream",
     "text": [
      "Epoch 1 - Avg Loss: 0.5715\n"
     ]
    },
    {
     "name": "stderr",
     "output_type": "stream",
     "text": [
      "Epoch 2/3: 100%|██████████| 411/411 [00:02<00:00, 143.34batch/s, loss=0.554]\n"
     ]
    },
    {
     "name": "stdout",
     "output_type": "stream",
     "text": [
      "Epoch 2 - Avg Loss: 0.5542\n"
     ]
    },
    {
     "name": "stderr",
     "output_type": "stream",
     "text": [
      "Epoch 3/3: 100%|██████████| 411/411 [00:03<00:00, 131.25batch/s, loss=0.555]\n",
      "2025-05-14 01:58:31,252 - INFO - [Generate Attack] Non-target triggered samples: 6576.\n",
      "2025-05-14 01:58:31,254 - INFO - ASR (pred == target_label): 62.94%\n",
      "2025-05-14 01:58:31,255 - INFO - Accuracy (pred == true label): 37.06%\n"
     ]
    },
    {
     "name": "stdout",
     "output_type": "stream",
     "text": [
      "Epoch 3 - Avg Loss: 0.5549\n",
      "==> [Step 1] Gathering Activations on Clean Data...\n",
      "    Activations shape: torch.Size([13140, 256])\n",
      "==> [Step 2] Computing Mean Activations + Identifying Pruning Indices...\n",
      "    total dims: 256, prune 230 dims (90.0%).\n",
      "==> [Step 3] inject pruning mask into the model ...\n",
      "==> [Step 4] Inject pruning mask into LSTM model...\n",
      "==> [Step 5] Fine-tuning the pruned model...\n",
      "Epoch 1/5, Loss: 0.5852\n",
      "Epoch 2/5, Loss: 0.5334\n",
      "Epoch 3/5, Loss: 0.3970\n",
      "==> [Step 6] Testing pruned model on clean data...\n"
     ]
    },
    {
     "name": "stderr",
     "output_type": "stream",
     "text": [
      "2025-05-14 01:58:48,477 - INFO - [Generate Attack] Non-target triggered samples: 6576.\n",
      "2025-05-14 01:58:48,477 - INFO - ASR (pred == target_label): 16.27%\n",
      "2025-05-14 01:58:48,478 - INFO - Accuracy (pred == true label): 83.73%\n",
      "2025-05-14 01:58:48,479 - INFO - Attack initialized with target label: 0\n",
      "2025-05-14 01:58:48,509 - INFO - Selecting non-target samples from the training dataset...\n",
      "2025-05-14 01:58:48,510 - INFO - Selected 6576 non-target samples out of 13140 total training samples.\n"
     ]
    },
    {
     "name": "stdout",
     "output_type": "stream",
     "text": [
      "Accuracy after pruning: 86.61%\n",
      "Error loading model state: Error(s) in loading state_dict for LSTM:\n",
      "\tMissing key(s) in state_dict: \"fc.pruning_mask\", \"fc.fc.weight\", \"fc.fc.bias\". \n",
      "\tUnexpected key(s) in state_dict: \"fc.weight\", \"fc.bias\". \n"
     ]
    },
    {
     "name": "stderr",
     "output_type": "stream",
     "text": [
      "2025-05-14 01:58:48,515 - INFO - Starting confidence-based sample ranking...\n",
      "2025-05-14 01:58:49,158 - INFO - Selecting top 10.0% (657) samples based on confidence scores.\n",
      "2025-05-14 01:58:49,184 - INFO - Selected 657 samples for further processing.\n",
      "2025-05-14 01:58:49,186 - INFO - Defining the universal trigger pattern (delta)...\n",
      "2025-05-14 01:58:49,187 - INFO - Computing min and max values for each feature in the training dataset...\n",
      "2025-05-14 01:58:49,188 - INFO - Min and max values computed successfully.\n",
      "2025-05-14 01:58:49,189 - INFO - Trigger pattern (delta) initialized with shape: torch.Size([7])\n",
      "2025-05-14 01:58:49,190 - INFO - Computing mode vector of the entire training dataset...\n",
      "2025-05-14 01:58:49,196 - INFO - Mode vector computed successfully.\n",
      "2025-05-14 01:58:49,197 - INFO - Starting optimization of the trigger pattern (delta)...\n",
      "2025-05-14 01:58:49,992 - INFO - Epoch [10/100], Loss: 1.5987\n",
      "2025-05-14 01:58:50,966 - INFO - Epoch [20/100], Loss: 1.5709\n",
      "2025-05-14 01:58:52,002 - INFO - Epoch [30/100], Loss: 1.5482\n",
      "2025-05-14 01:58:52,672 - INFO - Epoch [40/100], Loss: 1.5278\n",
      "2025-05-14 01:58:53,350 - INFO - Epoch [50/100], Loss: 1.5090\n",
      "2025-05-14 01:58:54,176 - INFO - Epoch [60/100], Loss: 1.4912\n",
      "2025-05-14 01:58:54,876 - INFO - Epoch [70/100], Loss: 1.4743\n",
      "2025-05-14 01:58:55,544 - INFO - Epoch [80/100], Loss: 1.4581\n",
      "2025-05-14 01:58:56,179 - INFO - Epoch [90/100], Loss: 1.4430\n",
      "2025-05-14 01:58:56,844 - INFO - Epoch [100/100], Loss: 1.4285\n",
      "2025-05-14 01:58:56,845 - INFO - Trigger pattern (delta) optimization completed.\n",
      "2025-05-14 01:58:56,847 - INFO - Optimized trigger pattern (delta) saved to '/home/anhkhoa/ml4secu/save_path/saved_triggers/trigger_delta.pt'.\n",
      "2025-05-14 01:58:56,851 - INFO - Starting construction of the poisoned dataset with epsilon=0.45...\n",
      "2025-05-14 01:58:56,852 - INFO - Number of samples to poison: 5913 out of 13140 total training samples.\n",
      "2025-05-14 01:58:56,853 - INFO - Selected 5913 random samples for poisoning.\n",
      "2025-05-14 01:58:56,856 - INFO - Applied trigger to selected samples and relabeled them to the target class.\n",
      "2025-05-14 01:58:56,857 - INFO - Poisoned dataset constructed with 13140 samples.\n",
      "2025-05-14 01:58:56,858 - INFO - Starting construction of the poisoned dataset with epsilon=1.0...\n",
      "2025-05-14 01:58:56,859 - INFO - Number of samples to poison: 3286 out of 3286 total training samples.\n",
      "2025-05-14 01:58:56,860 - INFO - Selected 3286 random samples for poisoning.\n",
      "2025-05-14 01:58:56,863 - INFO - Applied trigger to selected samples and relabeled them to the target class.\n",
      "2025-05-14 01:58:56,864 - INFO - Poisoned dataset constructed with 3286 samples.\n"
     ]
    },
    {
     "name": "stdout",
     "output_type": "stream",
     "text": [
      "✅ Trigger optimized:\n",
      " tensor([-1.0749e-01, -1.5068e-05,  8.3039e-02, -5.4041e-02,  2.2949e-05,\n",
      "        -4.7232e-05, -1.6730e-02], device='cuda:0', requires_grad=True)\n",
      "✅ Mode vector:\n",
      " tensor([0.0229, 0.2500, 0.8335, 0.0000, 0.0000, 0.0000, 0.0000],\n",
      "       device='cuda:0')\n"
     ]
    },
    {
     "name": "stderr",
     "output_type": "stream",
     "text": [
      "Epoch 1/3: 100%|██████████| 411/411 [00:02<00:00, 140.15batch/s, loss=0.548]\n"
     ]
    },
    {
     "name": "stdout",
     "output_type": "stream",
     "text": [
      "Epoch 1 - Avg Loss: 0.5484\n"
     ]
    },
    {
     "name": "stderr",
     "output_type": "stream",
     "text": [
      "Epoch 2/3: 100%|██████████| 411/411 [00:03<00:00, 125.93batch/s, loss=0.536]\n"
     ]
    },
    {
     "name": "stdout",
     "output_type": "stream",
     "text": [
      "Epoch 2 - Avg Loss: 0.5358\n"
     ]
    },
    {
     "name": "stderr",
     "output_type": "stream",
     "text": [
      "Epoch 3/3: 100%|██████████| 411/411 [00:02<00:00, 143.11batch/s, loss=0.533]\n",
      "2025-05-14 01:59:06,137 - INFO - [Generate Attack] Non-target triggered samples: 6576.\n",
      "2025-05-14 01:59:06,139 - INFO - ASR (pred == target_label): 92.76%\n",
      "2025-05-14 01:59:06,139 - INFO - Accuracy (pred == true label): 7.24%\n"
     ]
    },
    {
     "name": "stdout",
     "output_type": "stream",
     "text": [
      "Epoch 3 - Avg Loss: 0.5328\n",
      "==> [Step 1] Gathering Activations on Clean Data...\n",
      "    Activations shape: torch.Size([13140, 256])\n",
      "==> [Step 2] Computing Mean Activations + Identifying Pruning Indices...\n",
      "    total dims: 256, prune 230 dims (90.0%).\n",
      "==> [Step 3] inject pruning mask into the model ...\n",
      "==> [Step 4] Inject pruning mask into LSTM model...\n",
      "==> [Step 5] Fine-tuning the pruned model...\n",
      "Epoch 1/5, Loss: 0.5835\n",
      "Epoch 2/5, Loss: 0.5528\n",
      "Epoch 3/5, Loss: 0.3904\n",
      "==> [Step 6] Testing pruned model on clean data...\n"
     ]
    },
    {
     "name": "stderr",
     "output_type": "stream",
     "text": [
      "2025-05-14 01:59:23,553 - INFO - [Generate Attack] Non-target triggered samples: 6576.\n",
      "2025-05-14 01:59:23,554 - INFO - ASR (pred == target_label): 7.30%\n",
      "2025-05-14 01:59:23,555 - INFO - Accuracy (pred == true label): 92.70%\n",
      "2025-05-14 01:59:23,556 - INFO - Attack initialized with target label: 0\n"
     ]
    },
    {
     "name": "stdout",
     "output_type": "stream",
     "text": [
      "Accuracy after pruning: 85.88%\n"
     ]
    },
    {
     "name": "stderr",
     "output_type": "stream",
     "text": [
      "2025-05-14 01:59:23,594 - INFO - Selecting non-target samples from the training dataset...\n",
      "2025-05-14 01:59:23,596 - INFO - Selected 6576 non-target samples out of 13140 total training samples.\n",
      "2025-05-14 01:59:23,597 - INFO - Starting confidence-based sample ranking...\n"
     ]
    },
    {
     "name": "stdout",
     "output_type": "stream",
     "text": [
      "Error loading model state: Error(s) in loading state_dict for LSTM:\n",
      "\tMissing key(s) in state_dict: \"fc.pruning_mask\", \"fc.fc.weight\", \"fc.fc.bias\". \n",
      "\tUnexpected key(s) in state_dict: \"fc.weight\", \"fc.bias\". \n"
     ]
    },
    {
     "name": "stderr",
     "output_type": "stream",
     "text": [
      "2025-05-14 01:59:24,050 - INFO - Selecting top 10.0% (657) samples based on confidence scores.\n",
      "2025-05-14 01:59:24,065 - INFO - Selected 657 samples for further processing.\n",
      "2025-05-14 01:59:24,066 - INFO - Defining the universal trigger pattern (delta)...\n",
      "2025-05-14 01:59:24,067 - INFO - Computing min and max values for each feature in the training dataset...\n",
      "2025-05-14 01:59:24,069 - INFO - Min and max values computed successfully.\n",
      "2025-05-14 01:59:24,071 - INFO - Trigger pattern (delta) initialized with shape: torch.Size([7])\n",
      "2025-05-14 01:59:24,071 - INFO - Computing mode vector of the entire training dataset...\n",
      "2025-05-14 01:59:24,079 - INFO - Mode vector computed successfully.\n",
      "2025-05-14 01:59:24,080 - INFO - Starting optimization of the trigger pattern (delta)...\n",
      "2025-05-14 01:59:24,732 - INFO - Epoch [10/100], Loss: 2.4327\n",
      "2025-05-14 01:59:25,356 - INFO - Epoch [20/100], Loss: 2.3835\n",
      "2025-05-14 01:59:25,990 - INFO - Epoch [30/100], Loss: 2.3426\n",
      "2025-05-14 01:59:26,612 - INFO - Epoch [40/100], Loss: 2.3044\n",
      "2025-05-14 01:59:27,227 - INFO - Epoch [50/100], Loss: 2.2692\n",
      "2025-05-14 01:59:27,845 - INFO - Epoch [60/100], Loss: 2.2353\n",
      "2025-05-14 01:59:28,459 - INFO - Epoch [70/100], Loss: 2.2021\n",
      "2025-05-14 01:59:29,078 - INFO - Epoch [80/100], Loss: 2.1708\n",
      "2025-05-14 01:59:29,697 - INFO - Epoch [90/100], Loss: 2.1392\n",
      "2025-05-14 01:59:30,302 - INFO - Epoch [100/100], Loss: 2.1073\n",
      "2025-05-14 01:59:30,303 - INFO - Trigger pattern (delta) optimization completed.\n",
      "2025-05-14 01:59:30,306 - INFO - Optimized trigger pattern (delta) saved to '/home/anhkhoa/ml4secu/save_path/saved_triggers/trigger_delta.pt'.\n",
      "2025-05-14 01:59:30,310 - INFO - Starting construction of the poisoned dataset with epsilon=0.5...\n",
      "2025-05-14 01:59:30,311 - INFO - Number of samples to poison: 6570 out of 13140 total training samples.\n",
      "2025-05-14 01:59:30,312 - INFO - Selected 6570 random samples for poisoning.\n",
      "2025-05-14 01:59:30,315 - INFO - Applied trigger to selected samples and relabeled them to the target class.\n",
      "2025-05-14 01:59:30,316 - INFO - Poisoned dataset constructed with 13140 samples.\n",
      "2025-05-14 01:59:30,317 - INFO - Starting construction of the poisoned dataset with epsilon=1.0...\n",
      "2025-05-14 01:59:30,319 - INFO - Number of samples to poison: 3286 out of 3286 total training samples.\n",
      "2025-05-14 01:59:30,321 - INFO - Selected 3286 random samples for poisoning.\n",
      "2025-05-14 01:59:30,323 - INFO - Applied trigger to selected samples and relabeled them to the target class.\n",
      "2025-05-14 01:59:30,325 - INFO - Poisoned dataset constructed with 3286 samples.\n"
     ]
    },
    {
     "name": "stdout",
     "output_type": "stream",
     "text": [
      "✅ Trigger optimized:\n",
      " tensor([-1.0248e-01, -1.0709e-01,  8.0112e-02, -2.1699e-02,  1.8687e-05,\n",
      "        -3.0389e-05, -3.0174e-05], device='cuda:0', requires_grad=True)\n",
      "✅ Mode vector:\n",
      " tensor([0.0229, 0.2500, 0.8335, 0.0000, 0.0000, 0.0000, 0.0000],\n",
      "       device='cuda:0')\n"
     ]
    },
    {
     "name": "stderr",
     "output_type": "stream",
     "text": [
      "Epoch 1/3: 100%|██████████| 411/411 [00:02<00:00, 143.30batch/s, loss=0.515]\n"
     ]
    },
    {
     "name": "stdout",
     "output_type": "stream",
     "text": [
      "Epoch 1 - Avg Loss: 0.5155\n"
     ]
    },
    {
     "name": "stderr",
     "output_type": "stream",
     "text": [
      "Epoch 2/3: 100%|██████████| 411/411 [00:02<00:00, 146.02batch/s, loss=0.502]\n"
     ]
    },
    {
     "name": "stdout",
     "output_type": "stream",
     "text": [
      "Epoch 2 - Avg Loss: 0.5023\n"
     ]
    },
    {
     "name": "stderr",
     "output_type": "stream",
     "text": [
      "Epoch 3/3: 100%|██████████| 411/411 [00:02<00:00, 147.56batch/s, loss=0.501]\n",
      "2025-05-14 01:59:39,012 - INFO - [Generate Attack] Non-target triggered samples: 6576.\n",
      "2025-05-14 01:59:39,013 - INFO - ASR (pred == target_label): 83.77%\n",
      "2025-05-14 01:59:39,014 - INFO - Accuracy (pred == true label): 16.23%\n"
     ]
    },
    {
     "name": "stdout",
     "output_type": "stream",
     "text": [
      "Epoch 3 - Avg Loss: 0.5011\n",
      "==> [Step 1] Gathering Activations on Clean Data...\n",
      "    Activations shape: torch.Size([13140, 256])\n",
      "==> [Step 2] Computing Mean Activations + Identifying Pruning Indices...\n",
      "    total dims: 256, prune 230 dims (90.0%).\n",
      "==> [Step 3] inject pruning mask into the model ...\n",
      "==> [Step 4] Inject pruning mask into LSTM model...\n",
      "==> [Step 5] Fine-tuning the pruned model...\n",
      "Epoch 1/5, Loss: 0.5812\n",
      "Epoch 2/5, Loss: 0.5252\n",
      "Epoch 3/5, Loss: 0.4322\n",
      "==> [Step 6] Testing pruned model on clean data...\n"
     ]
    },
    {
     "name": "stderr",
     "output_type": "stream",
     "text": [
      "2025-05-14 01:59:57,397 - INFO - [Generate Attack] Non-target triggered samples: 6576.\n",
      "2025-05-14 01:59:57,398 - INFO - ASR (pred == target_label): 26.13%\n",
      "2025-05-14 01:59:57,399 - INFO - Accuracy (pred == true label): 73.87%\n",
      "2025-05-14 01:59:57,401 - INFO - Attack initialized with target label: 0\n"
     ]
    },
    {
     "name": "stdout",
     "output_type": "stream",
     "text": [
      "Accuracy after pruning: 81.53%\n"
     ]
    },
    {
     "name": "stderr",
     "output_type": "stream",
     "text": [
      "2025-05-14 01:59:57,459 - INFO - Selecting non-target samples from the training dataset...\n",
      "2025-05-14 01:59:57,460 - INFO - Selected 6576 non-target samples out of 13140 total training samples.\n",
      "2025-05-14 01:59:57,461 - INFO - Starting confidence-based sample ranking...\n"
     ]
    },
    {
     "name": "stdout",
     "output_type": "stream",
     "text": [
      "Error loading model state: Error(s) in loading state_dict for LSTM:\n",
      "\tMissing key(s) in state_dict: \"fc.pruning_mask\", \"fc.fc.weight\", \"fc.fc.bias\". \n",
      "\tUnexpected key(s) in state_dict: \"fc.weight\", \"fc.bias\". \n"
     ]
    },
    {
     "name": "stderr",
     "output_type": "stream",
     "text": [
      "2025-05-14 01:59:57,916 - INFO - Selecting top 10.0% (657) samples based on confidence scores.\n",
      "2025-05-14 01:59:57,931 - INFO - Selected 657 samples for further processing.\n",
      "2025-05-14 01:59:57,932 - INFO - Defining the universal trigger pattern (delta)...\n",
      "2025-05-14 01:59:57,933 - INFO - Computing min and max values for each feature in the training dataset...\n",
      "2025-05-14 01:59:57,935 - INFO - Min and max values computed successfully.\n",
      "2025-05-14 01:59:57,936 - INFO - Trigger pattern (delta) initialized with shape: torch.Size([7])\n",
      "2025-05-14 01:59:57,937 - INFO - Computing mode vector of the entire training dataset...\n",
      "2025-05-14 01:59:57,943 - INFO - Mode vector computed successfully.\n",
      "2025-05-14 01:59:57,943 - INFO - Starting optimization of the trigger pattern (delta)...\n",
      "2025-05-14 01:59:58,622 - INFO - Epoch [10/100], Loss: 2.4091\n",
      "2025-05-14 01:59:59,266 - INFO - Epoch [20/100], Loss: 2.3546\n",
      "2025-05-14 01:59:59,917 - INFO - Epoch [30/100], Loss: 2.3132\n",
      "2025-05-14 02:00:00,590 - INFO - Epoch [40/100], Loss: 2.2737\n",
      "2025-05-14 02:00:01,250 - INFO - Epoch [50/100], Loss: 2.2349\n",
      "2025-05-14 02:00:01,898 - INFO - Epoch [60/100], Loss: 2.1967\n",
      "2025-05-14 02:00:02,572 - INFO - Epoch [70/100], Loss: 2.1594\n",
      "2025-05-14 02:00:03,222 - INFO - Epoch [80/100], Loss: 2.1228\n",
      "2025-05-14 02:00:03,881 - INFO - Epoch [90/100], Loss: 2.0870\n",
      "2025-05-14 02:00:04,572 - INFO - Epoch [100/100], Loss: 2.0519\n",
      "2025-05-14 02:00:04,573 - INFO - Trigger pattern (delta) optimization completed.\n",
      "2025-05-14 02:00:04,575 - INFO - Optimized trigger pattern (delta) saved to '/home/anhkhoa/ml4secu/save_path/saved_triggers/trigger_delta.pt'.\n",
      "2025-05-14 02:00:04,579 - INFO - Starting construction of the poisoned dataset with epsilon=0.55...\n",
      "2025-05-14 02:00:04,581 - INFO - Number of samples to poison: 7227 out of 13140 total training samples.\n",
      "2025-05-14 02:00:04,582 - INFO - Selected 7227 random samples for poisoning.\n",
      "2025-05-14 02:00:04,584 - INFO - Applied trigger to selected samples and relabeled them to the target class.\n",
      "2025-05-14 02:00:04,586 - INFO - Poisoned dataset constructed with 13140 samples.\n",
      "2025-05-14 02:00:04,587 - INFO - Starting construction of the poisoned dataset with epsilon=1.0...\n",
      "2025-05-14 02:00:04,589 - INFO - Number of samples to poison: 3286 out of 3286 total training samples.\n",
      "2025-05-14 02:00:04,590 - INFO - Selected 3286 random samples for poisoning.\n",
      "2025-05-14 02:00:04,593 - INFO - Applied trigger to selected samples and relabeled them to the target class.\n",
      "2025-05-14 02:00:04,595 - INFO - Poisoned dataset constructed with 3286 samples.\n"
     ]
    },
    {
     "name": "stdout",
     "output_type": "stream",
     "text": [
      "✅ Trigger optimized:\n",
      " tensor([-9.8586e-02, -1.0143e-01,  1.0996e-01, -2.3694e-03, -2.4375e-05,\n",
      "         1.3982e-02,  3.2336e-02], device='cuda:0', requires_grad=True)\n",
      "✅ Mode vector:\n",
      " tensor([0.0229, 0.2500, 0.8335, 0.0000, 0.0000, 0.0000, 0.0000],\n",
      "       device='cuda:0')\n"
     ]
    },
    {
     "name": "stderr",
     "output_type": "stream",
     "text": [
      "Epoch 1/3: 100%|██████████| 411/411 [00:03<00:00, 136.93batch/s, loss=0.497]\n"
     ]
    },
    {
     "name": "stdout",
     "output_type": "stream",
     "text": [
      "Epoch 1 - Avg Loss: 0.4970\n"
     ]
    },
    {
     "name": "stderr",
     "output_type": "stream",
     "text": [
      "Epoch 2/3: 100%|██████████| 411/411 [00:02<00:00, 141.14batch/s, loss=0.429]\n"
     ]
    },
    {
     "name": "stdout",
     "output_type": "stream",
     "text": [
      "Epoch 2 - Avg Loss: 0.4289\n"
     ]
    },
    {
     "name": "stderr",
     "output_type": "stream",
     "text": [
      "Epoch 3/3: 100%|██████████| 411/411 [00:02<00:00, 144.56batch/s, loss=0.328]\n",
      "2025-05-14 02:00:13,553 - INFO - [Generate Attack] Non-target triggered samples: 6576.\n",
      "2025-05-14 02:00:13,554 - INFO - ASR (pred == target_label): 100.00%\n",
      "2025-05-14 02:00:13,555 - INFO - Accuracy (pred == true label): 0.00%\n"
     ]
    },
    {
     "name": "stdout",
     "output_type": "stream",
     "text": [
      "Epoch 3 - Avg Loss: 0.3277\n",
      "==> [Step 1] Gathering Activations on Clean Data...\n",
      "    Activations shape: torch.Size([13140, 256])\n",
      "==> [Step 2] Computing Mean Activations + Identifying Pruning Indices...\n",
      "    total dims: 256, prune 230 dims (90.0%).\n",
      "==> [Step 3] inject pruning mask into the model ...\n",
      "==> [Step 4] Inject pruning mask into LSTM model...\n",
      "==> [Step 5] Fine-tuning the pruned model...\n",
      "Epoch 1/5, Loss: 0.5857\n",
      "Epoch 2/5, Loss: 0.5716\n",
      "Epoch 3/5, Loss: 0.4321\n",
      "==> [Step 6] Testing pruned model on clean data...\n"
     ]
    },
    {
     "name": "stderr",
     "output_type": "stream",
     "text": [
      "2025-05-14 02:00:30,923 - INFO - [Generate Attack] Non-target triggered samples: 6576.\n",
      "2025-05-14 02:00:30,924 - INFO - ASR (pred == target_label): 67.52%\n",
      "2025-05-14 02:00:30,925 - INFO - Accuracy (pred == true label): 32.48%\n",
      "2025-05-14 02:00:30,926 - INFO - Attack initialized with target label: 0\n"
     ]
    },
    {
     "name": "stdout",
     "output_type": "stream",
     "text": [
      "Accuracy after pruning: 84.66%\n"
     ]
    },
    {
     "name": "stderr",
     "output_type": "stream",
     "text": [
      "2025-05-14 02:00:30,968 - INFO - Selecting non-target samples from the training dataset...\n",
      "2025-05-14 02:00:30,969 - INFO - Selected 6576 non-target samples out of 13140 total training samples.\n",
      "2025-05-14 02:00:30,971 - INFO - Starting confidence-based sample ranking...\n"
     ]
    },
    {
     "name": "stdout",
     "output_type": "stream",
     "text": [
      "Error loading model state: Error(s) in loading state_dict for LSTM:\n",
      "\tMissing key(s) in state_dict: \"fc.pruning_mask\", \"fc.fc.weight\", \"fc.fc.bias\". \n",
      "\tUnexpected key(s) in state_dict: \"fc.weight\", \"fc.bias\". \n"
     ]
    },
    {
     "name": "stderr",
     "output_type": "stream",
     "text": [
      "2025-05-14 02:00:31,439 - INFO - Selecting top 10.0% (657) samples based on confidence scores.\n",
      "2025-05-14 02:00:31,454 - INFO - Selected 657 samples for further processing.\n",
      "2025-05-14 02:00:31,456 - INFO - Defining the universal trigger pattern (delta)...\n",
      "2025-05-14 02:00:31,457 - INFO - Computing min and max values for each feature in the training dataset...\n",
      "2025-05-14 02:00:31,458 - INFO - Min and max values computed successfully.\n",
      "2025-05-14 02:00:31,460 - INFO - Trigger pattern (delta) initialized with shape: torch.Size([7])\n",
      "2025-05-14 02:00:31,461 - INFO - Computing mode vector of the entire training dataset...\n",
      "2025-05-14 02:00:31,467 - INFO - Mode vector computed successfully.\n",
      "2025-05-14 02:00:31,468 - INFO - Starting optimization of the trigger pattern (delta)...\n",
      "2025-05-14 02:00:32,129 - INFO - Epoch [10/100], Loss: 1.9180\n",
      "2025-05-14 02:00:32,791 - INFO - Epoch [20/100], Loss: 1.8841\n",
      "2025-05-14 02:00:33,450 - INFO - Epoch [30/100], Loss: 1.8615\n",
      "2025-05-14 02:00:34,095 - INFO - Epoch [40/100], Loss: 1.8405\n",
      "2025-05-14 02:00:34,733 - INFO - Epoch [50/100], Loss: 1.8206\n",
      "2025-05-14 02:00:35,355 - INFO - Epoch [60/100], Loss: 1.8018\n",
      "2025-05-14 02:00:35,981 - INFO - Epoch [70/100], Loss: 1.7842\n",
      "2025-05-14 02:00:36,602 - INFO - Epoch [80/100], Loss: 1.7673\n",
      "2025-05-14 02:00:37,220 - INFO - Epoch [90/100], Loss: 1.7499\n",
      "2025-05-14 02:00:37,841 - INFO - Epoch [100/100], Loss: 1.7336\n",
      "2025-05-14 02:00:37,842 - INFO - Trigger pattern (delta) optimization completed.\n",
      "2025-05-14 02:00:37,844 - INFO - Optimized trigger pattern (delta) saved to '/home/anhkhoa/ml4secu/save_path/saved_triggers/trigger_delta.pt'.\n",
      "2025-05-14 02:00:37,849 - INFO - Starting construction of the poisoned dataset with epsilon=0.6000000000000001...\n",
      "2025-05-14 02:00:37,851 - INFO - Number of samples to poison: 7884 out of 13140 total training samples.\n",
      "2025-05-14 02:00:37,852 - INFO - Selected 7884 random samples for poisoning.\n",
      "2025-05-14 02:00:37,854 - INFO - Applied trigger to selected samples and relabeled them to the target class.\n",
      "2025-05-14 02:00:37,855 - INFO - Poisoned dataset constructed with 13140 samples.\n",
      "2025-05-14 02:00:37,856 - INFO - Starting construction of the poisoned dataset with epsilon=1.0...\n",
      "2025-05-14 02:00:37,858 - INFO - Number of samples to poison: 3286 out of 3286 total training samples.\n",
      "2025-05-14 02:00:37,859 - INFO - Selected 3286 random samples for poisoning.\n",
      "2025-05-14 02:00:37,861 - INFO - Applied trigger to selected samples and relabeled them to the target class.\n",
      "2025-05-14 02:00:37,862 - INFO - Poisoned dataset constructed with 3286 samples.\n"
     ]
    },
    {
     "name": "stdout",
     "output_type": "stream",
     "text": [
      "✅ Trigger optimized:\n",
      " tensor([-1.2145e-01, -2.1443e-05,  1.0267e-01, -6.4951e-03,  6.1673e-03,\n",
      "         6.9628e-02, -2.7233e-03], device='cuda:0', requires_grad=True)\n",
      "✅ Mode vector:\n",
      " tensor([0.0229, 0.2500, 0.8335, 0.0000, 0.0000, 0.0000, 0.0000],\n",
      "       device='cuda:0')\n"
     ]
    },
    {
     "name": "stderr",
     "output_type": "stream",
     "text": [
      "Epoch 1/3: 100%|██████████| 411/411 [00:02<00:00, 144.36batch/s, loss=0.479]\n"
     ]
    },
    {
     "name": "stdout",
     "output_type": "stream",
     "text": [
      "Epoch 1 - Avg Loss: 0.4786\n"
     ]
    },
    {
     "name": "stderr",
     "output_type": "stream",
     "text": [
      "Epoch 2/3: 100%|██████████| 411/411 [00:02<00:00, 144.49batch/s, loss=0.458]\n"
     ]
    },
    {
     "name": "stdout",
     "output_type": "stream",
     "text": [
      "Epoch 2 - Avg Loss: 0.4579\n"
     ]
    },
    {
     "name": "stderr",
     "output_type": "stream",
     "text": [
      "Epoch 3/3: 100%|██████████| 411/411 [00:02<00:00, 146.86batch/s, loss=0.422]\n",
      "2025-05-14 02:00:46,568 - INFO - [Generate Attack] Non-target triggered samples: 6576.\n",
      "2025-05-14 02:00:46,569 - INFO - ASR (pred == target_label): 97.23%\n",
      "2025-05-14 02:00:46,570 - INFO - Accuracy (pred == true label): 2.77%\n"
     ]
    },
    {
     "name": "stdout",
     "output_type": "stream",
     "text": [
      "Epoch 3 - Avg Loss: 0.4223\n",
      "==> [Step 1] Gathering Activations on Clean Data...\n",
      "    Activations shape: torch.Size([13140, 256])\n",
      "==> [Step 2] Computing Mean Activations + Identifying Pruning Indices...\n",
      "    total dims: 256, prune 230 dims (90.0%).\n",
      "==> [Step 3] inject pruning mask into the model ...\n",
      "==> [Step 4] Inject pruning mask into LSTM model...\n",
      "==> [Step 5] Fine-tuning the pruned model...\n",
      "Epoch 1/5, Loss: 0.5839\n",
      "Epoch 2/5, Loss: 0.5046\n",
      "Epoch 3/5, Loss: 0.3734\n",
      "==> [Step 6] Testing pruned model on clean data...\n"
     ]
    },
    {
     "name": "stderr",
     "output_type": "stream",
     "text": [
      "2025-05-14 02:01:04,655 - INFO - [Generate Attack] Non-target triggered samples: 6576.\n",
      "2025-05-14 02:01:04,656 - INFO - ASR (pred == target_label): 7.13%\n",
      "2025-05-14 02:01:04,657 - INFO - Accuracy (pred == true label): 92.87%\n",
      "2025-05-14 02:01:04,658 - INFO - Attack initialized with target label: 0\n"
     ]
    },
    {
     "name": "stdout",
     "output_type": "stream",
     "text": [
      "Accuracy after pruning: 84.66%\n"
     ]
    },
    {
     "name": "stderr",
     "output_type": "stream",
     "text": [
      "2025-05-14 02:01:04,693 - INFO - Selecting non-target samples from the training dataset...\n",
      "2025-05-14 02:01:04,695 - INFO - Selected 6576 non-target samples out of 13140 total training samples.\n",
      "2025-05-14 02:01:04,702 - INFO - Starting confidence-based sample ranking...\n"
     ]
    },
    {
     "name": "stdout",
     "output_type": "stream",
     "text": [
      "Error loading model state: Error(s) in loading state_dict for LSTM:\n",
      "\tMissing key(s) in state_dict: \"fc.pruning_mask\", \"fc.fc.weight\", \"fc.fc.bias\". \n",
      "\tUnexpected key(s) in state_dict: \"fc.weight\", \"fc.bias\". \n"
     ]
    },
    {
     "name": "stderr",
     "output_type": "stream",
     "text": [
      "2025-05-14 02:01:05,151 - INFO - Selecting top 10.0% (657) samples based on confidence scores.\n",
      "2025-05-14 02:01:05,166 - INFO - Selected 657 samples for further processing.\n",
      "2025-05-14 02:01:05,169 - INFO - Defining the universal trigger pattern (delta)...\n",
      "2025-05-14 02:01:05,170 - INFO - Computing min and max values for each feature in the training dataset...\n",
      "2025-05-14 02:01:05,171 - INFO - Min and max values computed successfully.\n",
      "2025-05-14 02:01:05,172 - INFO - Trigger pattern (delta) initialized with shape: torch.Size([7])\n",
      "2025-05-14 02:01:05,173 - INFO - Computing mode vector of the entire training dataset...\n",
      "2025-05-14 02:01:05,182 - INFO - Mode vector computed successfully.\n",
      "2025-05-14 02:01:05,183 - INFO - Starting optimization of the trigger pattern (delta)...\n",
      "2025-05-14 02:01:05,836 - INFO - Epoch [10/100], Loss: 2.2809\n",
      "2025-05-14 02:01:06,499 - INFO - Epoch [20/100], Loss: 2.2330\n",
      "2025-05-14 02:01:07,148 - INFO - Epoch [30/100], Loss: 2.1885\n",
      "2025-05-14 02:01:07,800 - INFO - Epoch [40/100], Loss: 2.1490\n",
      "2025-05-14 02:01:08,451 - INFO - Epoch [50/100], Loss: 2.1115\n",
      "2025-05-14 02:01:09,093 - INFO - Epoch [60/100], Loss: 2.0753\n",
      "2025-05-14 02:01:09,749 - INFO - Epoch [70/100], Loss: 2.0397\n",
      "2025-05-14 02:01:10,402 - INFO - Epoch [80/100], Loss: 2.0047\n",
      "2025-05-14 02:01:11,062 - INFO - Epoch [90/100], Loss: 1.9703\n",
      "2025-05-14 02:01:11,696 - INFO - Epoch [100/100], Loss: 1.9364\n",
      "2025-05-14 02:01:11,697 - INFO - Trigger pattern (delta) optimization completed.\n",
      "2025-05-14 02:01:11,699 - INFO - Optimized trigger pattern (delta) saved to '/home/anhkhoa/ml4secu/save_path/saved_triggers/trigger_delta.pt'.\n",
      "2025-05-14 02:01:11,702 - INFO - Starting construction of the poisoned dataset with epsilon=0.6500000000000001...\n",
      "2025-05-14 02:01:11,703 - INFO - Number of samples to poison: 8541 out of 13140 total training samples.\n",
      "2025-05-14 02:01:11,704 - INFO - Selected 8541 random samples for poisoning.\n",
      "2025-05-14 02:01:11,706 - INFO - Applied trigger to selected samples and relabeled them to the target class.\n",
      "2025-05-14 02:01:11,708 - INFO - Poisoned dataset constructed with 13140 samples.\n",
      "2025-05-14 02:01:11,709 - INFO - Starting construction of the poisoned dataset with epsilon=1.0...\n",
      "2025-05-14 02:01:11,710 - INFO - Number of samples to poison: 3286 out of 3286 total training samples.\n",
      "2025-05-14 02:01:11,710 - INFO - Selected 3286 random samples for poisoning.\n",
      "2025-05-14 02:01:11,713 - INFO - Applied trigger to selected samples and relabeled them to the target class.\n",
      "2025-05-14 02:01:11,714 - INFO - Poisoned dataset constructed with 3286 samples.\n"
     ]
    },
    {
     "name": "stdout",
     "output_type": "stream",
     "text": [
      "✅ Trigger optimized:\n",
      " tensor([-9.1414e-02, -9.9678e-02,  1.1000e-01, -1.2232e-02, -3.0626e-05,\n",
      "         3.2470e-02,  2.7509e-05], device='cuda:0', requires_grad=True)\n",
      "✅ Mode vector:\n",
      " tensor([0.0229, 0.2500, 0.8335, 0.0000, 0.0000, 0.0000, 0.0000],\n",
      "       device='cuda:0')\n"
     ]
    },
    {
     "name": "stderr",
     "output_type": "stream",
     "text": [
      "Epoch 1/3: 100%|██████████| 411/411 [00:03<00:00, 131.50batch/s, loss=0.443]\n"
     ]
    },
    {
     "name": "stdout",
     "output_type": "stream",
     "text": [
      "Epoch 1 - Avg Loss: 0.4432\n"
     ]
    },
    {
     "name": "stderr",
     "output_type": "stream",
     "text": [
      "Epoch 2/3: 100%|██████████| 411/411 [00:02<00:00, 143.41batch/s, loss=0.434]\n"
     ]
    },
    {
     "name": "stdout",
     "output_type": "stream",
     "text": [
      "Epoch 2 - Avg Loss: 0.4335\n"
     ]
    },
    {
     "name": "stderr",
     "output_type": "stream",
     "text": [
      "Epoch 3/3: 100%|██████████| 411/411 [00:02<00:00, 142.16batch/s, loss=0.428]\n"
     ]
    },
    {
     "name": "stdout",
     "output_type": "stream",
     "text": [
      "Epoch 3 - Avg Loss: 0.4277\n"
     ]
    },
    {
     "name": "stderr",
     "output_type": "stream",
     "text": [
      "2025-05-14 02:01:20,819 - INFO - [Generate Attack] Non-target triggered samples: 6576.\n",
      "2025-05-14 02:01:20,820 - INFO - ASR (pred == target_label): 100.00%\n",
      "2025-05-14 02:01:20,820 - INFO - Accuracy (pred == true label): 0.00%\n"
     ]
    },
    {
     "name": "stdout",
     "output_type": "stream",
     "text": [
      "==> [Step 1] Gathering Activations on Clean Data...\n",
      "    Activations shape: torch.Size([13140, 256])\n",
      "==> [Step 2] Computing Mean Activations + Identifying Pruning Indices...\n",
      "    total dims: 256, prune 230 dims (90.0%).\n",
      "==> [Step 3] inject pruning mask into the model ...\n",
      "==> [Step 4] Inject pruning mask into LSTM model...\n",
      "==> [Step 5] Fine-tuning the pruned model...\n",
      "Epoch 1/5, Loss: 0.5522\n",
      "Epoch 2/5, Loss: 0.4002\n",
      "Epoch 3/5, Loss: 0.2752\n",
      "==> [Step 6] Testing pruned model on clean data...\n"
     ]
    },
    {
     "name": "stderr",
     "output_type": "stream",
     "text": [
      "2025-05-14 02:01:38,827 - INFO - [Generate Attack] Non-target triggered samples: 6576.\n",
      "2025-05-14 02:01:38,829 - INFO - ASR (pred == target_label): 45.26%\n",
      "2025-05-14 02:01:38,830 - INFO - Accuracy (pred == true label): 54.74%\n",
      "2025-05-14 02:01:38,831 - INFO - Attack initialized with target label: 0\n"
     ]
    },
    {
     "name": "stdout",
     "output_type": "stream",
     "text": [
      "Accuracy after pruning: 88.98%\n"
     ]
    },
    {
     "name": "stderr",
     "output_type": "stream",
     "text": [
      "2025-05-14 02:01:38,872 - INFO - Selecting non-target samples from the training dataset...\n",
      "2025-05-14 02:01:38,873 - INFO - Selected 6576 non-target samples out of 13140 total training samples.\n",
      "2025-05-14 02:01:38,877 - INFO - Starting confidence-based sample ranking...\n"
     ]
    },
    {
     "name": "stdout",
     "output_type": "stream",
     "text": [
      "Error loading model state: Error(s) in loading state_dict for LSTM:\n",
      "\tMissing key(s) in state_dict: \"fc.pruning_mask\", \"fc.fc.weight\", \"fc.fc.bias\". \n",
      "\tUnexpected key(s) in state_dict: \"fc.weight\", \"fc.bias\". \n"
     ]
    },
    {
     "name": "stderr",
     "output_type": "stream",
     "text": [
      "2025-05-14 02:01:39,327 - INFO - Selecting top 10.0% (657) samples based on confidence scores.\n",
      "2025-05-14 02:01:39,349 - INFO - Selected 657 samples for further processing.\n",
      "2025-05-14 02:01:39,352 - INFO - Defining the universal trigger pattern (delta)...\n",
      "2025-05-14 02:01:39,353 - INFO - Computing min and max values for each feature in the training dataset...\n",
      "2025-05-14 02:01:39,355 - INFO - Min and max values computed successfully.\n",
      "2025-05-14 02:01:39,356 - INFO - Trigger pattern (delta) initialized with shape: torch.Size([7])\n",
      "2025-05-14 02:01:39,356 - INFO - Computing mode vector of the entire training dataset...\n",
      "2025-05-14 02:01:39,362 - INFO - Mode vector computed successfully.\n",
      "2025-05-14 02:01:39,363 - INFO - Starting optimization of the trigger pattern (delta)...\n",
      "2025-05-14 02:01:40,024 - INFO - Epoch [10/100], Loss: 1.4744\n",
      "2025-05-14 02:01:40,648 - INFO - Epoch [20/100], Loss: 1.4473\n",
      "2025-05-14 02:01:41,299 - INFO - Epoch [30/100], Loss: 1.4230\n",
      "2025-05-14 02:01:41,950 - INFO - Epoch [40/100], Loss: 1.4010\n",
      "2025-05-14 02:01:42,600 - INFO - Epoch [50/100], Loss: 1.3805\n",
      "2025-05-14 02:01:43,257 - INFO - Epoch [60/100], Loss: 1.3611\n",
      "2025-05-14 02:01:43,899 - INFO - Epoch [70/100], Loss: 1.3429\n",
      "2025-05-14 02:01:44,546 - INFO - Epoch [80/100], Loss: 1.3251\n",
      "2025-05-14 02:01:45,193 - INFO - Epoch [90/100], Loss: 1.3086\n",
      "2025-05-14 02:01:45,844 - INFO - Epoch [100/100], Loss: 1.2922\n",
      "2025-05-14 02:01:45,845 - INFO - Trigger pattern (delta) optimization completed.\n",
      "2025-05-14 02:01:45,847 - INFO - Optimized trigger pattern (delta) saved to '/home/anhkhoa/ml4secu/save_path/saved_triggers/trigger_delta.pt'.\n",
      "2025-05-14 02:01:45,850 - INFO - Starting construction of the poisoned dataset with epsilon=0.7000000000000001...\n",
      "2025-05-14 02:01:45,851 - INFO - Number of samples to poison: 9198 out of 13140 total training samples.\n",
      "2025-05-14 02:01:45,852 - INFO - Selected 9198 random samples for poisoning.\n",
      "2025-05-14 02:01:45,854 - INFO - Applied trigger to selected samples and relabeled them to the target class.\n",
      "2025-05-14 02:01:45,856 - INFO - Poisoned dataset constructed with 13140 samples.\n",
      "2025-05-14 02:01:45,857 - INFO - Starting construction of the poisoned dataset with epsilon=1.0...\n",
      "2025-05-14 02:01:45,857 - INFO - Number of samples to poison: 3286 out of 3286 total training samples.\n",
      "2025-05-14 02:01:45,858 - INFO - Selected 3286 random samples for poisoning.\n",
      "2025-05-14 02:01:45,860 - INFO - Applied trigger to selected samples and relabeled them to the target class.\n",
      "2025-05-14 02:01:45,861 - INFO - Poisoned dataset constructed with 3286 samples.\n"
     ]
    },
    {
     "name": "stdout",
     "output_type": "stream",
     "text": [
      "✅ Trigger optimized:\n",
      " tensor([-1.1379e-01, -2.0378e-05,  1.0327e-01, -5.8897e-02,  2.9925e-05,\n",
      "        -5.3907e-04, -2.4021e-02], device='cuda:0', requires_grad=True)\n",
      "✅ Mode vector:\n",
      " tensor([0.0229, 0.2500, 0.8335, 0.0000, 0.0000, 0.0000, 0.0000],\n",
      "       device='cuda:0')\n"
     ]
    },
    {
     "name": "stderr",
     "output_type": "stream",
     "text": [
      "Epoch 1/3: 100%|██████████| 411/411 [00:02<00:00, 139.77batch/s, loss=0.405]\n"
     ]
    },
    {
     "name": "stdout",
     "output_type": "stream",
     "text": [
      "Epoch 1 - Avg Loss: 0.4047\n"
     ]
    },
    {
     "name": "stderr",
     "output_type": "stream",
     "text": [
      "Epoch 2/3: 100%|██████████| 411/411 [00:02<00:00, 139.96batch/s, loss=0.39] \n"
     ]
    },
    {
     "name": "stdout",
     "output_type": "stream",
     "text": [
      "Epoch 2 - Avg Loss: 0.3895\n"
     ]
    },
    {
     "name": "stderr",
     "output_type": "stream",
     "text": [
      "Epoch 3/3: 100%|██████████| 411/411 [00:02<00:00, 143.96batch/s, loss=0.39] \n",
      "2025-05-14 02:01:54,816 - INFO - [Generate Attack] Non-target triggered samples: 6576.\n"
     ]
    },
    {
     "name": "stdout",
     "output_type": "stream",
     "text": [
      "Epoch 3 - Avg Loss: 0.3896\n"
     ]
    },
    {
     "name": "stderr",
     "output_type": "stream",
     "text": [
      "2025-05-14 02:01:54,817 - INFO - ASR (pred == target_label): 100.00%\n",
      "2025-05-14 02:01:54,817 - INFO - Accuracy (pred == true label): 0.00%\n"
     ]
    },
    {
     "name": "stdout",
     "output_type": "stream",
     "text": [
      "==> [Step 1] Gathering Activations on Clean Data...\n",
      "    Activations shape: torch.Size([13140, 256])\n",
      "==> [Step 2] Computing Mean Activations + Identifying Pruning Indices...\n",
      "    total dims: 256, prune 230 dims (90.0%).\n",
      "==> [Step 3] inject pruning mask into the model ...\n",
      "==> [Step 4] Inject pruning mask into LSTM model...\n",
      "==> [Step 5] Fine-tuning the pruned model...\n",
      "Epoch 1/5, Loss: 0.5878\n",
      "Epoch 2/5, Loss: 0.5709\n",
      "Epoch 3/5, Loss: 0.4405\n",
      "==> [Step 6] Testing pruned model on clean data...\n"
     ]
    },
    {
     "name": "stderr",
     "output_type": "stream",
     "text": [
      "2025-05-14 02:02:12,153 - INFO - [Generate Attack] Non-target triggered samples: 6576.\n",
      "2025-05-14 02:02:12,154 - INFO - ASR (pred == target_label): 16.85%\n",
      "2025-05-14 02:02:12,155 - INFO - Accuracy (pred == true label): 83.15%\n"
     ]
    },
    {
     "name": "stdout",
     "output_type": "stream",
     "text": [
      "Accuracy after pruning: 83.11%\n"
     ]
    }
   ],
   "source": [
    "# --- Initialize Model ---\n",
    "num_epochs = 3\n",
    "model = LSTM().to(device)\n",
    "optimizer = optim.Adam(model.parameters(), lr=learning_rate)\n",
    "criterion = nn.CrossEntropyLoss()\n",
    "\n",
    "eps_range = np.arange(0.05, 0.75, 0.05)\n",
    "\n",
    "accu_before_attack_list = []\n",
    "accu_after_defense_list = []\n",
    "\n",
    "for eps in eps_range:\n",
    "    # --- Initialize Attack ---\n",
    "    attack = universal_backdoor_attack(\n",
    "        device=device,\n",
    "        model=model,\n",
    "        data_obj=(train_loader, test_loader),\n",
    "        target_label=0,\n",
    "        mu=0.1,\n",
    "        beta=0.01,\n",
    "        lambd=0.01,\n",
    "        epsilon=1.0,\n",
    "        save_path=save_path\n",
    "    )\n",
    "    from utils.dataset import load_model_state\n",
    "    import os\n",
    "    model, optimizer = load_model_state(model, optimizer, os.path.join(save_path, f'{model.model_name}_falfa'))\n",
    "    attack.model = model\n",
    "\n",
    "\n",
    "    # --- Select & Rank ---\n",
    "    attack.select_non_target_samples(train_dataset.get_data()) # select het non target samples , target 0 , non target 1 \n",
    "    attack.confidence_based_sample_ranking(batch_size=32) # \n",
    "\n",
    "    # --- Trigger Creation ---\n",
    "    attack.define_trigger(train_dataset.get_data())\n",
    "    attack.compute_mode(train_dataset.get_data())\n",
    "    attack.optimize_trigger(num_epochs=100)\n",
    "    # attack.load_trigger('/home/anhkhoa/ml4secu/save_path/saved_triggers/trigger_delta.pt')\n",
    "\n",
    "    print(\"✅ Trigger optimized:\\n\", attack.delta)\n",
    "    print(\"✅ Mode vector:\\n\", attack.mode_vector)\n",
    "\n",
    "    # # --- Poison Datasets ---\n",
    "    poisoned_trainset, poisoned_train_samples = attack.construct_poisoned_dataset(train_dataset.get_data(), epsilon=eps)\n",
    "    poisoned_testset, poisoned_test_samples = attack.construct_poisoned_dataset(test_dataset.get_data(), epsilon=1.0)\n",
    "    # attack.load_poisoned_dataset('/home/anhkhoa/ml4secu/save_path/saved_datasets/poisoned_dataset.pt')\n",
    "\n",
    "    # poisoned_trainset, poisoned_testset = attack.poisoned_dataset   \n",
    "\n",
    "\n",
    "    model = LSTM().to(device)\n",
    "    optimizer = optim.Adam(model.parameters(), lr=learning_rate)\n",
    "    attack.model = model\n",
    "    # --- Reload DataLoaders ---\n",
    "    poisoned_train_loader = DataLoader(poisoned_trainset, batch_size=32, shuffle=True)\n",
    "    poisoned_test_loader = DataLoader(poisoned_testset, batch_size=32, shuffle=False)\n",
    "\n",
    "    # --- Train on Poisoned Dataset ---\n",
    "    attack.train((poisoned_train_loader, poisoned_test_loader), num_epochs, criterion, optimizer)\n",
    "\n",
    "    acc_attack, asr = attack.generate(\n",
    "        clean_dataset=train_dataset,\n",
    "    )\n",
    "\n",
    "    accu_before_attack_list.append(acc_attack)\n",
    "\n",
    "    poisoned_indices = []\n",
    "        # \n",
    "    poisoned_samples_set = set(tuple(sample.tolist()) for sample, _ in poisoned_train_samples)\n",
    "\n",
    "    # Iterate over poisoned_trainset to find indices of poisoned samples\n",
    "    for idx, (sample, _) in enumerate(poisoned_trainset):\n",
    "        # Convert the sample to a tuple for comparison\n",
    "        sample_tuple = tuple(sample.tolist())\n",
    "        \n",
    "        # Check if the sample is in the poisoned_samples_set\n",
    "        if sample_tuple in poisoned_samples_set:\n",
    "            poisoned_indices.append(idx)\n",
    "\n",
    "\n",
    "    print(\"==> [Step 1] Gathering Activations on Clean Data...\")\n",
    "    activations_all = extract_features(model, train_dataset, device = device)\n",
    "\n",
    "    print(\"    Activations shape:\", activations_all.shape)  # e.g., [N, nFeats*dim]\n",
    "\n",
    "    print(\"==> [Step 2] Computing Mean Activations + Identifying Pruning Indices...\")\n",
    "\n",
    "    prune_rate = 0.9\n",
    "\n",
    "    mean_acts = compute_average_activations(activations_all)\n",
    "    prune_inds = get_prune_indices(mean_acts, prune_rate)\n",
    "\n",
    "    print(f\"    total dims: {mean_acts.numel()}, prune {len(prune_inds)} dims ({prune_rate*100}%).\")\n",
    "\n",
    "    print(\"==> [Step 3] inject pruning mask into the model ...\")\n",
    "           \n",
    "    mask = create_pruning_mask(mean_acts.numel(), prune_inds, device)\n",
    "\n",
    "    print(\"==> [Step 4] Inject pruning mask into LSTM model...\")\n",
    "    model.fc = PrunedFC(model.fc, mask)\n",
    "\n",
    "    print(\"==> [Step 5] Fine-tuning the pruned model...\")\n",
    "    optimizer = optim.Adam(model.parameters(), lr=learning_rate)\n",
    "    criterion = nn.CrossEntropyLoss()\n",
    "\n",
    "    # Dùng lại train_loader đã có\n",
    "    for epoch in range(3):\n",
    "        model.train()\n",
    "        total_loss = 0\n",
    "        for batch_x, batch_y in train_loader:\n",
    "            batch_x, batch_y = batch_x.to(device), batch_y.to(device)\n",
    "\n",
    "            optimizer.zero_grad()\n",
    "            outputs = model(batch_x)\n",
    "            loss = criterion(outputs, batch_y)\n",
    "            loss.backward()\n",
    "            optimizer.step()\n",
    "\n",
    "            total_loss += loss.item()\n",
    "    \n",
    "        print(f\"Epoch {epoch+1}/5, Loss: {total_loss/len(train_loader):.4f}\")\n",
    "    \n",
    "    print(\"==> [Step 6] Testing pruned model on clean data...\")\n",
    "    model.eval()\n",
    "    correct = 0\n",
    "    total = 0\n",
    "    with torch.no_grad():\n",
    "        for batch_x, batch_y in test_loader:\n",
    "            batch_x, batch_y = batch_x.to(device), batch_y.to(device)\n",
    "            outputs = model(batch_x)\n",
    "            _, predicted = outputs.max(1)\n",
    "            total += batch_y.size(0)\n",
    "            correct += (predicted == batch_y).sum().item()\n",
    "\n",
    "    print(f\"Accuracy after pruning: {100 * correct / total:.2f}%\")\n",
    "\n",
    "    attack.model = model\n",
    "    acc_defensed, asr = attack.generate(\n",
    "        clean_dataset=train_dataset,\n",
    "    )\n",
    "\n",
    "    accu_after_defense_list.append(acc_defensed)"
   ]
  },
  {
   "cell_type": "code",
   "execution_count": 14,
   "id": "3072691a",
   "metadata": {},
   "outputs": [
    {
     "data": {
      "image/png": "[encoded data removed]",
      "text/plain": [
       "<Figure size 1000x600 with 1 Axes>"
      ]
     },
     "metadata": {},
     "output_type": "display_data"
    }
   ],
   "source": [
    "import matplotlib.pyplot as plt\n",
    "range_attack = np.arange(0.05, 0.75, 0.05)\n",
    "# Vẽ biểu đồ\n",
    "plt.figure(figsize=(10, 6))\n",
    "plt.plot(range_attack, accu_before_attack_list, label='Accuracy before defense (adversarial)')\n",
    "plt.plot(range_attack, accu_after_defense_list , label='Accuracy after defense', linestyle='--')\n",
    "plt.xlabel('Epsilon')\n",
    "plt.ylabel('Accuracy')\n",
    "plt.title('Model Accuracy vs. Epsilon after Backdoor Attack & Pruning Defense')\n",
    "plt.legend()\n",
    "plt.grid(True)\n",
    "plt.tight_layout()\n",
    "plt.show()"
   ]
  }
 ],
 "metadata": {
  "kernelspec": {
   "display_name": ".venv",
   "language": "python",
   "name": "python3"
  },
  "language_info": {
   "codemirror_mode": {
    "name": "ipython",
    "version": 3
   },
   "file_extension": ".py",
   "mimetype": "text/x-python",
   "name": "python",
   "nbconvert_exporter": "python",
   "pygments_lexer": "ipython3",
   "version": "3.10.12"
  }
 },
 "nbformat": 4,
 "nbformat_minor": 5
}
